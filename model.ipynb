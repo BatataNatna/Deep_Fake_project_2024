{
 "cells": [
  {
   "cell_type": "markdown",
   "id": "adf5964a",
   "metadata": {},
   "source": [
    "# Ce model est pas fonctionnel et a encore besoin d'etre restructuré complètememnt.\n",
    "\n",
    "Nous sommes dans un problème de classification (False, True). \n",
    "Nous allons concevoir un model de deep Learning à plusieurs couches pour prédire si une news est vrai ou fausse."
   ]
  },
  {
   "cell_type": "code",
   "execution_count": 6,
   "id": "d038e66b",
   "metadata": {},
   "outputs": [
    {
     "data": {
      "text/plain": [
       "array([[1.03343698, 1.02880757, 1.02075672, 0.80036396, 0.88522004,\n",
       "        1.55594158],\n",
       "       [1.44528221, 1.4406528 , 1.43260196, 1.21220919, 1.29706528,\n",
       "        1.96778682],\n",
       "       [1.62161478, 1.61698537, 1.60893452, 1.38854176, 1.47339784,\n",
       "        2.14411938],\n",
       "       [1.25581536, 1.25118595, 1.24313511, 1.02274234, 1.10759843,\n",
       "        1.77831996]])"
      ]
     },
     "execution_count": 6,
     "metadata": {},
     "output_type": "execute_result"
    }
   ],
   "source": [
    "\n",
    "# Créer un vecteur de dimension 4x1\n",
    "x = np.random.rand(4, 1)  # Un vecteur avec des valeurs aléatoires\n",
    "\n",
    "# Créer une matrice de dimension 4x6\n",
    "w = np.random.rand(4, 6)  # Une matrice avec des valeurs aléatoires\n",
    "\n",
    "# Créer un autre vecteur de dimension 4x1\n",
    "b = np.random.rand(4, 1)  # Un autre vecteur avec des valeurs aléatoires\n",
    "x.T.dot(w)+b"
   ]
  },
  {
   "cell_type": "code",
   "execution_count": 3,
   "id": "3a917bfb",
   "metadata": {},
   "outputs": [],
   "source": [
    "import numpy as np"
   ]
  },
  {
   "cell_type": "code",
   "execution_count": 5,
   "id": "3f25677a",
   "metadata": {},
   "outputs": [
    {
     "data": {
      "text/plain": [
       "array([[0.0347806 , 0.78164879, 0.30000736, 0.20724432, 0.76231055,\n",
       "        0.80199397],\n",
       "       [0.37810362, 0.37119878, 0.54056123, 0.67779416, 0.85662192,\n",
       "        0.74619094]])"
      ]
     },
     "execution_count": 5,
     "metadata": {},
     "output_type": "execute_result"
    }
   ],
   "source": [
    "#hyperparametres: \n",
    "params={\n",
    "    \"Input Layer Neuron\": 4,#comme on a 4 inputs: titre,text, subject, date\n",
    "    \"Hidden Layer Neurons\": [6,3,4,5,6], # Une liste de neurones, chaque intex équivaut à la couche cachée respective.\n",
    "    \"Activation Function Hidden Layer\":['ReLu'], #une liste de fonctions d'activation, chaque couche caché aura sa propre fonction d'activation\n",
    "    \"Output Layer_Neurons\": 2, # car on veut 2 sorties, soit true, soit false\n",
    "    \"Activation Function Output Layer\": \"sigmoid\", #on commence avec la sigmoid car elle est la plus optimal pour la classification binaire.\n",
    "}\n",
    "\n",
    "\n",
    "class DeepLearningModelClassificationFakeNews():\n",
    "    def __init__(self,params=None):\n",
    "        #initialisation des parametres\n",
    "        if params==None:\n",
    "            #si params n'es pas set on lui affecte des valeurs par défaut, il prend la forme d'un perceptron classique.\n",
    "            self.inputLayerNeurons= 4\n",
    "            self.hiddenLayerNeurons= [15]\n",
    "            self.activationFunctionHiddenLayerList= ['ReLu']\n",
    "            self.outputLayerNeurons= 2\n",
    "            self.activationFunctionOutputLayer= \"sigmoid\"\n",
    "        else:\n",
    "            self.inputLayerNeurons= params['Input Layer Neuron']\n",
    "            self.hiddenLayerNeurons= params['Hidden Layer Neurons']\n",
    "            self.activationFunctionHiddenLayerList= params['Activation Function Hidden Layer']\n",
    "            self.outputLayerNeurons= params['Output Layer_Neurons']\n",
    "            self.activationFunctionOutputLayer=params['Activation Function Output Layer']\n",
    "        \n",
    "        #on initialise les poids, de manière dynamique.\n",
    "        \n",
    "        \n",
    "        #on initialise les biais\n",
    "        \n",
    "    def setWeigths(self):\n",
    "        weight_list=[]\n",
    "        k=len(self.hiddenLayerNeurons)\n",
    "        #pour k couches, on va créer une matrice de poids.\n",
    "        \n",
    "        #on es à la premièr couche, alors on créer la matrice à partir de la couche d'entrée et la premiere couche.\n",
    "        w_0= np.random.rand(self.inputLayerNeurons,self.hiddenLayerNeurons[0])\n",
    "        weight_list.append(w_0)\n",
    "        \n",
    "        #on es entre deux couches cachées (on fait k-1, car on ne créer pas encore le poids entre la derniere couche caché et la couche de sortie)\n",
    "        for layer in range(1,len(self.hiddenLayerNeurons)):\n",
    "            #we set the previous layer and the present layer\n",
    "            w=np.random.rand()\n",
    "            #we add it.\n",
    "            \n",
    "        #on créer le poids entre la dernière couche cachée et la couche de sortie\n",
    "        \n",
    "        w_k=np.random.rand(self.outputLayerNeurons,self.hiddenLayerNeurons[-1])\n",
    "        weight_list.append(w_k)\n",
    "        return weight_list\n",
    "            \n",
    "        \n",
    "        \n",
    "    \n",
    "model=DeepLearningModelClassificationFakeNews(params)\n",
    "model.setWeigths()[-1]"
   ]
  },
  {
   "cell_type": "code",
   "execution_count": null,
   "id": "1318198f",
   "metadata": {},
   "outputs": [],
   "source": []
  }
 ],
 "metadata": {
  "kernelspec": {
   "display_name": "Python 3",
   "language": "python",
   "name": "python3"
  },
  "language_info": {
   "codemirror_mode": {
    "name": "ipython",
    "version": 3
   },
   "file_extension": ".py",
   "mimetype": "text/x-python",
   "name": "python",
   "nbconvert_exporter": "python",
   "pygments_lexer": "ipython3",
   "version": "3.6.10"
  }
 },
 "nbformat": 4,
 "nbformat_minor": 5
}
