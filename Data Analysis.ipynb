{
 "cells": [
  {
   "cell_type": "markdown",
   "id": "064c9441",
   "metadata": {},
   "source": [
    "# libraries"
   ]
  },
  {
   "cell_type": "code",
   "execution_count": 2,
   "id": "e68e2eae",
   "metadata": {},
   "outputs": [],
   "source": [
    "import numpy as np\n",
    "import pandas as pd\n",
    "from datetime import datetime\n",
    "import matplotlib.pyplot as plt"
   ]
  },
  {
   "cell_type": "markdown",
   "id": "ca13e1ca",
   "metadata": {},
   "source": [
    "# Data Access\n",
    "Nous accèdons aux données. Nous allons les séparées en fake et true dataset."
   ]
  },
  {
   "cell_type": "code",
   "execution_count": 3,
   "id": "f87eadc6",
   "metadata": {},
   "outputs": [
    {
     "data": {
      "text/html": [
       "<div>\n",
       "<style scoped>\n",
       "    .dataframe tbody tr th:only-of-type {\n",
       "        vertical-align: middle;\n",
       "    }\n",
       "\n",
       "    .dataframe tbody tr th {\n",
       "        vertical-align: top;\n",
       "    }\n",
       "\n",
       "    .dataframe thead th {\n",
       "        text-align: right;\n",
       "    }\n",
       "</style>\n",
       "<table border=\"1\" class=\"dataframe\">\n",
       "  <thead>\n",
       "    <tr style=\"text-align: right;\">\n",
       "      <th></th>\n",
       "      <th>title</th>\n",
       "      <th>text</th>\n",
       "      <th>subject</th>\n",
       "      <th>date</th>\n",
       "    </tr>\n",
       "  </thead>\n",
       "  <tbody>\n",
       "    <tr>\n",
       "      <th>0</th>\n",
       "      <td>Donald Trump Sends Out Embarrassing New Year’...</td>\n",
       "      <td>Donald Trump just couldn t wish all Americans ...</td>\n",
       "      <td>News</td>\n",
       "      <td>December 31, 2017</td>\n",
       "    </tr>\n",
       "    <tr>\n",
       "      <th>1</th>\n",
       "      <td>Drunk Bragging Trump Staffer Started Russian ...</td>\n",
       "      <td>House Intelligence Committee Chairman Devin Nu...</td>\n",
       "      <td>News</td>\n",
       "      <td>December 31, 2017</td>\n",
       "    </tr>\n",
       "    <tr>\n",
       "      <th>2</th>\n",
       "      <td>Sheriff David Clarke Becomes An Internet Joke...</td>\n",
       "      <td>On Friday, it was revealed that former Milwauk...</td>\n",
       "      <td>News</td>\n",
       "      <td>December 30, 2017</td>\n",
       "    </tr>\n",
       "    <tr>\n",
       "      <th>3</th>\n",
       "      <td>Trump Is So Obsessed He Even Has Obama’s Name...</td>\n",
       "      <td>On Christmas day, Donald Trump announced that ...</td>\n",
       "      <td>News</td>\n",
       "      <td>December 29, 2017</td>\n",
       "    </tr>\n",
       "    <tr>\n",
       "      <th>4</th>\n",
       "      <td>Pope Francis Just Called Out Donald Trump Dur...</td>\n",
       "      <td>Pope Francis used his annual Christmas Day mes...</td>\n",
       "      <td>News</td>\n",
       "      <td>December 25, 2017</td>\n",
       "    </tr>\n",
       "  </tbody>\n",
       "</table>\n",
       "</div>"
      ],
      "text/plain": [
       "                                               title  \\\n",
       "0   Donald Trump Sends Out Embarrassing New Year’...   \n",
       "1   Drunk Bragging Trump Staffer Started Russian ...   \n",
       "2   Sheriff David Clarke Becomes An Internet Joke...   \n",
       "3   Trump Is So Obsessed He Even Has Obama’s Name...   \n",
       "4   Pope Francis Just Called Out Donald Trump Dur...   \n",
       "\n",
       "                                                text subject  \\\n",
       "0  Donald Trump just couldn t wish all Americans ...    News   \n",
       "1  House Intelligence Committee Chairman Devin Nu...    News   \n",
       "2  On Friday, it was revealed that former Milwauk...    News   \n",
       "3  On Christmas day, Donald Trump announced that ...    News   \n",
       "4  Pope Francis used his annual Christmas Day mes...    News   \n",
       "\n",
       "                date  \n",
       "0  December 31, 2017  \n",
       "1  December 31, 2017  \n",
       "2  December 30, 2017  \n",
       "3  December 29, 2017  \n",
       "4  December 25, 2017  "
      ]
     },
     "execution_count": 3,
     "metadata": {},
     "output_type": "execute_result"
    }
   ],
   "source": [
    "fake_df=pd.read_csv(\"data/Fake.csv\")\n",
    "fake_df.head()"
   ]
  },
  {
   "cell_type": "code",
   "execution_count": 4,
   "id": "d20613fd",
   "metadata": {},
   "outputs": [
    {
     "data": {
      "text/html": [
       "<div>\n",
       "<style scoped>\n",
       "    .dataframe tbody tr th:only-of-type {\n",
       "        vertical-align: middle;\n",
       "    }\n",
       "\n",
       "    .dataframe tbody tr th {\n",
       "        vertical-align: top;\n",
       "    }\n",
       "\n",
       "    .dataframe thead th {\n",
       "        text-align: right;\n",
       "    }\n",
       "</style>\n",
       "<table border=\"1\" class=\"dataframe\">\n",
       "  <thead>\n",
       "    <tr style=\"text-align: right;\">\n",
       "      <th></th>\n",
       "      <th>title</th>\n",
       "      <th>text</th>\n",
       "      <th>subject</th>\n",
       "      <th>date</th>\n",
       "    </tr>\n",
       "  </thead>\n",
       "  <tbody>\n",
       "    <tr>\n",
       "      <th>0</th>\n",
       "      <td>As U.S. budget fight looms, Republicans flip t...</td>\n",
       "      <td>WASHINGTON (Reuters) - The head of a conservat...</td>\n",
       "      <td>politicsNews</td>\n",
       "      <td>December 31, 2017</td>\n",
       "    </tr>\n",
       "    <tr>\n",
       "      <th>1</th>\n",
       "      <td>U.S. military to accept transgender recruits o...</td>\n",
       "      <td>WASHINGTON (Reuters) - Transgender people will...</td>\n",
       "      <td>politicsNews</td>\n",
       "      <td>December 29, 2017</td>\n",
       "    </tr>\n",
       "    <tr>\n",
       "      <th>2</th>\n",
       "      <td>Senior U.S. Republican senator: 'Let Mr. Muell...</td>\n",
       "      <td>WASHINGTON (Reuters) - The special counsel inv...</td>\n",
       "      <td>politicsNews</td>\n",
       "      <td>December 31, 2017</td>\n",
       "    </tr>\n",
       "    <tr>\n",
       "      <th>3</th>\n",
       "      <td>FBI Russia probe helped by Australian diplomat...</td>\n",
       "      <td>WASHINGTON (Reuters) - Trump campaign adviser ...</td>\n",
       "      <td>politicsNews</td>\n",
       "      <td>December 30, 2017</td>\n",
       "    </tr>\n",
       "    <tr>\n",
       "      <th>4</th>\n",
       "      <td>Trump wants Postal Service to charge 'much mor...</td>\n",
       "      <td>SEATTLE/WASHINGTON (Reuters) - President Donal...</td>\n",
       "      <td>politicsNews</td>\n",
       "      <td>December 29, 2017</td>\n",
       "    </tr>\n",
       "  </tbody>\n",
       "</table>\n",
       "</div>"
      ],
      "text/plain": [
       "                                               title  \\\n",
       "0  As U.S. budget fight looms, Republicans flip t...   \n",
       "1  U.S. military to accept transgender recruits o...   \n",
       "2  Senior U.S. Republican senator: 'Let Mr. Muell...   \n",
       "3  FBI Russia probe helped by Australian diplomat...   \n",
       "4  Trump wants Postal Service to charge 'much mor...   \n",
       "\n",
       "                                                text       subject  \\\n",
       "0  WASHINGTON (Reuters) - The head of a conservat...  politicsNews   \n",
       "1  WASHINGTON (Reuters) - Transgender people will...  politicsNews   \n",
       "2  WASHINGTON (Reuters) - The special counsel inv...  politicsNews   \n",
       "3  WASHINGTON (Reuters) - Trump campaign adviser ...  politicsNews   \n",
       "4  SEATTLE/WASHINGTON (Reuters) - President Donal...  politicsNews   \n",
       "\n",
       "                 date  \n",
       "0  December 31, 2017   \n",
       "1  December 29, 2017   \n",
       "2  December 31, 2017   \n",
       "3  December 30, 2017   \n",
       "4  December 29, 2017   "
      ]
     },
     "execution_count": 4,
     "metadata": {},
     "output_type": "execute_result"
    }
   ],
   "source": [
    "true_df=pd.read_csv(\"data/True.csv\")\n",
    "true_df.head()"
   ]
  },
  {
   "cell_type": "markdown",
   "id": "527c1ea3",
   "metadata": {},
   "source": [
    "# Data cleaning\n",
    "Dans ce dataframe nous analysons si les données sont propres (si elles contiennet des Nan Values, si le type des variables est approprié est approprié. Dans un premier temps nous allons créer un dataframe globale qui contient l'intégralité des données et on va créer une colonne \"IsFake\" qui contient \"True\" ou \"False\" pour classifier les données.\n"
   ]
  },
  {
   "cell_type": "code",
   "execution_count": 5,
   "id": "4bdd716a",
   "metadata": {},
   "outputs": [
    {
     "data": {
      "text/html": [
       "<div>\n",
       "<style scoped>\n",
       "    .dataframe tbody tr th:only-of-type {\n",
       "        vertical-align: middle;\n",
       "    }\n",
       "\n",
       "    .dataframe tbody tr th {\n",
       "        vertical-align: top;\n",
       "    }\n",
       "\n",
       "    .dataframe thead th {\n",
       "        text-align: right;\n",
       "    }\n",
       "</style>\n",
       "<table border=\"1\" class=\"dataframe\">\n",
       "  <thead>\n",
       "    <tr style=\"text-align: right;\">\n",
       "      <th></th>\n",
       "      <th>title</th>\n",
       "      <th>text</th>\n",
       "      <th>subject</th>\n",
       "      <th>date</th>\n",
       "      <th>isFake</th>\n",
       "    </tr>\n",
       "  </thead>\n",
       "  <tbody>\n",
       "    <tr>\n",
       "      <th>0</th>\n",
       "      <td>Donald Trump Sends Out Embarrassing New Year’...</td>\n",
       "      <td>Donald Trump just couldn t wish all Americans ...</td>\n",
       "      <td>News</td>\n",
       "      <td>December 31, 2017</td>\n",
       "      <td>True</td>\n",
       "    </tr>\n",
       "  </tbody>\n",
       "</table>\n",
       "</div>"
      ],
      "text/plain": [
       "                                               title  \\\n",
       "0   Donald Trump Sends Out Embarrassing New Year’...   \n",
       "\n",
       "                                                text subject  \\\n",
       "0  Donald Trump just couldn t wish all Americans ...    News   \n",
       "\n",
       "                date  isFake  \n",
       "0  December 31, 2017    True  "
      ]
     },
     "execution_count": 5,
     "metadata": {},
     "output_type": "execute_result"
    }
   ],
   "source": [
    "# On ajoute à chaque dataframe la colonne \"isFake\"\n",
    "fake_df[\"isFake\"]=True\n",
    "fake_df.head(1)"
   ]
  },
  {
   "cell_type": "code",
   "execution_count": 6,
   "id": "19177378",
   "metadata": {},
   "outputs": [
    {
     "data": {
      "text/html": [
       "<div>\n",
       "<style scoped>\n",
       "    .dataframe tbody tr th:only-of-type {\n",
       "        vertical-align: middle;\n",
       "    }\n",
       "\n",
       "    .dataframe tbody tr th {\n",
       "        vertical-align: top;\n",
       "    }\n",
       "\n",
       "    .dataframe thead th {\n",
       "        text-align: right;\n",
       "    }\n",
       "</style>\n",
       "<table border=\"1\" class=\"dataframe\">\n",
       "  <thead>\n",
       "    <tr style=\"text-align: right;\">\n",
       "      <th></th>\n",
       "      <th>title</th>\n",
       "      <th>text</th>\n",
       "      <th>subject</th>\n",
       "      <th>date</th>\n",
       "      <th>isFake</th>\n",
       "    </tr>\n",
       "  </thead>\n",
       "  <tbody>\n",
       "    <tr>\n",
       "      <th>0</th>\n",
       "      <td>As U.S. budget fight looms, Republicans flip t...</td>\n",
       "      <td>WASHINGTON (Reuters) - The head of a conservat...</td>\n",
       "      <td>politicsNews</td>\n",
       "      <td>December 31, 2017</td>\n",
       "      <td>False</td>\n",
       "    </tr>\n",
       "  </tbody>\n",
       "</table>\n",
       "</div>"
      ],
      "text/plain": [
       "                                               title  \\\n",
       "0  As U.S. budget fight looms, Republicans flip t...   \n",
       "\n",
       "                                                text       subject  \\\n",
       "0  WASHINGTON (Reuters) - The head of a conservat...  politicsNews   \n",
       "\n",
       "                 date  isFake  \n",
       "0  December 31, 2017    False  "
      ]
     },
     "execution_count": 6,
     "metadata": {},
     "output_type": "execute_result"
    }
   ],
   "source": [
    "true_df[\"isFake\"]=False\n",
    "true_df.head(1)"
   ]
  },
  {
   "cell_type": "code",
   "execution_count": 7,
   "id": "69b48532",
   "metadata": {},
   "outputs": [
    {
     "data": {
      "text/html": [
       "<div>\n",
       "<style scoped>\n",
       "    .dataframe tbody tr th:only-of-type {\n",
       "        vertical-align: middle;\n",
       "    }\n",
       "\n",
       "    .dataframe tbody tr th {\n",
       "        vertical-align: top;\n",
       "    }\n",
       "\n",
       "    .dataframe thead th {\n",
       "        text-align: right;\n",
       "    }\n",
       "</style>\n",
       "<table border=\"1\" class=\"dataframe\">\n",
       "  <thead>\n",
       "    <tr style=\"text-align: right;\">\n",
       "      <th></th>\n",
       "      <th>title</th>\n",
       "      <th>text</th>\n",
       "      <th>subject</th>\n",
       "      <th>date</th>\n",
       "      <th>isFake</th>\n",
       "    </tr>\n",
       "  </thead>\n",
       "  <tbody>\n",
       "    <tr>\n",
       "      <th>0</th>\n",
       "      <td>Donald Trump Sends Out Embarrassing New Year’...</td>\n",
       "      <td>Donald Trump just couldn t wish all Americans ...</td>\n",
       "      <td>News</td>\n",
       "      <td>December 31, 2017</td>\n",
       "      <td>True</td>\n",
       "    </tr>\n",
       "    <tr>\n",
       "      <th>1</th>\n",
       "      <td>Drunk Bragging Trump Staffer Started Russian ...</td>\n",
       "      <td>House Intelligence Committee Chairman Devin Nu...</td>\n",
       "      <td>News</td>\n",
       "      <td>December 31, 2017</td>\n",
       "      <td>True</td>\n",
       "    </tr>\n",
       "    <tr>\n",
       "      <th>2</th>\n",
       "      <td>Sheriff David Clarke Becomes An Internet Joke...</td>\n",
       "      <td>On Friday, it was revealed that former Milwauk...</td>\n",
       "      <td>News</td>\n",
       "      <td>December 30, 2017</td>\n",
       "      <td>True</td>\n",
       "    </tr>\n",
       "    <tr>\n",
       "      <th>3</th>\n",
       "      <td>Trump Is So Obsessed He Even Has Obama’s Name...</td>\n",
       "      <td>On Christmas day, Donald Trump announced that ...</td>\n",
       "      <td>News</td>\n",
       "      <td>December 29, 2017</td>\n",
       "      <td>True</td>\n",
       "    </tr>\n",
       "    <tr>\n",
       "      <th>4</th>\n",
       "      <td>Pope Francis Just Called Out Donald Trump Dur...</td>\n",
       "      <td>Pope Francis used his annual Christmas Day mes...</td>\n",
       "      <td>News</td>\n",
       "      <td>December 25, 2017</td>\n",
       "      <td>True</td>\n",
       "    </tr>\n",
       "    <tr>\n",
       "      <th>...</th>\n",
       "      <td>...</td>\n",
       "      <td>...</td>\n",
       "      <td>...</td>\n",
       "      <td>...</td>\n",
       "      <td>...</td>\n",
       "    </tr>\n",
       "    <tr>\n",
       "      <th>21412</th>\n",
       "      <td>'Fully committed' NATO backs new U.S. approach...</td>\n",
       "      <td>BRUSSELS (Reuters) - NATO allies on Tuesday we...</td>\n",
       "      <td>worldnews</td>\n",
       "      <td>August 22, 2017</td>\n",
       "      <td>False</td>\n",
       "    </tr>\n",
       "    <tr>\n",
       "      <th>21413</th>\n",
       "      <td>LexisNexis withdrew two products from Chinese ...</td>\n",
       "      <td>LONDON (Reuters) - LexisNexis, a provider of l...</td>\n",
       "      <td>worldnews</td>\n",
       "      <td>August 22, 2017</td>\n",
       "      <td>False</td>\n",
       "    </tr>\n",
       "    <tr>\n",
       "      <th>21414</th>\n",
       "      <td>Minsk cultural hub becomes haven from authorities</td>\n",
       "      <td>MINSK (Reuters) - In the shadow of disused Sov...</td>\n",
       "      <td>worldnews</td>\n",
       "      <td>August 22, 2017</td>\n",
       "      <td>False</td>\n",
       "    </tr>\n",
       "    <tr>\n",
       "      <th>21415</th>\n",
       "      <td>Vatican upbeat on possibility of Pope Francis ...</td>\n",
       "      <td>MOSCOW (Reuters) - Vatican Secretary of State ...</td>\n",
       "      <td>worldnews</td>\n",
       "      <td>August 22, 2017</td>\n",
       "      <td>False</td>\n",
       "    </tr>\n",
       "    <tr>\n",
       "      <th>21416</th>\n",
       "      <td>Indonesia to buy $1.14 billion worth of Russia...</td>\n",
       "      <td>JAKARTA (Reuters) - Indonesia will buy 11 Sukh...</td>\n",
       "      <td>worldnews</td>\n",
       "      <td>August 22, 2017</td>\n",
       "      <td>False</td>\n",
       "    </tr>\n",
       "  </tbody>\n",
       "</table>\n",
       "<p>44898 rows × 5 columns</p>\n",
       "</div>"
      ],
      "text/plain": [
       "                                                   title  \\\n",
       "0       Donald Trump Sends Out Embarrassing New Year’...   \n",
       "1       Drunk Bragging Trump Staffer Started Russian ...   \n",
       "2       Sheriff David Clarke Becomes An Internet Joke...   \n",
       "3       Trump Is So Obsessed He Even Has Obama’s Name...   \n",
       "4       Pope Francis Just Called Out Donald Trump Dur...   \n",
       "...                                                  ...   \n",
       "21412  'Fully committed' NATO backs new U.S. approach...   \n",
       "21413  LexisNexis withdrew two products from Chinese ...   \n",
       "21414  Minsk cultural hub becomes haven from authorities   \n",
       "21415  Vatican upbeat on possibility of Pope Francis ...   \n",
       "21416  Indonesia to buy $1.14 billion worth of Russia...   \n",
       "\n",
       "                                                    text    subject  \\\n",
       "0      Donald Trump just couldn t wish all Americans ...       News   \n",
       "1      House Intelligence Committee Chairman Devin Nu...       News   \n",
       "2      On Friday, it was revealed that former Milwauk...       News   \n",
       "3      On Christmas day, Donald Trump announced that ...       News   \n",
       "4      Pope Francis used his annual Christmas Day mes...       News   \n",
       "...                                                  ...        ...   \n",
       "21412  BRUSSELS (Reuters) - NATO allies on Tuesday we...  worldnews   \n",
       "21413  LONDON (Reuters) - LexisNexis, a provider of l...  worldnews   \n",
       "21414  MINSK (Reuters) - In the shadow of disused Sov...  worldnews   \n",
       "21415  MOSCOW (Reuters) - Vatican Secretary of State ...  worldnews   \n",
       "21416  JAKARTA (Reuters) - Indonesia will buy 11 Sukh...  worldnews   \n",
       "\n",
       "                    date  isFake  \n",
       "0      December 31, 2017    True  \n",
       "1      December 31, 2017    True  \n",
       "2      December 30, 2017    True  \n",
       "3      December 29, 2017    True  \n",
       "4      December 25, 2017    True  \n",
       "...                  ...     ...  \n",
       "21412   August 22, 2017    False  \n",
       "21413   August 22, 2017    False  \n",
       "21414   August 22, 2017    False  \n",
       "21415   August 22, 2017    False  \n",
       "21416   August 22, 2017    False  \n",
       "\n",
       "[44898 rows x 5 columns]"
      ]
     },
     "execution_count": 7,
     "metadata": {},
     "output_type": "execute_result"
    }
   ],
   "source": [
    "df=pd.concat([fake_df,true_df])\n",
    "df"
   ]
  },
  {
   "cell_type": "code",
   "execution_count": 8,
   "id": "e4d29965",
   "metadata": {},
   "outputs": [
    {
     "name": "stdout",
     "output_type": "stream",
     "text": [
      "<class 'pandas.core.frame.DataFrame'>\n",
      "Int64Index: 44898 entries, 0 to 21416\n",
      "Data columns (total 5 columns):\n",
      "title      44898 non-null object\n",
      "text       44898 non-null object\n",
      "subject    44898 non-null object\n",
      "date       44898 non-null object\n",
      "isFake     44898 non-null bool\n",
      "dtypes: bool(1), object(4)\n",
      "memory usage: 1.8+ MB\n"
     ]
    }
   ],
   "source": [
    "#nous allons maintenant adapter les types de données\n",
    "# Dans quelle format sont les données ?\n",
    "\n",
    "df.info()"
   ]
  },
  {
   "cell_type": "code",
   "execution_count": 9,
   "id": "31e0bc97",
   "metadata": {},
   "outputs": [
    {
     "name": "stdout",
     "output_type": "stream",
     "text": [
      "Dates invalides: ['19-Feb-18', '18-Feb-18', '17-Feb-18', '16-Feb-18', '15-Feb-18', '14-Feb-18', 'Dec 31, 2017', 'Dec 30, 2017', 'Dec 29, 2017', 'Dec 28, 2017', 'Dec 27, 2017', 'Dec 26, 2017', 'Dec 25, 2017', 'Dec 24, 2017', 'Dec 23, 2017', 'Dec 22, 2017', 'Dec 21, 2017', 'Dec 20, 2017', 'Dec 19, 2017', 'Dec 18, 2017', 'Dec 17, 2017', 'Dec 16, 2017', 'Dec 15, 2017', 'Dec 14, 2017', 'Dec 13, 2017', 'Dec 12, 2017', 'Dec 11, 2017', 'Dec 10, 2017', 'Dec 9, 2017', 'Dec 8, 2017', 'Dec 7, 2017', 'Dec 6, 2017', 'Dec 5, 2017', 'Dec 4, 2017', 'Dec 3, 2017', 'Dec 2, 2017', 'Dec 1, 2017', 'Nov 30, 2017', 'Nov 29, 2017', 'Nov 28, 2017', 'Nov 27, 2017', 'Nov 26, 2017', 'Nov 25, 2017', 'https://100percentfedup.com/served-roy-moore-vietnamletter-veteran-sets-record-straight-honorable-decent-respectable-patriotic-commander-soldier/', 'Nov 24, 2017', 'Nov 23, 2017', 'Nov 22, 2017', 'Nov 21, 2017', 'Nov 20, 2017', 'Nov 19, 2017', 'Nov 18, 2017', 'Nov 17, 2017', 'Nov 16, 2017', 'Nov 15, 2017', 'Nov 14, 2017', 'Nov 13, 2017', 'Nov 12, 2017', 'Nov 11, 2017', 'Nov 10, 2017', 'Nov 9, 2017', 'Nov 8, 2017', 'Nov 7, 2017', 'Nov 6, 2017', 'Nov 5, 2017', 'Nov 4, 2017', 'Nov 3, 2017', 'Nov 2, 2017', 'Nov 1, 2017', 'Oct 31, 2017', 'Oct 30, 2017', 'Oct 29, 2017', 'Oct 28, 2017', 'Oct 27, 2017', 'Oct 26, 2017', 'Oct 25, 2017', 'Oct 24, 2017', 'Oct 23, 2017', 'Oct 22, 2017', 'Oct 21, 2017', 'Oct 20, 2017', 'Oct 19, 2017', 'Oct 18, 2017', 'Oct 17, 2017', 'Oct 16, 2017', 'Oct 15, 2017', 'Oct 14, 2017', 'Oct 13, 2017', 'Oct 12, 2017', 'Oct 11, 2017', 'Oct 10, 2017', 'Oct 9, 2017', 'Oct 8, 2017', 'Oct 7, 2017', 'Oct 6, 2017', 'Oct 5, 2017', 'Oct 4, 2017', 'Oct 3, 2017', 'Oct 2, 2017', 'Oct 1, 2017', 'Sep 30, 2017', 'Sep 29, 2017', 'Sep 28, 2017', 'Sep 27, 2017', 'Sep 26, 2017', 'Sep 25, 2017', 'Sep 24, 2017', 'Sep 23, 2017', 'Sep 22, 2017', 'Sep 21, 2017', 'Sep 20, 2017', 'Sep 19, 2017', 'Sep 18, 2017', 'Sep 17, 2017', 'Sep 16, 2017', 'Sep 15, 2017', 'Sep 14, 2017', 'Sep 13, 2017', 'Sep 12, 2017', 'Sep 11, 2017', 'Sep 10, 2017', 'Sep 9, 2017', 'Sep 8, 2017', 'Sep 7, 2017', 'Sep 6, 2017', 'Sep 5, 2017', 'Sep 4, 2017', 'Sep 3, 2017', 'Sep 2, 2017', 'Sep 1, 2017', 'Aug 31, 2017', 'Aug 30, 2017', 'Aug 29, 2017', 'Aug 28, 2017', 'Aug 27, 2017', 'Aug 26, 2017', 'Aug 25, 2017', 'Aug 24, 2017', 'Aug 23, 2017', 'Aug 22, 2017', 'Aug 21, 2017', 'Aug 20, 2017', 'Aug 19, 2017', 'Aug 18, 2017', 'Aug 17, 2017', 'Aug 16, 2017', 'Aug 15, 2017', 'Aug 14, 2017', 'Aug 13, 2017', 'Aug 12, 2017', 'Aug 11, 2017', 'Aug 10, 2017', 'Aug 9, 2017', 'Aug 8, 2017', 'Aug 7, 2017', 'Aug 6, 2017', 'Aug 5, 2017', 'Aug 4, 2017', 'Aug 3, 2017', 'Aug 2, 2017', 'Aug 1, 2017', 'Jul 31, 2017', 'Jul 30, 2017', 'Jul 29, 2017', 'Jul 28, 2017', 'Jul 27, 2017', 'Jul 26, 2017', 'Jul 25, 2017', 'Jul 24, 2017', 'Jul 23, 2017', 'Jul 22, 2017', 'Jul 21, 2017', 'Jul 20, 2017', 'Jul 19, 2017', 'Jul 18, 2017', 'Jul 17, 2017', 'Jul 16, 2017', 'Jul 15, 2017', 'Jul 14, 2017', 'Jul 13, 2017', 'Jul 12, 2017', 'Jul 11, 2017', 'Jul 10, 2017', 'Jul 9, 2017', 'Jul 8, 2017', 'Jul 7, 2017', 'Jul 6, 2017', 'Jul 5, 2017', 'Jul 4, 2017', 'Jul 3, 2017', 'Jul 2, 2017', 'Jul 1, 2017', 'Jun 30, 2017', 'Jun 29, 2017', 'Jun 28, 2017', 'Jun 27, 2017', 'Jun 26, 2017', 'Jun 25, 2017', 'Jun 24, 2017', 'Jun 23, 2017', 'Jun 22, 2017', 'Jun 21, 2017', 'Jun 20, 2017', 'Jun 19, 2017', 'Jun 18, 2017', 'Jun 17, 2017', 'Jun 16, 2017', 'Jun 15, 2017', 'Jun 14, 2017', 'Jun 13, 2017', 'Jun 12, 2017', 'Jun 11, 2017', 'Jun 10, 2017', 'Jun 9, 2017', 'Jun 8, 2017', 'Jun 7, 2017', 'Jun 6, 2017', 'Jun 5, 2017', 'Jun 4, 2017', 'Jun 3, 2017', 'Jun 2, 2017', 'Jun 1, 2017', 'Apr 30, 2017', 'Apr 29, 2017', 'Apr 28, 2017', 'Apr 27, 2017', 'Apr 26, 2017', 'Apr 25, 2017', 'Apr 24, 2017', 'Apr 23, 2017', 'Apr 22, 2017', 'Apr 21, 2017', 'Apr 20, 2017', 'Apr 19, 2017', 'Apr 18, 2017', 'Apr 17, 2017', 'Apr 16, 2017', 'Apr 15, 2017', 'Apr 14, 2017', 'Apr 13, 2017', 'Apr 12, 2017', 'Apr 11, 2017', 'Apr 10, 2017', 'Apr 9, 2017', 'Apr 8, 2017', 'Apr 7, 2017', 'Apr 6, 2017', 'Apr 5, 2017', 'Apr 4, 2017', 'Apr 3, 2017', 'Apr 2, 2017', 'Apr 1, 2017', 'Mar 31, 2017', 'Mar 30, 2017', 'Mar 29, 2017', 'Mar 28, 2017', 'Mar 27, 2017', 'Mar 26, 2017', 'Mar 25, 2017', 'Mar 24, 2017', 'Mar 23, 2017', 'Mar 22, 2017', 'Mar 21, 2017', 'Mar 20, 2017', 'Mar 19, 2017', 'Mar 18, 2017', 'Mar 17, 2017', 'Mar 16, 2017', 'Mar 15, 2017', 'Mar 14, 2017', 'Mar 13, 2017', 'Mar 12, 2017', 'Mar 11, 2017', 'Mar 10, 2017', 'Mar 9, 2017', 'Mar 8, 2017', 'Mar 7, 2017', 'Mar 6, 2017', 'Mar 5, 2017', 'Mar 4, 2017', 'Mar 3, 2017', 'Mar 2, 2017', 'Mar 1, 2017', 'Feb 28, 2017', 'Feb 27, 2017', 'Feb 26, 2017', 'Feb 25, 2017', 'Feb 24, 2017', 'Feb 23, 2017', 'Feb 22, 2017', 'Feb 21, 2017', 'Feb 20, 2017', 'Feb 19, 2017', 'Feb 18, 2017', 'Feb 17, 2017', 'Feb 16, 2017', 'Feb 15, 2017', 'Feb 14, 2017', 'Feb 13, 2017', 'Feb 12, 2017', 'Feb 11, 2017', 'Feb 10, 2017', 'Feb 9, 2017', 'Feb 8, 2017', 'Feb 7, 2017', 'Feb 6, 2017', 'Feb 5, 2017', 'Feb 4, 2017', 'Feb 3, 2017', 'Feb 2, 2017', 'Feb 1, 2017', 'Jan 31, 2017', 'Jan 30, 2017', 'Jan 29, 2017', 'Jan 28, 2017', 'Jan 27, 2017', 'Jan 26, 2017', 'Jan 25, 2017', 'Jan 24, 2017', 'Jan 23, 2017', 'Jan 22, 2017', 'Jan 21, 2017', 'Jan 20, 2017', 'Jan 19, 2017', 'Jan 18, 2017', 'Jan 17, 2017', 'Jan 16, 2017', 'Jan 15, 2017', 'Jan 14, 2017', 'Jan 13, 2017', 'Jan 12, 2017', 'Jan 11, 2017', 'Jan 10, 2017', 'Jan 9, 2017', 'Jan 8, 2017', 'Jan 7, 2017', 'Jan 6, 2017', 'Jan 5, 2017', 'Jan 4, 2017', 'Jan 3, 2017', 'Jan 2, 2017', 'Jan 1, 2017', 'Dec 31, 2016', 'Dec 30, 2016', 'Dec 29, 2016', 'Dec 28, 2016', 'Dec 27, 2016', 'Dec 26, 2016', 'Dec 25, 2016', 'Dec 24, 2016', 'Dec 23, 2016', 'Dec 22, 2016', 'Dec 21, 2016', 'Dec 20, 2016', 'Dec 19, 2016', 'Dec 18, 2016', 'Dec 17, 2016', 'Dec 16, 2016', 'Dec 15, 2016', 'Dec 14, 2016', 'Dec 13, 2016', 'Dec 12, 2016', 'Dec 11, 2016', 'Dec 10, 2016', 'Dec 9, 2016', 'Dec 8, 2016', 'Dec 7, 2016', 'Dec 6, 2016', 'Dec 5, 2016', 'Dec 4, 2016', 'Dec 3, 2016', 'Dec 2, 2016', 'Dec 1, 2016', 'Nov 30, 2016', 'Nov 29, 2016', 'Nov 28, 2016', 'Nov 27, 2016', 'Nov 26, 2016', 'Nov 25, 2016', 'Nov 24, 2016', 'Nov 23, 2016', 'Nov 22, 2016', 'Nov 21, 2016', 'Nov 20, 2016', 'Nov 19, 2016', 'Nov 18, 2016', 'Nov 17, 2016', 'Nov 16, 2016', 'Nov 15, 2016', 'Nov 14, 2016', 'Nov 13, 2016', 'Nov 12, 2016', 'Nov 11, 2016', 'Nov 10, 2016', 'Nov 9, 2016', 'Nov 8, 2016', 'Nov 7, 2016', 'Nov 6, 2016', 'Nov 5, 2016', 'Nov 4, 2016', 'Nov 3, 2016', 'Nov 2, 2016', 'Nov 1, 2016', 'Oct 31, 2016', 'Oct 30, 2016', 'Oct 29, 2016', 'Oct 28, 2016', 'Oct 27, 2016', 'Oct 26, 2016', 'Oct 25, 2016', 'Oct 24, 2016', 'Oct 23, 2016', 'Oct 22, 2016', 'Oct 21, 2016', 'Oct 20, 2016', 'Oct 19, 2016', 'Oct 18, 2016', 'Oct 17, 2016', 'Oct 16, 2016', 'Oct 15, 2016', 'Oct 14, 2016', 'Oct 13, 2016', 'Oct 12, 2016', 'Oct 11, 2016', 'Oct 10, 2016', 'Oct 9, 2016', 'Oct 8, 2016', 'Oct 7, 2016', 'Oct 6, 2016', 'Oct 5, 2016', 'Oct 4, 2016', 'Oct 3, 2016', 'Oct 2, 2016', 'Oct 1, 2016', 'Sep 30, 2016', 'Sep 29, 2016', 'Sep 28, 2016', 'Sep 27, 2016', 'Sep 26, 2016', 'Sep 25, 2016', 'Sep 24, 2016', 'Sep 23, 2016', 'Sep 22, 2016', 'Sep 21, 2016', 'Sep 20, 2016', 'Sep 19, 2016', 'Sep 18, 2016', 'Sep 17, 2016', 'Sep 16, 2016', 'Sep 15, 2016', 'Sep 14, 2016', 'Sep 13, 2016', 'Sep 12, 2016', 'Sep 11, 2016', 'Sep 10, 2016', 'Sep 9, 2016', 'Sep 8, 2016', 'Sep 7, 2016', 'Sep 6, 2016', 'Sep 5, 2016', 'Sep 4, 2016', 'Sep 3, 2016', 'Sep 2, 2016', 'Sep 1, 2016', 'Aug 31, 2016', 'Aug 30, 2016', 'Aug 29, 2016', 'Aug 28, 2016', 'Aug 27, 2016', 'Aug 26, 2016', 'Aug 25, 2016', 'Aug 24, 2016', 'Aug 23, 2016', 'Aug 22, 2016', 'Aug 21, 2016', 'Aug 20, 2016', 'Aug 19, 2016', 'Aug 18, 2016', 'Aug 17, 2016', 'Aug 16, 2016', 'Aug 15, 2016', 'Aug 14, 2016', 'Aug 13, 2016', 'Aug 12, 2016', 'Aug 11, 2016', 'Aug 10, 2016', 'Aug 9, 2016', 'Aug 8, 2016', 'Aug 7, 2016', 'Aug 6, 2016', 'Aug 5, 2016', 'Aug 4, 2016', 'Aug 3, 2016', 'Aug 2, 2016', 'Aug 1, 2016', 'Jul 31, 2016', 'Jul 30, 2016', 'Jul 29, 2016', 'Jul 28, 2016', 'Jul 27, 2016', 'Jul 26, 2016', 'Jul 25, 2016', 'Jul 24, 2016', 'Jul 23, 2016', 'Jul 22, 2016', 'Jul 21, 2016', 'Jul 20, 2016', 'Jul 19, 2016', 'Jul 18, 2016', 'Jul 17, 2016', 'Jul 16, 2016', 'Jul 15, 2016', 'Jul 14, 2016', 'Jul 13, 2016', 'Jul 12, 2016', 'Jul 11, 2016', 'Jul 10, 2016', 'Jul 9, 2016', 'Jul 8, 2016', 'Jul 7, 2016', 'Jul 6, 2016', 'Jul 5, 2016', 'Jul 4, 2016', 'Jul 3, 2016', 'Jul 2, 2016', 'Jul 1, 2016', 'Jun 30, 2016', 'Jun 29, 2016', 'Jun 28, 2016', 'Jun 27, 2016', 'Jun 26, 2016', 'Jun 25, 2016', 'Jun 24, 2016', 'Jun 23, 2016', 'Jun 22, 2016', 'Jun 21, 2016', 'Jun 20, 2016', 'Jun 19, 2016', 'Jun 18, 2016', 'Jun 17, 2016', 'Jun 16, 2016', 'Jun 15, 2016', 'Jun 14, 2016', 'Jun 13, 2016', 'Jun 12, 2016', 'Jun 11, 2016', 'Jun 10, 2016', 'Jun 9, 2016', 'Jun 8, 2016', 'Jun 7, 2016', 'Jun 6, 2016', 'Jun 5, 2016', 'Jun 4, 2016', 'Jun 3, 2016', 'Jun 2, 2016', 'Jun 1, 2016', 'Apr 30, 2016', 'Apr 29, 2016', 'Apr 28, 2016', 'Apr 27, 2016', 'Apr 26, 2016', 'Apr 25, 2016', 'Apr 24, 2016', 'Apr 23, 2016', 'Apr 22, 2016', 'Apr 21, 2016', 'Apr 20, 2016', 'Apr 19, 2016', 'Apr 18, 2016', 'Apr 17, 2016', 'Apr 16, 2016', 'Apr 15, 2016', 'Apr 14, 2016', 'Apr 13, 2016', 'Apr 12, 2016', 'Apr 11, 2016', 'Apr 10, 2016', 'Apr 9, 2016', 'Apr 8, 2016', 'Apr 7, 2016', 'Apr 6, 2016', 'Apr 5, 2016', 'Apr 4, 2016', 'Apr 3, 2016', 'Apr 2, 2016', 'Apr 1, 2016', 'Mar 31, 2016', 'Mar 30, 2016', 'Mar 29, 2016', 'Mar 28, 2016', 'Mar 27, 2016', 'Mar 26, 2016', 'Mar 25, 2016', 'Mar 24, 2016', 'Mar 23, 2016', 'Mar 22, 2016', 'Mar 21, 2016', 'Mar 20, 2016', 'Mar 19, 2016', 'Mar 18, 2016', 'Mar 17, 2016', 'Mar 16, 2016', 'Mar 15, 2016', 'Mar 14, 2016', 'Mar 13, 2016', 'Mar 12, 2016', 'Mar 11, 2016', 'Mar 10, 2016', 'Mar 9, 2016', 'Mar 8, 2016', 'Mar 7, 2016', 'Mar 6, 2016', 'Mar 5, 2016', 'Mar 4, 2016', 'Mar 3, 2016', 'Mar 2, 2016', 'Mar 1, 2016', 'Feb 29, 2016', 'Feb 28, 2016', 'Feb 27, 2016', 'Feb 26, 2016', 'Feb 25, 2016', 'Feb 24, 2016', 'Feb 23, 2016', 'Feb 22, 2016', 'Feb 21, 2016', 'Feb 20, 2016', 'Feb 19, 2016', 'Feb 18, 2016', 'Feb 17, 2016', 'Feb 16, 2016', 'Feb 15, 2016', 'Feb 14, 2016', 'Feb 13, 2016', 'Feb 12, 2016', 'Feb 11, 2016', 'Feb 10, 2016', 'Feb 9, 2016', 'Feb 8, 2016', 'Feb 7, 2016', 'Feb 6, 2016', 'Feb 5, 2016', 'Feb 4, 2016', 'Feb 3, 2016', 'Feb 2, 2016', 'Feb 1, 2016', 'Jan 31, 2016', 'Jan 30, 2016', 'Jan 29, 2016', 'Jan 28, 2016', 'Jan 27, 2016', 'Jan 26, 2016', 'Jan 25, 2016', 'Jan 24, 2016', 'Jan 23, 2016', 'Jan 22, 2016', 'Jan 21, 2016', 'Jan 20, 2016', 'Jan 19, 2016', 'Jan 18, 2016', 'Jan 17, 2016', 'Jan 16, 2016', 'Jan 15, 2016', 'Jan 14, 2016', 'Jan 13, 2016', 'Jan 12, 2016', 'Jan 11, 2016', 'Jan 10, 2016', 'Jan 9, 2016', 'Jan 8, 2016', 'Jan 7, 2016', 'Jan 6, 2016', 'Jan 5, 2016', 'Jan 4, 2016', 'Jan 3, 2016', 'Jan 2, 2016', 'Jan 1, 2016', 'Dec 31, 2015', 'Dec 30, 2015', 'Dec 29, 2015', 'Dec 28, 2015', 'Dec 27, 2015', 'Dec 26, 2015', 'Dec 25, 2015', 'Dec 24, 2015', 'Dec 23, 2015', 'Dec 22, 2015', 'Dec 21, 2015', 'Dec 20, 2015', 'Dec 19, 2015', 'Dec 18, 2015', 'Dec 17, 2015', 'Dec 16, 2015', 'Dec 15, 2015', 'Dec 14, 2015', 'Dec 13, 2015', 'Dec 12, 2015', 'Dec 11, 2015', 'Dec 10, 2015', 'Dec 9, 2015', 'Dec 8, 2015', 'Dec 7, 2015', 'Dec 6, 2015', 'Dec 5, 2015', 'Dec 4, 2015', 'Dec 3, 2015', 'Dec 2, 2015', 'Dec 1, 2015', 'Nov 30, 2015', 'Nov 29, 2015', 'Nov 28, 2015', 'Nov 27, 2015', 'Nov 26, 2015', 'Nov 25, 2015', 'Nov 24, 2015', 'Nov 23, 2015', 'Nov 22, 2015', 'Nov 21, 2015', 'Nov 20, 2015', 'Nov 19, 2015', 'Nov 18, 2015', 'Nov 17, 2015', 'Nov 16, 2015', 'Nov 15, 2015', 'Nov 14, 2015', 'Nov 13, 2015', 'Nov 12, 2015', 'Nov 11, 2015', 'Nov 10, 2015', 'Nov 9, 2015', 'Nov 8, 2015', 'Nov 7, 2015', 'Nov 6, 2015', 'Nov 5, 2015', 'Nov 4, 2015', 'Nov 3, 2015', 'Nov 2, 2015', 'Nov 1, 2015', 'Oct 31, 2015', 'Oct 30, 2015', 'Oct 29, 2015', 'Oct 28, 2015', 'Oct 27, 2015', 'Oct 26, 2015', 'Oct 25, 2015', 'Oct 24, 2015', 'Oct 23, 2015', 'Oct 22, 2015', 'Oct 21, 2015', 'Oct 20, 2015', 'Oct 19, 2015', 'Oct 18, 2015', 'Oct 17, 2015', 'Oct 16, 2015', 'Oct 15, 2015', 'Oct 14, 2015', 'Oct 13, 2015', 'Oct 12, 2015', 'Oct 11, 2015', 'Oct 10, 2015', 'Oct 9, 2015', 'Oct 8, 2015', 'Oct 7, 2015', 'Oct 6, 2015', 'Oct 5, 2015', 'Oct 4, 2015', 'Oct 3, 2015', 'Oct 2, 2015', 'Oct 1, 2015', 'Sep 30, 2015', 'Sep 29, 2015', 'Sep 28, 2015', 'Sep 27, 2015', 'Sep 26, 2015', 'Sep 25, 2015', 'Sep 24, 2015', 'Sep 23, 2015', 'Sep 22, 2015', 'Sep 21, 2015', 'Sep 20, 2015', 'Sep 19, 2015', 'Sep 18, 2015', 'Sep 17, 2015', 'Sep 16, 2015', 'Sep 15, 2015', 'Sep 14, 2015', 'Sep 13, 2015', 'Sep 12, 2015', 'Sep 11, 2015', 'Sep 9, 2015', 'Sep 8, 2015', 'Sep 7, 2015', 'Sep 6, 2015', 'Sep 5, 2015', 'Sep 4, 2015', 'Sep 3, 2015', 'Sep 2, 2015', 'Sep 1, 2015', 'Aug 31, 2015', 'Aug 30, 2015', 'Aug 29, 2015', 'Aug 28, 2015', 'Aug 27, 2015', 'Aug 26, 2015', 'Aug 25, 2015', 'Aug 24, 2015', 'Aug 23, 2015', 'Aug 22, 2015', 'Aug 21, 2015', 'Aug 20, 2015', 'Aug 19, 2015', 'Aug 18, 2015', 'Aug 17, 2015', 'Aug 16, 2015', 'Aug 15, 2015', 'Aug 14, 2015', 'Aug 13, 2015', 'Aug 12, 2015', 'Aug 11, 2015', 'Aug 10, 2015', 'Aug 9, 2015', 'Aug 8, 2015', 'Aug 7, 2015', 'Aug 6, 2015', 'Aug 5, 2015', 'Aug 4, 2015', 'Aug 3, 2015', 'Aug 2, 2015', 'Aug 1, 2015', 'Jul 31, 2015', 'Jul 30, 2015', 'Jul 29, 2015', 'Jul 28, 2015', 'Jul 27, 2015', 'Jul 26, 2015', 'Jul 25, 2015', 'Jul 24, 2015', 'Jul 23, 2015', 'Jul 22, 2015', 'Jul 21, 2015', 'Jul 20, 2015', 'Jul 19, 2015', 'Jul 17, 2015', 'Jul 16, 2015', 'Jul 15, 2015', 'Jul 14, 2015', 'Jul 13, 2015', 'Jul 12, 2015', 'Jul 11, 2015', 'Jul 10, 2015', 'Jul 9, 2015', 'Jul 8, 2015', 'Jul 7, 2015', 'Jul 6, 2015', 'https://100percentfedup.com/video-hillary-asked-about-trump-i-just-want-to-eat-some-pie/', 'https://100percentfedup.com/12-yr-old-black-conservative-whose-video-to-obama-went-viral-do-you-really-love-america-receives-death-threats-from-left/', 'Jul 3, 2015', 'Jul 2, 2015', 'Jul 1, 2015', 'Jun 30, 2015', 'Jun 29, 2015', 'Jun 28, 2015', 'Jun 27, 2015', 'Jun 26, 2015', 'Jun 25, 2015', 'Jun 24, 2015', 'Jun 23, 2015', 'Jun 22, 2015', 'Jun 20, 2015', 'Jun 19, 2015', 'Jun 18, 2015', 'Jun 17, 2015', 'Jun 16, 2015', 'Jun 15, 2015', 'Jun 14, 2015', 'Jun 13, 2015', 'Jun 12, 2015', 'Jun 11, 2015', 'Jun 10, 2015', 'Jun 9, 2015', 'Jun 8, 2015', 'Jun 7, 2015', 'Jun 5, 2015', 'Jun 4, 2015', 'Jun 3, 2015', 'Jun 2, 2015', 'Jun 1, 2015', 'Apr 30, 2015', 'Apr 29, 2015', 'Apr 28, 2015', 'Apr 27, 2015', 'Apr 26, 2015', 'Apr 25, 2015', 'Apr 24, 2015', 'Apr 23, 2015', 'Apr 22, 2015', 'Apr 21, 2015', 'Apr 20, 2015', 'Apr 19, 2015', 'Apr 18, 2015', 'Apr 17, 2015', 'Apr 16, 2015', 'Apr 15, 2015', 'Apr 14, 2015', 'Apr 13, 2015', 'Apr 12, 2015', 'https://fedup.wpengine.com/wp-content/uploads/2015/04/hillarystreetart.jpg', 'https://fedup.wpengine.com/wp-content/uploads/2015/04/entitled.jpg', 'Apr 11, 2015', 'Apr 10, 2015', 'Apr 9, 2015', 'Apr 8, 2015', 'Apr 7, 2015', 'Apr 6, 2015', 'Apr 5, 2015', 'Apr 4, 2015', 'Apr 2, 2015', 'Apr 1, 2015', 'Mar 31, 2015', 'Sep 10, 2015', 'Jul 5, 2015', 'Jul 4, 2015', 'Jun 21, 2015', 'MSNBC HOST Rudely Assumes Steel Worker Would Never Let His Son Follow in His Footsteps…He Couldn’t Be More Wrong [Video]', 'Jul 18, 2015']\n"
     ]
    }
   ],
   "source": [
    "# changer \"date\" en datetime\n",
    "unique_dates = df['date'].unique()\n",
    "\n",
    "invalid_format_dates = []\n",
    "\n",
    "for date in unique_dates:\n",
    "    try:\n",
    "        # Essayer de convertir chaque date\n",
    "        pd.to_datetime(date.strip(), format='%B %d, %Y')\n",
    "    except ValueError:\n",
    "        # Si une erreur se produit, ajouter la date à la liste des formats invalides\n",
    "        invalid_format_dates.append(date)\n",
    "\n",
    "print(\"Dates invalides:\", invalid_format_dates)"
   ]
  },
  {
   "cell_type": "markdown",
   "id": "f29096e2",
   "metadata": {},
   "source": [
    "Nous pouvons voir que les données ne sont toutes du meme format, il va falloire changer cela. Nous pouvons identifier 3 formats qui ne respectent pas la forme suivante \"Mois :\n",
    "- 'd-MMM-yy' (comme '19-Feb-18')\n",
    "- 'MMM d, yyyy' (comme 'Dec 31, 2017').\n",
    "- \"des URL de site\" \n",
    "\n",
    "Concernant les URL nous allons éliminer ces lignes du dataset. Pour les autres valeurs nous allons concevoir un algorithme pour les transformer dans un dataframe convenable."
   ]
  },
  {
   "cell_type": "code",
   "execution_count": 10,
   "id": "118cb9d2",
   "metadata": {},
   "outputs": [
    {
     "data": {
      "text/plain": [
       "0        December 31, 2017\n",
       "1        December 31, 2017\n",
       "2        December 30, 2017\n",
       "3        December 29, 2017\n",
       "4        December 25, 2017\n",
       "               ...        \n",
       "21412     August 22, 2017 \n",
       "21413     August 22, 2017 \n",
       "21414     August 22, 2017 \n",
       "21415     August 22, 2017 \n",
       "21416     August 22, 2017 \n",
       "Name: date, Length: 44898, dtype: object"
      ]
     },
     "execution_count": 10,
     "metadata": {},
     "output_type": "execute_result"
    }
   ],
   "source": [
    "# filtrer et supprimer les URL, pour simplifier nous allons dire que si \n",
    "#la ligne contient le suit pas les formats 'd-MMM-yy' ou 'MMM d, yyyy'  \n",
    "df['date']"
   ]
  },
  {
   "cell_type": "code",
   "execution_count": 11,
   "id": "e8d35427",
   "metadata": {},
   "outputs": [
    {
     "data": {
      "text/plain": [
       "[9050,\n",
       " 9051,\n",
       " 9052,\n",
       " 9053,\n",
       " 9054,\n",
       " 9055,\n",
       " 9056,\n",
       " 9057,\n",
       " 9058,\n",
       " 9059,\n",
       " 9060,\n",
       " 9061,\n",
       " 9062,\n",
       " 9063,\n",
       " 9064,\n",
       " 9065,\n",
       " 9066,\n",
       " 9067,\n",
       " 9068,\n",
       " 9069,\n",
       " 9070,\n",
       " 9071,\n",
       " 9072,\n",
       " 9073,\n",
       " 9074,\n",
       " 9075,\n",
       " 9076,\n",
       " 9077,\n",
       " 9078,\n",
       " 9079,\n",
       " 9080,\n",
       " 9081,\n",
       " 9082,\n",
       " 9083,\n",
       " 9084,\n",
       " 9358,\n",
       " 15507,\n",
       " 15508,\n",
       " 15839,\n",
       " 15840,\n",
       " 17432,\n",
       " 17433,\n",
       " 18933,\n",
       " 21869,\n",
       " 21870]"
      ]
     },
     "execution_count": 11,
     "metadata": {},
     "output_type": "execute_result"
    }
   ],
   "source": [
    "dates_numpy_array=df['date'].to_numpy()\n",
    "dates_numpy_array\n",
    "\n",
    "bad_format_indexes=[] # les index qui n'ont pas le bon format.\n",
    "for i in range(len(dates_numpy_array)):\n",
    "    tab=dates_numpy_array[i].replace(\",\",\"\").split() # on enleve la virgule et\n",
    "    if len(tab)!=3:\n",
    "        bad_format_indexes.append(i) #si le nombre est différent de 3 alors le format n'est pas celui qu'on veut. \n",
    "\n",
    "bad_format_indexes"
   ]
  },
  {
   "cell_type": "markdown",
   "id": "1990d060",
   "metadata": {},
   "source": [
    "Nous avons donc identifié que certaines données ne sont pas dans le format adéquat, nous avons 2 cas à traité:\n",
    "- les dates au format D-MM-YY\n",
    "- les urls et les string\n",
    "Nous pouvons savoir que si le string dépasse une certainne longieur, alors c'est un url ou un long text et nous éliminons la row. Si par contre C'est une date du format d-MM-YY alors nous pouvons juste dansformer la donnée en format que l'on veut.\n"
   ]
  },
  {
   "cell_type": "code",
   "execution_count": 12,
   "id": "9b7b6d58",
   "metadata": {},
   "outputs": [],
   "source": [
    "index_to_delete=[]\n",
    "for index in bad_format_indexes:\n",
    "    try: # si c'est un format D-M-Y alors on le change simplement\n",
    "        date_str=dates_numpy_array[index]\n",
    "        date_obj = datetime.strptime(date_str, '%d-%b-%y') # on selectionne l'objet avec le format D-M-Y en format datetime.\n",
    "        new_format = date_obj.strftime('%B %d, %Y')\n",
    "        dates_numpy_array[index]=new_format\n",
    "    except: # c'est un long string que nous devrons éffacer.\n",
    "        index_to_delete.append(index)\n",
    "    "
   ]
  },
  {
   "cell_type": "markdown",
   "id": "c5ee4cd6",
   "metadata": {},
   "source": [
    "#nous avons donc modifié les formats des dates de D-M-Y.\n",
    "dates_numpy_array"
   ]
  },
  {
   "cell_type": "code",
   "execution_count": 13,
   "id": "1127795f",
   "metadata": {},
   "outputs": [],
   "source": [
    "#mainteannt nous allons remplacer les lignes qui ont étée modifiées\n",
    "df['date']=dates_numpy_array\n"
   ]
  },
  {
   "cell_type": "code",
   "execution_count": 14,
   "id": "9af7f389",
   "metadata": {},
   "outputs": [
    {
     "data": {
      "text/plain": [
       "array([False,  True])"
      ]
     },
     "execution_count": 14,
     "metadata": {},
     "output_type": "execute_result"
    }
   ],
   "source": [
    "df['date'] = pd.to_datetime(df['date'], errors='coerce')\n",
    "df.date.isnull().unique()"
   ]
  },
  {
   "cell_type": "markdown",
   "id": "60dcce10",
   "metadata": {},
   "source": [
    "Nous avons prouvé que il existe des nan values, donc nous allons eliminer les lignes."
   ]
  },
  {
   "cell_type": "code",
   "execution_count": 15,
   "id": "b437f538",
   "metadata": {},
   "outputs": [
    {
     "data": {
      "text/plain": [
       "array([False])"
      ]
     },
     "execution_count": 15,
     "metadata": {},
     "output_type": "execute_result"
    }
   ],
   "source": [
    "# Éliminer les lignes où la colonne 'date' a des valeurs NaT\n",
    "df = df.dropna(subset=['date'])\n",
    "df.date.isnull().unique()"
   ]
  },
  {
   "cell_type": "markdown",
   "id": "f990c2a1",
   "metadata": {},
   "source": [
    "Nous avons donc clean la colonne date. Nous verifions les autres colonnes."
   ]
  },
  {
   "cell_type": "code",
   "execution_count": 16,
   "id": "66a64f7e",
   "metadata": {},
   "outputs": [
    {
     "data": {
      "text/plain": [
       "Index(['title', 'text', 'subject', 'date', 'isFake'], dtype='object')"
      ]
     },
     "execution_count": 16,
     "metadata": {},
     "output_type": "execute_result"
    }
   ],
   "source": [
    "df.columns"
   ]
  },
  {
   "cell_type": "code",
   "execution_count": 17,
   "id": "28eb1f57",
   "metadata": {},
   "outputs": [
    {
     "data": {
      "text/plain": [
       "array([False])"
      ]
     },
     "execution_count": 17,
     "metadata": {},
     "output_type": "execute_result"
    }
   ],
   "source": [
    "df.title.isnull().unique()"
   ]
  },
  {
   "cell_type": "code",
   "execution_count": 18,
   "id": "5b95fb9c",
   "metadata": {},
   "outputs": [
    {
     "data": {
      "text/plain": [
       "array([False])"
      ]
     },
     "execution_count": 18,
     "metadata": {},
     "output_type": "execute_result"
    }
   ],
   "source": [
    "df.text.isnull().unique()"
   ]
  },
  {
   "cell_type": "code",
   "execution_count": 19,
   "id": "6e398707",
   "metadata": {},
   "outputs": [
    {
     "data": {
      "text/plain": [
       "array([False])"
      ]
     },
     "execution_count": 19,
     "metadata": {},
     "output_type": "execute_result"
    }
   ],
   "source": [
    "df.subject.isnull().unique()"
   ]
  },
  {
   "cell_type": "markdown",
   "id": "b936e125",
   "metadata": {},
   "source": [
    "Notre dataset est près à l'emplois."
   ]
  },
  {
   "cell_type": "markdown",
   "id": "c13c921f",
   "metadata": {},
   "source": [
    "# Data analysis + Visualisation\n",
    "Nous avons plusieurs points à analyser avant de créer notre model, voici les questions sur lesquelles nous nous focalisons pour répondre aux questions:\n",
    "Types de \"subject\" dans le DataFrame :\n",
    "\n",
    "**Analyse de les sujets les plus présents**\n",
    "- Combien de catégories uniques de \"subject\" existent-elles ?\n",
    "- Y a-t-il une distribution inégale des sujets entre les news fake et vraies ?\n",
    "\n",
    "**Sujet avec le plus de fake news ou de vraies news**\n",
    "- Y a-t-il des sujets spécifiques plus susceptibles d'être associés à des fake news ?\n",
    "\n",
    "**Analyse de la longueur des textes :**\n",
    "- Quelle est la distribution de la longueur des textes pour les fake news par rapport aux vraies news ?\n",
    "- La longueur du texte est-elle un indicateur potentiel de fiabilité ?\n",
    "Répétition des titres :\n",
    "\n",
    "**Repetition des titres:**\n",
    "- Combien de titres se répètent et dans quel contexte (fake ou vrai) ?\n",
    "- La répétition des titres est-elle un indicateur de news non fiables ?\n",
    "\n",
    "**Analyse des dates :**\n",
    "- Quelles sont les dates minimales et maximales ? Y a-t-il des tendances temporelles dans les fake news ?\n",
    "- Y a-t-il des périodes spécifiques où les fake news sont plus fréquentes ?\n",
    "\n",
    "**Titres identiques dans les datasets Fake et True :**\n",
    "- Y a-t-il des cas où les mêmes titres apparaissent à la fois dans les fake news et les vraies news ?\n",
    "- Quelle pourrait être la raison de ces chevauchements ?\n",
    "\n",
    "**Comparaison des données fake et vraies :**\n",
    "- Quels mots ou phrases sont communs dans les deux catégories ?\n",
    "- Y a-t-il des patterns de langage ou de structuration spécifiques aux fake news ?\n",
    "\n",
    "**Période avec le plus de fake news :**\n",
    "- Analysez les tendances temporelles pour identifier des périodes avec une concentration élevée de fake news.\n",
    "- En plus de ces questions, voici d'autres aspects à considérer pour enrichir votre analyse :\n",
    "\n",
    "**Sentiment Analysis :**\n",
    "- Quel est le ton général (positif, négatif, neutre) des fake news par rapport aux vraies news ?\n",
    "- Les fake news tendent-elles à utiliser un langage plus émotionnel ou provocateur ?\n",
    "\n",
    "**Analyse de la source et de l'auteur :**\n",
    "- Existe-t-il des sources ou des auteurs spécifiques qui sont plus susceptibles de publier des fake news ?\n",
    "- Comment la crédibilité de la source affecte-t-elle la fiabilité de l'information ?\n",
    "\n",
    "**Corrélation entre le sujet et la période temporelle :**\n",
    "- Y a-t-il des sujets qui deviennent plus prévalents à certaines périodes, et sont-ils liés à des événements réels (par exemple, élections, crises) ?\n",
    "\n",
    "**Utilisation de techniques NLP avancées :**\n",
    "- Quelles sont les caractéristiques linguistiques (par exemple, n-grammes, term frequency-inverse document frequency (TF-IDF)) qui distinguent le mieux les fake news des vraies news ?\n",
    "\n",
    "L'analyse va nous permettre des réponse à ces questions."
   ]
  },
  {
   "cell_type": "markdown",
   "id": "36b4277d",
   "metadata": {},
   "source": [
    "**Combien de catégories uniques de \"subject\" existent-elles ?**"
   ]
  },
  {
   "cell_type": "code",
   "execution_count": 20,
   "id": "35789d0b",
   "metadata": {},
   "outputs": [
    {
     "name": "stdout",
     "output_type": "stream",
     "text": [
      "Nous avons 8 sujets différents\n"
     ]
    }
   ],
   "source": [
    "print(f\"Nous avons {len(df.subject.unique())} sujets différents\")"
   ]
  },
  {
   "cell_type": "markdown",
   "id": "b4da7e2b",
   "metadata": {},
   "source": [
    "**Y a-t-il une distribution inégale des sujets entre les news fake et vraies ?**"
   ]
  },
  {
   "cell_type": "code",
   "execution_count": 24,
   "id": "5a3246bd",
   "metadata": {},
   "outputs": [
    {
     "data": {
      "text/plain": [
       "subject          isFake\n",
       "Government News  True       1568\n",
       "Middle-east      True        778\n",
       "News             True       9050\n",
       "US_News          True        783\n",
       "left-news        True       4456\n",
       "politics         True       6836\n",
       "politicsNews     False     11272\n",
       "worldnews        False     10145\n",
       "Name: isFake, dtype: int64"
      ]
     },
     "execution_count": 24,
     "metadata": {},
     "output_type": "execute_result"
    }
   ],
   "source": [
    "df.groupby('subject')['isFake'].value_counts()"
   ]
  },
  {
   "cell_type": "code",
   "execution_count": 22,
   "id": "a53fa9ba",
   "metadata": {},
   "outputs": [
    {
     "name": "stdout",
     "output_type": "stream",
     "text": [
      "isFake             False   True \n",
      "subject                         \n",
      "Government News      0.0  1568.0\n",
      "Middle-east          0.0   778.0\n",
      "News                 0.0  9050.0\n",
      "US_News              0.0   783.0\n",
      "left-news            0.0  4456.0\n",
      "politics             0.0  6836.0\n",
      "politicsNews     11272.0     0.0\n",
      "worldnews        10145.0     0.0\n"
     ]
    }
   ],
   "source": [
    "# Grouper par 'subject' et compter les occurrences de True et False dans 'isFake'\n",
    "count_by_subject = df.groupby('subject')['isFake'].value_counts().unstack().fillna(0)\n",
    "\n",
    "# Afficher le résultat\n",
    "print(count_by_subject)"
   ]
  },
  {
   "cell_type": "code",
   "execution_count": 23,
   "id": "64bfaa6d",
   "metadata": {},
   "outputs": [
    {
     "data": {
      "image/png": "[encoded data removed]",
      "text/plain": [
       "<Figure size 432x288 with 1 Axes>"
      ]
     },
     "metadata": {
      "needs_background": "light"
     },
     "output_type": "display_data"
    }
   ],
   "source": [
    "# Créer un graphique à barres empilées\n",
    "count_by_subject.plot(kind='bar')\n",
    "\n",
    "# Ajouter des titres et labels\n",
    "plt.title('Nombre de Fake News et Vraies News par Subject')\n",
    "plt.xlabel('Subject')\n",
    "plt.ylabel('Nombre de News')\n",
    "\n",
    "# Afficher la légende\n",
    "plt.legend(title=\"Est une Fake news\",loc=\"upper left\")\n",
    "\n",
    "# Afficher le graphique\n",
    "plt.show()\n"
   ]
  },
  {
   "cell_type": "markdown",
   "id": "ea3778ce",
   "metadata": {},
   "source": [
    "La distribution des fake news et des true news est assez biaisé si on les reproupe par subject, il serait envisageable qu'elle ne soit pas un bonne estimateur pour détecter les fake news. Il serait envisageable:\n",
    "- Soit enlever des données de la classe majoritaire.\n",
    "- Soit utiliser des techniques comme SMOTE pour générer des nouvelles données de la classe minoritaire.\n",
    "- soit enlever la colonne \"subject\" du dataset. (car à la fin, ce sont des news, peut importe d'où elles viennent.)"
   ]
  },
  {
   "cell_type": "code",
   "execution_count": null,
   "id": "060378bc",
   "metadata": {},
   "outputs": [],
   "source": []
  },
  {
   "cell_type": "code",
   "execution_count": null,
   "id": "f19ecd60",
   "metadata": {},
   "outputs": [],
   "source": []
  },
  {
   "cell_type": "code",
   "execution_count": null,
   "id": "66e111ff",
   "metadata": {},
   "outputs": [],
   "source": []
  },
  {
   "cell_type": "code",
   "execution_count": null,
   "id": "90b555ac",
   "metadata": {},
   "outputs": [],
   "source": []
  },
  {
   "cell_type": "code",
   "execution_count": null,
   "id": "6df3fd43",
   "metadata": {},
   "outputs": [],
   "source": []
  },
  {
   "cell_type": "code",
   "execution_count": null,
   "id": "37b81af9",
   "metadata": {},
   "outputs": [],
   "source": []
  },
  {
   "cell_type": "code",
   "execution_count": null,
   "id": "54dbca42",
   "metadata": {},
   "outputs": [],
   "source": []
  },
  {
   "cell_type": "code",
   "execution_count": null,
   "id": "37a01583",
   "metadata": {},
   "outputs": [],
   "source": []
  },
  {
   "cell_type": "code",
   "execution_count": null,
   "id": "d720580c",
   "metadata": {},
   "outputs": [],
   "source": []
  },
  {
   "cell_type": "code",
   "execution_count": null,
   "id": "a28aadea",
   "metadata": {},
   "outputs": [],
   "source": []
  }
 ],
 "metadata": {
  "kernelspec": {
   "display_name": "Python 3",
   "language": "python",
   "name": "python3"
  },
  "language_info": {
   "codemirror_mode": {
    "name": "ipython",
    "version": 3
   },
   "file_extension": ".py",
   "mimetype": "text/x-python",
   "name": "python",
   "nbconvert_exporter": "python",
   "pygments_lexer": "ipython3",
   "version": "3.6.10"
  }
 },
 "nbformat": 4,
 "nbformat_minor": 5
}
