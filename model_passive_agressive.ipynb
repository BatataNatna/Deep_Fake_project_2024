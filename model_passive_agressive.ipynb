{
 "cells": [
  {
   "cell_type": "markdown",
   "id": "1bfcd48f",
   "metadata": {},
   "source": [
    "# Libraires"
   ]
  },
  {
   "cell_type": "code",
   "execution_count": 1,
   "id": "6c1c6d68",
   "metadata": {},
   "outputs": [
    {
     "name": "stdout",
     "output_type": "stream",
     "text": [
      "WARNING:tensorflow:From C:\\Users\\MIKED\\miniconda3\\Lib\\site-packages\\keras\\src\\losses.py:2976: The name tf.losses.sparse_softmax_cross_entropy is deprecated. Please use tf.compat.v1.losses.sparse_softmax_cross_entropy instead.\n",
      "\n",
      "Num GPUs Available:  0\n",
      "TensorFlow was not built with CUDA\n"
     ]
    }
   ],
   "source": [
    "import tensorflow as tf\n",
    "\n",
    "print(\"Num GPUs Available: \", len(tf.config.list_physical_devices('GPU')))\n",
    "if tf.test.is_built_with_cuda():\n",
    "    print(\"TensorFlow was built with CUDA\")\n",
    "else:\n",
    "    print(\"TensorFlow was not built with CUDA\")\n"
   ]
  },
  {
   "cell_type": "code",
   "execution_count": 8,
   "id": "6c2fa0d8",
   "metadata": {},
   "outputs": [],
   "source": [
    "import numpy as np\n",
    "import seaborn as sns\n",
    "import matplotlib.pyplot as plt\n",
    "import pandas as pd\n",
    "from sklearn.linear_model import PassiveAggressiveClassifier #used to train the model\n",
    "from sklearn.metrics import accuracy_score,precision_score,recall_score,f1_score, confusion_matrix, roc_auc_score, roc_curve # this is used to evaluate the model.\n",
    "from sklearn.model_selection import train_test_split # to separate the dataset.\n",
    "from sklearn.feature_extraction.text import TfidfVectorizer #used for the transformation of text data.\n",
    "import pickle as pkl #file to save and load a model.\n",
    "from sklearn.model_selection import GridSearchCV #pour l'optimisation des hyperparametres.\n",
    "import time #pour étudier le temps d'execution d'entrainement, de notre meilleure modèle.\n",
    "import psutil #pour calculer la mémoire.\n",
    "import os #pour calculer le temps d'execution.\n",
    "import joblib\n"
   ]
  },
  {
   "cell_type": "markdown",
   "id": "a28178c9",
   "metadata": {},
   "source": [
    "# Load Data"
   ]
  },
  {
   "cell_type": "code",
   "execution_count": 3,
   "id": "ca151f58",
   "metadata": {},
   "outputs": [],
   "source": [
    "data=pd.read_csv('title_text.csv').drop(['Unnamed: 0'],axis=1)"
   ]
  },
  {
   "cell_type": "code",
   "execution_count": 4,
   "id": "98ffb4b6",
   "metadata": {},
   "outputs": [
    {
     "data": {
      "text/html": [
       "<div>\n",
       "<style scoped>\n",
       "    .dataframe tbody tr th:only-of-type {\n",
       "        vertical-align: middle;\n",
       "    }\n",
       "\n",
       "    .dataframe tbody tr th {\n",
       "        vertical-align: top;\n",
       "    }\n",
       "\n",
       "    .dataframe thead th {\n",
       "        text-align: right;\n",
       "    }\n",
       "</style>\n",
       "<table border=\"1\" class=\"dataframe\">\n",
       "  <thead>\n",
       "    <tr style=\"text-align: right;\">\n",
       "      <th></th>\n",
       "      <th>title</th>\n",
       "      <th>text</th>\n",
       "      <th>isFake</th>\n",
       "    </tr>\n",
       "  </thead>\n",
       "  <tbody>\n",
       "    <tr>\n",
       "      <th>0</th>\n",
       "      <td>Nancy Pelosi Backs BOMBSHELL Legislation That...</td>\n",
       "      <td>Donald Trump hasn t even been president for a ...</td>\n",
       "      <td>True</td>\n",
       "    </tr>\n",
       "    <tr>\n",
       "      <th>1</th>\n",
       "      <td>Ukraine prosecutor says puzzled by lack of U.S...</td>\n",
       "      <td>KIEV (Reuters) - Ukraine is puzzled by the lac...</td>\n",
       "      <td>False</td>\n",
       "    </tr>\n",
       "    <tr>\n",
       "      <th>2</th>\n",
       "      <td>Trump nominates businessman with Asia backgrou...</td>\n",
       "      <td>WASHINGTON (Reuters) - U.S. President Donald T...</td>\n",
       "      <td>False</td>\n",
       "    </tr>\n",
       "    <tr>\n",
       "      <th>3</th>\n",
       "      <td>Zimbabwe's Mnangagwa opens amnesty window for ...</td>\n",
       "      <td>HARARE (Reuters) - Zimbabwe s new president, E...</td>\n",
       "      <td>False</td>\n",
       "    </tr>\n",
       "    <tr>\n",
       "      <th>4</th>\n",
       "      <td>OBAMA’S COMMUNIST ENVIRONMENTAL ARM Tells Kids...</td>\n",
       "      <td>Our children don t need the EPA to tell them h...</td>\n",
       "      <td>True</td>\n",
       "    </tr>\n",
       "    <tr>\n",
       "      <th>...</th>\n",
       "      <td>...</td>\n",
       "      <td>...</td>\n",
       "      <td>...</td>\n",
       "    </tr>\n",
       "    <tr>\n",
       "      <th>42821</th>\n",
       "      <td>RBG BLASTS Republicans For Crippling The Supr...</td>\n",
       "      <td>Supreme Court Justice Ruth Bader Ginsburg is b...</td>\n",
       "      <td>True</td>\n",
       "    </tr>\n",
       "    <tr>\n",
       "      <th>42822</th>\n",
       "      <td>Sanders Campaign Withdraws Lawsuit Against DN...</td>\n",
       "      <td>You might remember a few months ago, the Berni...</td>\n",
       "      <td>True</td>\n",
       "    </tr>\n",
       "    <tr>\n",
       "      <th>42823</th>\n",
       "      <td>WATCH: Bernie Sanders Invokes Holocaust To De...</td>\n",
       "      <td>Bernie Sanders is not one to mince words when ...</td>\n",
       "      <td>True</td>\n",
       "    </tr>\n",
       "    <tr>\n",
       "      <th>42824</th>\n",
       "      <td>INSIDE TRUMP’S CHARITY BALL Tonight At Beautif...</td>\n",
       "      <td>Trump on immigration appeal:  We ll win. For t...</td>\n",
       "      <td>True</td>\n",
       "    </tr>\n",
       "    <tr>\n",
       "      <th>42825</th>\n",
       "      <td>Trump Treasury nominee wants to loosen limits ...</td>\n",
       "      <td>WASHINGTON (Reuters) - Dialing back the Volcke...</td>\n",
       "      <td>False</td>\n",
       "    </tr>\n",
       "  </tbody>\n",
       "</table>\n",
       "<p>42826 rows × 3 columns</p>\n",
       "</div>"
      ],
      "text/plain": [
       "                                                   title  \\\n",
       "0       Nancy Pelosi Backs BOMBSHELL Legislation That...   \n",
       "1      Ukraine prosecutor says puzzled by lack of U.S...   \n",
       "2      Trump nominates businessman with Asia backgrou...   \n",
       "3      Zimbabwe's Mnangagwa opens amnesty window for ...   \n",
       "4      OBAMA’S COMMUNIST ENVIRONMENTAL ARM Tells Kids...   \n",
       "...                                                  ...   \n",
       "42821   RBG BLASTS Republicans For Crippling The Supr...   \n",
       "42822   Sanders Campaign Withdraws Lawsuit Against DN...   \n",
       "42823   WATCH: Bernie Sanders Invokes Holocaust To De...   \n",
       "42824  INSIDE TRUMP’S CHARITY BALL Tonight At Beautif...   \n",
       "42825  Trump Treasury nominee wants to loosen limits ...   \n",
       "\n",
       "                                                    text  isFake  \n",
       "0      Donald Trump hasn t even been president for a ...    True  \n",
       "1      KIEV (Reuters) - Ukraine is puzzled by the lac...   False  \n",
       "2      WASHINGTON (Reuters) - U.S. President Donald T...   False  \n",
       "3      HARARE (Reuters) - Zimbabwe s new president, E...   False  \n",
       "4      Our children don t need the EPA to tell them h...    True  \n",
       "...                                                  ...     ...  \n",
       "42821  Supreme Court Justice Ruth Bader Ginsburg is b...    True  \n",
       "42822  You might remember a few months ago, the Berni...    True  \n",
       "42823  Bernie Sanders is not one to mince words when ...    True  \n",
       "42824  Trump on immigration appeal:  We ll win. For t...    True  \n",
       "42825  WASHINGTON (Reuters) - Dialing back the Volcke...   False  \n",
       "\n",
       "[42826 rows x 3 columns]"
      ]
     },
     "execution_count": 4,
     "metadata": {},
     "output_type": "execute_result"
    }
   ],
   "source": [
    "data"
   ]
  },
  {
   "cell_type": "code",
   "execution_count": 5,
   "id": "48076fe2",
   "metadata": {},
   "outputs": [
    {
     "data": {
      "text/html": [
       "<div>\n",
       "<style scoped>\n",
       "    .dataframe tbody tr th:only-of-type {\n",
       "        vertical-align: middle;\n",
       "    }\n",
       "\n",
       "    .dataframe tbody tr th {\n",
       "        vertical-align: top;\n",
       "    }\n",
       "\n",
       "    .dataframe thead th {\n",
       "        text-align: right;\n",
       "    }\n",
       "</style>\n",
       "<table border=\"1\" class=\"dataframe\">\n",
       "  <thead>\n",
       "    <tr style=\"text-align: right;\">\n",
       "      <th></th>\n",
       "      <th>title</th>\n",
       "      <th>text</th>\n",
       "      <th>isFake</th>\n",
       "    </tr>\n",
       "  </thead>\n",
       "  <tbody>\n",
       "    <tr>\n",
       "      <th>0</th>\n",
       "      <td>Nancy Pelosi Backs BOMBSHELL Legislation That...</td>\n",
       "      <td>donald trump hasn t even been president for a ...</td>\n",
       "      <td>True</td>\n",
       "    </tr>\n",
       "    <tr>\n",
       "      <th>1</th>\n",
       "      <td>Ukraine prosecutor says puzzled by lack of U.S...</td>\n",
       "      <td>kiev (reuters) - ukraine is puzzled by the lac...</td>\n",
       "      <td>False</td>\n",
       "    </tr>\n",
       "    <tr>\n",
       "      <th>2</th>\n",
       "      <td>Trump nominates businessman with Asia backgrou...</td>\n",
       "      <td>washington (reuters) - u.s. president donald t...</td>\n",
       "      <td>False</td>\n",
       "    </tr>\n",
       "    <tr>\n",
       "      <th>3</th>\n",
       "      <td>Zimbabwe's Mnangagwa opens amnesty window for ...</td>\n",
       "      <td>harare (reuters) - zimbabwe s new president, e...</td>\n",
       "      <td>False</td>\n",
       "    </tr>\n",
       "    <tr>\n",
       "      <th>4</th>\n",
       "      <td>OBAMA’S COMMUNIST ENVIRONMENTAL ARM Tells Kids...</td>\n",
       "      <td>our children don t need the epa to tell them h...</td>\n",
       "      <td>True</td>\n",
       "    </tr>\n",
       "    <tr>\n",
       "      <th>...</th>\n",
       "      <td>...</td>\n",
       "      <td>...</td>\n",
       "      <td>...</td>\n",
       "    </tr>\n",
       "    <tr>\n",
       "      <th>42821</th>\n",
       "      <td>RBG BLASTS Republicans For Crippling The Supr...</td>\n",
       "      <td>supreme court justice ruth bader ginsburg is b...</td>\n",
       "      <td>True</td>\n",
       "    </tr>\n",
       "    <tr>\n",
       "      <th>42822</th>\n",
       "      <td>Sanders Campaign Withdraws Lawsuit Against DN...</td>\n",
       "      <td>you might remember a few months ago, the berni...</td>\n",
       "      <td>True</td>\n",
       "    </tr>\n",
       "    <tr>\n",
       "      <th>42823</th>\n",
       "      <td>WATCH: Bernie Sanders Invokes Holocaust To De...</td>\n",
       "      <td>bernie sanders is not one to mince words when ...</td>\n",
       "      <td>True</td>\n",
       "    </tr>\n",
       "    <tr>\n",
       "      <th>42824</th>\n",
       "      <td>INSIDE TRUMP’S CHARITY BALL Tonight At Beautif...</td>\n",
       "      <td>trump on immigration appeal:  we ll win. for t...</td>\n",
       "      <td>True</td>\n",
       "    </tr>\n",
       "    <tr>\n",
       "      <th>42825</th>\n",
       "      <td>Trump Treasury nominee wants to loosen limits ...</td>\n",
       "      <td>washington (reuters) - dialing back the volcke...</td>\n",
       "      <td>False</td>\n",
       "    </tr>\n",
       "  </tbody>\n",
       "</table>\n",
       "<p>42826 rows × 3 columns</p>\n",
       "</div>"
      ],
      "text/plain": [
       "                                                   title  \\\n",
       "0       Nancy Pelosi Backs BOMBSHELL Legislation That...   \n",
       "1      Ukraine prosecutor says puzzled by lack of U.S...   \n",
       "2      Trump nominates businessman with Asia backgrou...   \n",
       "3      Zimbabwe's Mnangagwa opens amnesty window for ...   \n",
       "4      OBAMA’S COMMUNIST ENVIRONMENTAL ARM Tells Kids...   \n",
       "...                                                  ...   \n",
       "42821   RBG BLASTS Republicans For Crippling The Supr...   \n",
       "42822   Sanders Campaign Withdraws Lawsuit Against DN...   \n",
       "42823   WATCH: Bernie Sanders Invokes Holocaust To De...   \n",
       "42824  INSIDE TRUMP’S CHARITY BALL Tonight At Beautif...   \n",
       "42825  Trump Treasury nominee wants to loosen limits ...   \n",
       "\n",
       "                                                    text  isFake  \n",
       "0      donald trump hasn t even been president for a ...    True  \n",
       "1      kiev (reuters) - ukraine is puzzled by the lac...   False  \n",
       "2      washington (reuters) - u.s. president donald t...   False  \n",
       "3      harare (reuters) - zimbabwe s new president, e...   False  \n",
       "4      our children don t need the epa to tell them h...    True  \n",
       "...                                                  ...     ...  \n",
       "42821  supreme court justice ruth bader ginsburg is b...    True  \n",
       "42822  you might remember a few months ago, the berni...    True  \n",
       "42823  bernie sanders is not one to mince words when ...    True  \n",
       "42824  trump on immigration appeal:  we ll win. for t...    True  \n",
       "42825  washington (reuters) - dialing back the volcke...   False  \n",
       "\n",
       "[42826 rows x 3 columns]"
      ]
     },
     "execution_count": 5,
     "metadata": {},
     "output_type": "execute_result"
    }
   ],
   "source": [
    "#we make everything lower.\n",
    "data['text']=data['text'].apply(lambda x: x.lower())\n",
    "data"
   ]
  },
  {
   "cell_type": "markdown",
   "id": "5ae074bf",
   "metadata": {},
   "source": [
    "# Modification du text en données numériques.\n",
    "Nous partons du principe que les données ont étés clean et que nous pouvons nous concerntrer à créer un model.\n",
    "\n",
    "Comme les informations principales pour définir des Fake news et des vrai news, se base sur le texte et le titre, nous devons nous focaliser sur ces informations. Il faut ainsi que nous transformons le text et le titre en données afin que notre model puisse utiliser des données numériques pour trouver la bonne réponse. Nous allons utiliser la methode de TF-IDF vectorizing.\n",
    "\n",
    "### TF-IDF vectorizer\n",
    "Cette méthode offre la possibilité de déterminer les scores TF-IDF de nos données textuelles. Ce qui signifie : \n",
    "\n",
    "TF -> la Fréquence du Terme : le nombre de fois qu'un mot apparaît, en éliminant les mots qui ne sont pas importants.\n",
    "\n",
    "IDF -> la fréquence inverse de détection : le même concept que TF, mais l'analyse va au-delà de la simple ligne, la fréquence dans l'ensemble du dataset est analysée.\n",
    "\n",
    "Ces informations seront utilisées comme données pour notre modèle d'apprentissage automatique.\n",
    "\n",
    "(il est important de faire cela uniquement sur nos données d'entraînement, sinon le modèle connaîtra les données de test)"
   ]
  },
  {
   "cell_type": "code",
   "execution_count": 6,
   "id": "acf3d881",
   "metadata": {},
   "outputs": [],
   "source": [
    "tfidf_filename='tfidf_vectorizer.pkl'"
   ]
  },
  {
   "cell_type": "code",
   "execution_count": 7,
   "id": "9193132b",
   "metadata": {},
   "outputs": [
    {
     "data": {
      "text/plain": [
       "['tfidf_vectorizer.pkl']"
      ]
     },
     "execution_count": 7,
     "metadata": {},
     "output_type": "execute_result"
    }
   ],
   "source": [
    "X=data.drop(['isFake'],axis=1)\n",
    "y=data['isFake']\n",
    "#spearation en données d'entrainement et de test.\n",
    "X_train, X_test, y_train, y_test = train_test_split(X['text'], y, test_size=0.2, random_state=42)\n",
    "\n",
    "tfidf_vectorizer=TfidfVectorizer(use_idf=True)\n",
    "\n",
    "# On fit et transforme les données d'entrainement.\n",
    "tfidf_train=tfidf_vectorizer.fit_transform(X_train).toarray()\n",
    "\n",
    "# on transfomer uniquement le test set, sinon il va connaitre les données test...\n",
    "tfidf_test=tfidf_vectorizer.transform(X_test)\n",
    "\n",
    "joblib.dump(tfidf_vectorizer, tfidf_filename) #on stoque le vectorizer dans un fichier pour le reutiliser plus tard."
   ]
  },
  {
   "cell_type": "code",
   "execution_count": 8,
   "id": "2cca858d",
   "metadata": {},
   "outputs": [
    {
     "data": {
      "text/plain": [
       "(34260,)"
      ]
     },
     "execution_count": 8,
     "metadata": {},
     "output_type": "execute_result"
    }
   ],
   "source": [
    "X_train.shape"
   ]
  },
  {
   "cell_type": "code",
   "execution_count": 9,
   "id": "171eb23d",
   "metadata": {},
   "outputs": [
    {
     "data": {
      "text/plain": [
       "(34260, 108400)"
      ]
     },
     "execution_count": 9,
     "metadata": {},
     "output_type": "execute_result"
    }
   ],
   "source": [
    "tfidf_train.shape"
   ]
  },
  {
   "cell_type": "code",
   "execution_count": 10,
   "id": "e95c288f",
   "metadata": {},
   "outputs": [
    {
     "data": {
      "text/plain": [
       "((8566,), (8566,))"
      ]
     },
     "execution_count": 10,
     "metadata": {},
     "output_type": "execute_result"
    }
   ],
   "source": [
    "X_test.shape,y_test.shape"
   ]
  },
  {
   "cell_type": "markdown",
   "id": "fc53b4dc",
   "metadata": {},
   "source": [
    "# Model Passive Agressive"
   ]
  },
  {
   "cell_type": "markdown",
   "id": "d24b7903",
   "metadata": {},
   "source": [
    "Quand on parle d'un model passive aggressive, nous parlons d'un algorithme linéaire de classification et de regression. C'est un algorithme d'apprentissage en ligne, Il traite les données séquentiellement, ajustant le prédicteur à chaque nouvelle instance pour améliorer la prédiction future.\n",
    "\n",
    "Le modèle se base sur deux principes:\n",
    "- **Passive**: Si notre modèle prédit une instance juste, alors les poids et les biais ne seront pas changés. L'état actuelle de notre modèle sera maintenu.\n",
    "- **Aggressive**: Si notre modèle fait une mauvaise prédiction sur une instance ressus, les poids et biais de notre modèle seront changés par le paramètre de régularisation **C**, le but étant de minimiser l'erreur. Il change les paramètres pour que la prédiction actuelle soit 'just'.\n",
    "\n",
    "Le modèle utilise par défaut la fonction de cout **hinge**. Voici comment mathématiquement les poids et bias seront changés:\n",
    "\n",
    "$$ w_{\\text{new}} = w + \\alpha y x $$\n",
    "$$ b_{\\text{new}} = b + \\alpha y $$\n",
    "\n",
    "où **w** est le vecteur de poids, **b** est le biais, **x** est le vecteur de caractéristiques de l'instance mal classée, **y** est l'étiquette correcte de l'instance, et **α** est le taux d'apprentissage calculé en fonction de l'erreur et du paramètre de régularisation **C**\n",
    "\n",
    "Comme nous traitons des données de texte, et que nous devons faire une classification binaire, il ce va de dire que les text vont avoir des pattern differents, en utilisant le model passive aggressive, nous pouvons entrainer le model à définir une méthode pour les idenfifier."
   ]
  },
  {
   "cell_type": "code",
   "execution_count": 11,
   "id": "e4ce4776",
   "metadata": {},
   "outputs": [],
   "source": [
    "# we build our model: C is the regulation parameter, and denotes the penalization the model will make on an incorrect prediciton.\n",
    "model = PassiveAggressiveClassifier(C = 0.2, \n",
    "                                    random_state = 42,\n",
    "                                    early_stopping=True,# we enable the early stopping procedure.\n",
    "                                    n_iter_no_change=3, #number of iterations before early stopping\n",
    "                                    verbose=True,\n",
    "                                    loss='hinge', #fonction de cout\n",
    "                                   )\n"
   ]
  },
  {
   "cell_type": "code",
   "execution_count": 12,
   "id": "989d6c13",
   "metadata": {},
   "outputs": [],
   "source": [
    "filenm = 'PassiveAggressiveClassifier_model.pickle'"
   ]
  },
  {
   "cell_type": "code",
   "execution_count": 13,
   "id": "bc4c959f",
   "metadata": {},
   "outputs": [
    {
     "name": "stdout",
     "output_type": "stream",
     "text": [
      "-- Epoch 1\n",
      "Norm: 37.85, NNZs: 54809, Bias: 1.446771, T: 30421, Avg. loss: 0.113609\n",
      "Total training time: 62.92 seconds.\n",
      "-- Epoch 2\n",
      "Norm: 44.85, NNZs: 55928, Bias: 0.582384, T: 60842, Avg. loss: 0.039183\n",
      "Total training time: 177.66 seconds.\n",
      "-- Epoch 3\n",
      "Norm: 49.44, NNZs: 56391, Bias: 0.774031, T: 91263, Avg. loss: 0.025336\n",
      "Total training time: 295.99 seconds.\n",
      "-- Epoch 4\n",
      "Norm: 52.86, NNZs: 56584, Bias: 0.943099, T: 121684, Avg. loss: 0.018095\n",
      "Total training time: 416.61 seconds.\n",
      "Convergence after 4 epochs took 474.54 seconds\n"
     ]
    }
   ],
   "source": [
    "#on entraine le model sur les données d'entrainement.\n",
    "model.fit(tfidf_train,y_train)\n",
    "#Create or open a file with write-binary mode and save the model to it\n",
    "pickle = pkl.dump(model, open(filenm, 'wb'))"
   ]
  },
  {
   "cell_type": "code",
   "execution_count": 14,
   "id": "bd347c64",
   "metadata": {},
   "outputs": [],
   "source": [
    "#on sort les predictions\n",
    "#Step 2: Open the saved file with read-binary mode\n",
    "model = pkl.load(open(filenm, 'rb'))\n",
    "y_pred=model.predict(tfidf_test)"
   ]
  },
  {
   "cell_type": "markdown",
   "id": "ae238d5e",
   "metadata": {},
   "source": [
    "# Optimisation"
   ]
  },
  {
   "cell_type": "markdown",
   "id": "9514d28f",
   "metadata": {},
   "source": [
    "Pour optimiser le model nous allons modifier les paramètres suivants:\n",
    "- **C (Le paramètre de régularisation)**: Un des paramètres les plus importants de l'algorithme passive aggressive. Il est utilisé pour controler la marge d'erreur que notre modèle est près à accepté. Si on lui donne une valeur de plus en plus élevé il se peut que le modèle suraprenne, car il s'adapte mieux aux données d'entrainement. Ainsi une valeur plus faible serait favorable. Nous allons tester C avec les valeurs suivantes: **[0.01,0.05,0.1,0.5,1]**"
   ]
  },
  {
   "cell_type": "code",
   "execution_count": 15,
   "id": "db59a59a",
   "metadata": {},
   "outputs": [],
   "source": [
    "params_grid={'C':[0.01,0.05,0.1,0.5,1]}"
   ]
  },
  {
   "cell_type": "code",
   "execution_count": 16,
   "id": "0be3cd04",
   "metadata": {},
   "outputs": [
    {
     "data": {
      "text/plain": [
       "GridSearchCV(cv=5,\n",
       "             estimator=PassiveAggressiveClassifier(early_stopping=True,\n",
       "                                                   random_state=42),\n",
       "             param_grid={'C': [0.01, 0.05, 0.1, 0.5, 1]},\n",
       "             scoring=make_scorer(accuracy_score))"
      ]
     },
     "execution_count": 16,
     "metadata": {},
     "output_type": "execute_result"
    }
   ],
   "source": [
    "from sklearn.model_selection import GridSearchCV\n",
    "from sklearn.linear_model import PassiveAggressiveClassifier\n",
    "from sklearn.metrics import make_scorer, accuracy_score\n",
    "\n",
    "\n",
    "# Initialize the Passive Aggressive Classifier\n",
    "model = PassiveAggressiveClassifier(random_state=42,early_stopping=True)\n",
    "\n",
    "# On creer un scorer pour le grid search \n",
    "scorer = make_scorer(accuracy_score)\n",
    "\n",
    "# Initialisation de la GridSearch pour trouver le meilleur C.\n",
    "grid_search = GridSearchCV(estimator=model, param_grid=params_grid, scoring=scorer, cv=5)\n",
    "\n",
    "# On lance les multiples entrainements.\n",
    "grid_search.fit(tfidf_train, y_train)\n"
   ]
  },
  {
   "cell_type": "code",
   "execution_count": 17,
   "id": "a3843406",
   "metadata": {},
   "outputs": [
    {
     "name": "stdout",
     "output_type": "stream",
     "text": [
      "Best parameters: {'C': 0.5}\n",
      "Best score: 0.9927904261529481\n"
     ]
    }
   ],
   "source": [
    "# Get the best combination of parameters\n",
    "best_params = grid_search.best_params_\n",
    "best_score = grid_search.best_score_\n",
    "\n",
    "print(f\"Best parameters: {best_params}\")\n",
    "print(f\"Best score: {best_score}\")\n"
   ]
  },
  {
   "cell_type": "markdown",
   "id": "c6ff16a4",
   "metadata": {},
   "source": [
    "# Model Evaluation"
   ]
  },
  {
   "cell_type": "markdown",
   "id": "5388c888",
   "metadata": {},
   "source": [
    "Afin d'évaluer le modèle nous faisons une représentation graphique des résultats obtenus. Nous allons étudier les metrics suivants:\n",
    "- le **temps d'entrainement** que le modèle a besoin, ainsi que son **taux de mémoire (Mo)**.\n",
    "- **matrice de confusion**, qui est un excellent choix d'évaluation de performance, car nous sommes dans le cas d'une classification binaire. \n",
    "- **L'accuracy** du model.\n",
    "- **La précision**\n",
    "- **recall**\n",
    "- **F1-score**.\n",
    "- **ROC-AUC score**\n",
    "\n",
    "src: https://www.v7labs.com/blog/performance-metrics-in-machine-learning#h2"
   ]
  },
  {
   "cell_type": "code",
   "execution_count": 18,
   "id": "492621ad",
   "metadata": {},
   "outputs": [],
   "source": [
    "#creation du modèle avec les meilleurs paramètres\n",
    "best_model=PassiveAggressiveClassifier(C=best_params['C'],\n",
    "                                       early_stopping=True,\n",
    "                                       verbose=True,\n",
    "                                       random_state=42)"
   ]
  },
  {
   "cell_type": "markdown",
   "id": "71ea99aa",
   "metadata": {},
   "source": [
    "Nous voullons étudier **le temps d'entrainement (en h/m/s)** et **l'utilisation de la mémoire (Mo)** que le modèle a besoin."
   ]
  },
  {
   "cell_type": "code",
   "execution_count": 19,
   "id": "d4cd440a",
   "metadata": {},
   "outputs": [],
   "source": [
    "def second_to_hms(seconds):\n",
    "    hours = seconds // 3600\n",
    "    minutes = (seconds % 3600) // 60\n",
    "    seconds = seconds % 60\n",
    "    return int(hours), int(minutes), int(seconds)\n",
    "\n",
    "def bytes_to_Mo(mem_bytes):\n",
    "    mem_kb = mem_bytes / 1024  # Convertir en kilooctets\n",
    "    mem_mb = mem_kb / 1024  # Convertir en mégaoctets\n",
    "    return mem_mb"
   ]
  },
  {
   "cell_type": "code",
   "execution_count": 20,
   "id": "2bb8cc6f",
   "metadata": {},
   "outputs": [
    {
     "name": "stdout",
     "output_type": "stream",
     "text": [
      "-- Epoch 1\n",
      "Norm: 50.22, NNZs: 48221, Bias: 0.754457, T: 30423, Avg. loss: 0.089139\n",
      "Total training time: 56.06 seconds.\n",
      "-- Epoch 2\n",
      "Norm: 58.42, NNZs: 50076, Bias: 1.323730, T: 60846, Avg. loss: 0.026460\n",
      "Total training time: 159.38 seconds.\n",
      "-- Epoch 3\n",
      "Norm: 63.03, NNZs: 50939, Bias: 0.978222, T: 91269, Avg. loss: 0.014987\n",
      "Total training time: 272.56 seconds.\n",
      "-- Epoch 4\n",
      "Norm: 66.19, NNZs: 51376, Bias: 1.427957, T: 121692, Avg. loss: 0.009891\n",
      "Total training time: 376.06 seconds.\n",
      "-- Epoch 5\n",
      "Norm: 68.04, NNZs: 51616, Bias: 0.667627, T: 152115, Avg. loss: 0.006047\n",
      "Total training time: 485.90 seconds.\n",
      "-- Epoch 6\n",
      "Norm: 69.45, NNZs: 51704, Bias: 1.090323, T: 182538, Avg. loss: 0.004447\n",
      "Total training time: 593.12 seconds.\n",
      "Convergence after 6 epochs took 643.31 seconds\n",
      "Temps d'entrainement (h | m | s) : 0 | 11 | 34\n",
      "Utilisation de la mémoire (Mo) : -85.6640625\n"
     ]
    }
   ],
   "source": [
    "#lancemenet de l'enrestristrement de la mémoire.\n",
    "process = psutil.Process(os.getpid())\n",
    "mem_before_bytes = process.memory_info().rss\n",
    "\n",
    "#lancement de l'enregistrement du temps d'entrainement.\n",
    "start_time = time.time() \n",
    "# entrainement du modèle.\n",
    "best_model.fit(tfidf_train,y_train)\n",
    "end_time = time.time()\n",
    "\n",
    "#le temps écoulé \n",
    "elapsed_time= end_time - start_time\n",
    "\n",
    "print(f\"Temps d'entrainement (h | m | s) : {second_to_hms(elapsed_time)[0]} | {second_to_hms(elapsed_time)[1]} | {second_to_hms(elapsed_time)[2]}\")\n",
    "\n",
    "mem_after_bytes = process.memory_info().rss\n",
    "#on convertit les bytes en Mo.\n",
    "mem_bytes=mem_after_bytes - mem_before_bytes\n",
    "\n",
    "\n",
    "print(f\"Utilisation de la mémoire (Mo) : {bytes_to_Mo(mem_bytes)}\")"
   ]
  },
  {
   "cell_type": "code",
   "execution_count": 21,
   "id": "688c7942",
   "metadata": {},
   "outputs": [],
   "source": [
    "#Create or open a file with write-binary mode and save the model to it\n",
    "pickle = pkl.dump(best_model, open(filenm, 'wb'))"
   ]
  },
  {
   "cell_type": "code",
   "execution_count": 22,
   "id": "99903805",
   "metadata": {},
   "outputs": [],
   "source": [
    "#optention des prédictions de ce modèle.\n",
    "y_pred=best_model.predict(tfidf_test)"
   ]
  },
  {
   "cell_type": "markdown",
   "id": "943d725b",
   "metadata": {},
   "source": [
    "Nous déterminons la **matrice de confusion**."
   ]
  },
  {
   "cell_type": "code",
   "execution_count": 23,
   "id": "9b00cae3",
   "metadata": {},
   "outputs": [
    {
     "data": {
      "image/png": "[encoded data removed]",
      "text/plain": [
       "<Figure size 432x288 with 2 Axes>"
      ]
     },
     "metadata": {
      "needs_background": "light"
     },
     "output_type": "display_data"
    }
   ],
   "source": [
    "#creation de la matrice de confusion\n",
    "cm = confusion_matrix(y_test, y_pred)\n",
    "\n",
    "#représentation graphique du résultat du meilleure model\n",
    "sns.heatmap(cm, annot=True)\n",
    "plt.xlabel('Les labels prédits')\n",
    "plt.ylabel('Les vrais labels')\n",
    "plt.title('Matrice de confusion')\n",
    "plt.show()"
   ]
  },
  {
   "cell_type": "code",
   "execution_count": 24,
   "id": "71cfc771",
   "metadata": {},
   "outputs": [
    {
     "name": "stdout",
     "output_type": "stream",
     "text": [
      "le modèle a donc 4204 instances vrai Positives et 4304 instances de Vrai négatives, 31 instances de Faux Positives et 27 instances de Faux négatives. \n"
     ]
    }
   ],
   "source": [
    "print(f\"le modèle a donc {cm[0][0]} instances vrai Positives et {cm[1][1]} instances de Vrai négatives, {cm[1][0]} instances de Faux Positives et {cm[0][1]} instances de Faux négatives. \")"
   ]
  },
  {
   "cell_type": "markdown",
   "id": "d250a110",
   "metadata": {},
   "source": [
    "Nous allons avant tout calculer **la précision globale (accuracy)** de notre modèle. "
   ]
  },
  {
   "cell_type": "code",
   "execution_count": 25,
   "id": "e34ca30c",
   "metadata": {},
   "outputs": [
    {
     "name": "stdout",
     "output_type": "stream",
     "text": [
      "Notre modèle a une précision globale de 99.32%, ce qui signifie qu'il prédit correctement les classes des instances dans 99.32% des cas.\n"
     ]
    }
   ],
   "source": [
    "acc=accuracy_score(y_pred,y_test)\n",
    "print(f\"Notre modèle a une précision globale de {round(acc*100,2)}%, ce qui signifie qu'il prédit correctement les classes des instances dans {round(acc*100,2)}% des cas.\")"
   ]
  },
  {
   "cell_type": "markdown",
   "id": "1a52bf89",
   "metadata": {},
   "source": [
    "on calcul le **precision**, c'est la capacité du modèle à correctement identifier les instances que nous avons prédits. Donc de prédire qu'une News vrai soit vraie."
   ]
  },
  {
   "cell_type": "code",
   "execution_count": 26,
   "id": "b3997bca",
   "metadata": {},
   "outputs": [
    {
     "name": "stdout",
     "output_type": "stream",
     "text": [
      "notre model a une precision de 99.38% . lorsqu'il prédit une classe comme positive, il a raison dans 99.38% des cas.\n"
     ]
    }
   ],
   "source": [
    "precision=precision_score(y_test,y_pred)\n",
    "print(f\"notre model a une precision de {round(precision*100,2)}% . lorsqu'il prédit une classe comme positive, il a raison dans {round(precision*100,2)}% des cas.\")"
   ]
  },
  {
   "cell_type": "markdown",
   "id": "2098f1fb",
   "metadata": {},
   "source": [
    "on calcul le **recall**, ce qui es le pourcentage de Vrai positif **(dans notre cas les Vrai news)** que notre modèle arrive à prédire."
   ]
  },
  {
   "cell_type": "code",
   "execution_count": 27,
   "id": "aca3567c",
   "metadata": {},
   "outputs": [
    {
     "name": "stdout",
     "output_type": "stream",
     "text": [
      "notre model arrive a détecter 99.28%. Donc sur l'ensemble des vrai positives, le modèle parvient à en identifier correctement 99.28% des cas.\n"
     ]
    }
   ],
   "source": [
    "recall=recall_score(y_test,y_pred)\n",
    "print(f\"notre model arrive a détecter {round(recall*100,2)}%. Donc sur l'ensemble des vrai positives, le modèle parvient à en identifier correctement {round(recall*100,2)}% des cas.\")"
   ]
  },
  {
   "cell_type": "markdown",
   "id": "273ef73d",
   "metadata": {},
   "source": [
    "On calcule le **F1-score**, c'est une combinaison de la précision et du recall, en calculant la moyenne harmonique entre les deux. Son but est **d'étudier l'équilibre entre la precision et le recall.**"
   ]
  },
  {
   "cell_type": "code",
   "execution_count": 28,
   "id": "ff22fa74",
   "metadata": {},
   "outputs": [
    {
     "name": "stdout",
     "output_type": "stream",
     "text": [
      "notre model a un F1-score de 99.33%, ce qui signifie que il y a un excellent equilibre entre le recall et la précision.\n"
     ]
    }
   ],
   "source": [
    "f1score=f1_score(y_test,y_pred)\n",
    "print(f\"notre model a un F1-score de {round(f1score*100,2)}%, ce qui signifie que il y a un excellent equilibre entre le recall et la précision.\")"
   ]
  },
  {
   "cell_type": "markdown",
   "id": "5d62ff0c",
   "metadata": {},
   "source": [
    "## Courbe ROC-AUC\n",
    "Dans le contexte d'une classification binaire, il est essentiel d'utiliser la courbe ROC-AUC pour évaluer notre modèle. Nous allons examiner deux aspects :\n",
    "\n",
    "- **ROC (Receiver Operating Characteristic)**: Cette courbe illustre le rapport entre le taux de vrais positifs et le taux de faux positifs. Elle permet de visualiser la capacité du modèle à discriminer entre les deux classes.\n",
    "\n",
    "- **AUC (Area Under the Curve)**: C'est une mesure qui résume la courbe ROC en calculant l'aire sous celle-ci et au-dessus de la diagonale qui va du coin inférieur gauche au coin supérieur droit du graphique. Un score AUC proche de 1 indique que notre modèle fait des prédictions presque parfaites. En revanche, un score proche de 0,5 suggère que nos prédictions sont principalement due au hasard, ce qui signifie que le modèle n'apprend pas de manière efficace.\n",
    "\n",
    "L'objectif de ces mesures est de déterminer à quel point notre modèle est efficace dans la tâche de classification binaire."
   ]
  },
  {
   "cell_type": "markdown",
   "id": "d5cb9735",
   "metadata": {},
   "source": [
    "On définit le score ROC-AUC."
   ]
  },
  {
   "cell_type": "code",
   "execution_count": 29,
   "id": "90529cad",
   "metadata": {},
   "outputs": [
    {
     "data": {
      "text/plain": [
       "0.9932337170829793"
      ]
     },
     "execution_count": 29,
     "metadata": {},
     "output_type": "execute_result"
    }
   ],
   "source": [
    "roc_auc=roc_auc_score(y_test,y_pred)\n",
    "roc_auc"
   ]
  },
  {
   "cell_type": "code",
   "execution_count": 30,
   "id": "259c0a0f",
   "metadata": {},
   "outputs": [
    {
     "name": "stdout",
     "output_type": "stream",
     "text": [
      "Le modèle a donc une score ROC-AUC de 0.9932337170829793 ce qui est très proche de 1, donc le modèle a une excellente capacité à différencier entres les Fake et les vrais news.\n"
     ]
    }
   ],
   "source": [
    "print(f\"Le modèle a donc une score ROC-AUC de {roc_auc} ce qui est très proche de 1, donc le modèle a une excellente capacité à différencier entres les Fake et les vrais news.\")"
   ]
  },
  {
   "cell_type": "markdown",
   "id": "c535e511",
   "metadata": {},
   "source": [
    "Avec une valeur aussi élevée, nous pouvons être confiants dans le fait que notre modèle est extrêmement précis et fiable pour notre tâche de classification, avec très peu de faux positifs et de faux négatifs. Cela indique que notre modèle fait des erreurs de prédiction minimales. Nous allons maintenant procéder à la représentation graphique de la courbe ROC-AUC."
   ]
  },
  {
   "cell_type": "code",
   "execution_count": 31,
   "id": "1dbef3f1",
   "metadata": {},
   "outputs": [
    {
     "data": {
      "image/png": "[encoded data removed]",
      "text/plain": [
       "<Figure size 432x288 with 1 Axes>"
      ]
     },
     "metadata": {
      "needs_background": "light"
     },
     "output_type": "display_data"
    }
   ],
   "source": [
    "fpr, tpr, _ = roc_curve(y_test, y_pred)\n",
    "plt.figure()\n",
    "plt.plot(fpr, tpr, color='darkorange', lw=2, label=f'ROC curve (AUC = {roc_auc:.2f})')\n",
    "plt.plot([0, 1], [0, 1], color='navy', lw=2, linestyle='--')\n",
    "plt.xlabel('Taux de Faux Positives (%)')\n",
    "plt.ylabel('Taux de Vrai Positives (%)')\n",
    "plt.title('Receiver Operating Characteristic (ROC)')\n",
    "plt.legend(loc=\"lower right\")\n",
    "plt.show()"
   ]
  },
  {
   "cell_type": "markdown",
   "id": "7ee03734",
   "metadata": {},
   "source": [
    "L'axe des abscisses (axe x) représente le taux de faux positifs, c'est-à-dire le pourcentage de vraies nouvelles que notre modèle a incorrectement classifiées comme fausses (Fake News).\n",
    "\n",
    "L'axe des ordonnées (axe y) indique le taux de vrais positifs, qui correspond au pourcentage de fausses nouvelles que notre modèle a correctement identifiées comme telles.\n",
    "\n",
    "La courbe montante vers le coin supérieur gauche du graphique suggère que le modèle parvient à maintenir un taux élevé de vrais positifs tout en minimisant le taux de faux positifs, ce qui est le comportement idéal pour un classificateur. \n",
    "Cette représentation représente la robustesse du mdoèle."
   ]
  },
  {
   "cell_type": "code",
   "execution_count": null,
   "id": "61e06aaa",
   "metadata": {},
   "outputs": [],
   "source": []
  },
  {
   "cell_type": "markdown",
   "id": "d1df9f5c",
   "metadata": {},
   "source": [
    "# Test de performances sur des données générées par Téléchargé ailleurs"
   ]
  },
  {
   "cell_type": "code",
   "execution_count": 9,
   "id": "9d323d6d",
   "metadata": {},
   "outputs": [
    {
     "name": "stderr",
     "output_type": "stream",
     "text": [
      "C:\\Users\\MIKED\\miniconda3\\Lib\\site-packages\\sklearn\\base.py:376: InconsistentVersionWarning: Trying to unpickle estimator TfidfTransformer from version 0.23.1 when using version 1.4.1.post1. This might lead to breaking code or invalid results. Use at your own risk. For more info please refer to:\n",
      "https://scikit-learn.org/stable/model_persistence.html#security-maintainability-limitations\n",
      "  warnings.warn(\n",
      "C:\\Users\\MIKED\\miniconda3\\Lib\\site-packages\\sklearn\\base.py:376: InconsistentVersionWarning: Trying to unpickle estimator TfidfVectorizer from version 0.23.1 when using version 1.4.1.post1. This might lead to breaking code or invalid results. Use at your own risk. For more info please refer to:\n",
      "https://scikit-learn.org/stable/model_persistence.html#security-maintainability-limitations\n",
      "  warnings.warn(\n",
      "C:\\Users\\MIKED\\miniconda3\\Lib\\site-packages\\sklearn\\base.py:376: InconsistentVersionWarning: Trying to unpickle estimator PassiveAggressiveClassifier from version 0.23.1 when using version 1.4.1.post1. This might lead to breaking code or invalid results. Use at your own risk. For more info please refer to:\n",
      "https://scikit-learn.org/stable/model_persistence.html#security-maintainability-limitations\n",
      "  warnings.warn(\n"
     ]
    }
   ],
   "source": [
    "filenm = 'PassiveAggressiveClassifier_model.pickle'\n",
    "tfidf_vectorizer = joblib.load('tfidf_vectorizer.pkl')\n",
    "best_model=pkl.load(open(filenm, 'rb'))"
   ]
  },
  {
   "cell_type": "code",
   "execution_count": 10,
   "id": "4a18ebbc",
   "metadata": {},
   "outputs": [
    {
     "data": {
      "text/html": [
       "<div>\n",
       "<style scoped>\n",
       "    .dataframe tbody tr th:only-of-type {\n",
       "        vertical-align: middle;\n",
       "    }\n",
       "\n",
       "    .dataframe tbody tr th {\n",
       "        vertical-align: top;\n",
       "    }\n",
       "\n",
       "    .dataframe thead th {\n",
       "        text-align: right;\n",
       "    }\n",
       "</style>\n",
       "<table border=\"1\" class=\"dataframe\">\n",
       "  <thead>\n",
       "    <tr style=\"text-align: right;\">\n",
       "      <th></th>\n",
       "      <th>Unnamed: 0</th>\n",
       "      <th>text</th>\n",
       "      <th>isFake</th>\n",
       "    </tr>\n",
       "  </thead>\n",
       "  <tbody>\n",
       "    <tr>\n",
       "      <th>0</th>\n",
       "      <td>0</td>\n",
       "      <td>Daniel Greenfield, a Shillman Journalism Fello...</td>\n",
       "      <td>False</td>\n",
       "    </tr>\n",
       "    <tr>\n",
       "      <th>1</th>\n",
       "      <td>1</td>\n",
       "      <td>Google Pinterest Digg Linkedin Reddit Stumbleu...</td>\n",
       "      <td>False</td>\n",
       "    </tr>\n",
       "    <tr>\n",
       "      <th>2</th>\n",
       "      <td>2</td>\n",
       "      <td>U.S. Secretary of State John F. Kerry said Mon...</td>\n",
       "      <td>True</td>\n",
       "    </tr>\n",
       "    <tr>\n",
       "      <th>3</th>\n",
       "      <td>3</td>\n",
       "      <td>— Kaydee King (@KaydeeKing) November 9, 2016 T...</td>\n",
       "      <td>False</td>\n",
       "    </tr>\n",
       "    <tr>\n",
       "      <th>4</th>\n",
       "      <td>4</td>\n",
       "      <td>It's primary day in New York and front-runners...</td>\n",
       "      <td>True</td>\n",
       "    </tr>\n",
       "  </tbody>\n",
       "</table>\n",
       "</div>"
      ],
      "text/plain": [
       "   Unnamed: 0                                               text  isFake\n",
       "0           0  Daniel Greenfield, a Shillman Journalism Fello...   False\n",
       "1           1  Google Pinterest Digg Linkedin Reddit Stumbleu...   False\n",
       "2           2  U.S. Secretary of State John F. Kerry said Mon...    True\n",
       "3           3  — Kaydee King (@KaydeeKing) November 9, 2016 T...   False\n",
       "4           4  It's primary day in New York and front-runners...    True"
      ]
     },
     "execution_count": 10,
     "metadata": {},
     "output_type": "execute_result"
    }
   ],
   "source": [
    "validation_data=pd.read_csv(\"data/validation_data.csv\")\n",
    "validation_data.head()"
   ]
  },
  {
   "cell_type": "code",
   "execution_count": 11,
   "id": "8df89c5f",
   "metadata": {},
   "outputs": [
    {
     "data": {
      "text/html": [
       "<div>\n",
       "<style scoped>\n",
       "    .dataframe tbody tr th:only-of-type {\n",
       "        vertical-align: middle;\n",
       "    }\n",
       "\n",
       "    .dataframe tbody tr th {\n",
       "        vertical-align: top;\n",
       "    }\n",
       "\n",
       "    .dataframe thead th {\n",
       "        text-align: right;\n",
       "    }\n",
       "</style>\n",
       "<table border=\"1\" class=\"dataframe\">\n",
       "  <thead>\n",
       "    <tr style=\"text-align: right;\">\n",
       "      <th></th>\n",
       "      <th>text</th>\n",
       "      <th>isFake</th>\n",
       "    </tr>\n",
       "  </thead>\n",
       "  <tbody>\n",
       "    <tr>\n",
       "      <th>0</th>\n",
       "      <td>Daniel Greenfield, a Shillman Journalism Fello...</td>\n",
       "      <td>False</td>\n",
       "    </tr>\n",
       "    <tr>\n",
       "      <th>1</th>\n",
       "      <td>Google Pinterest Digg Linkedin Reddit Stumbleu...</td>\n",
       "      <td>False</td>\n",
       "    </tr>\n",
       "    <tr>\n",
       "      <th>2</th>\n",
       "      <td>U.S. Secretary of State John F. Kerry said Mon...</td>\n",
       "      <td>True</td>\n",
       "    </tr>\n",
       "    <tr>\n",
       "      <th>3</th>\n",
       "      <td>— Kaydee King (@KaydeeKing) November 9, 2016 T...</td>\n",
       "      <td>False</td>\n",
       "    </tr>\n",
       "    <tr>\n",
       "      <th>4</th>\n",
       "      <td>It's primary day in New York and front-runners...</td>\n",
       "      <td>True</td>\n",
       "    </tr>\n",
       "    <tr>\n",
       "      <th>...</th>\n",
       "      <td>...</td>\n",
       "      <td>...</td>\n",
       "    </tr>\n",
       "    <tr>\n",
       "      <th>6330</th>\n",
       "      <td>The State Department told the Republican Natio...</td>\n",
       "      <td>True</td>\n",
       "    </tr>\n",
       "    <tr>\n",
       "      <th>6331</th>\n",
       "      <td>The ‘P’ in PBS Should Stand for ‘Plutocratic’ ...</td>\n",
       "      <td>False</td>\n",
       "    </tr>\n",
       "    <tr>\n",
       "      <th>6332</th>\n",
       "      <td>Anti-Trump Protesters Are Tools of the Oligar...</td>\n",
       "      <td>False</td>\n",
       "    </tr>\n",
       "    <tr>\n",
       "      <th>6333</th>\n",
       "      <td>ADDIS ABABA, Ethiopia —President Obama convene...</td>\n",
       "      <td>True</td>\n",
       "    </tr>\n",
       "    <tr>\n",
       "      <th>6334</th>\n",
       "      <td>Jeb Bush Is Suddenly Attacking Trump. Here's W...</td>\n",
       "      <td>True</td>\n",
       "    </tr>\n",
       "  </tbody>\n",
       "</table>\n",
       "<p>6335 rows × 2 columns</p>\n",
       "</div>"
      ],
      "text/plain": [
       "                                                   text  isFake\n",
       "0     Daniel Greenfield, a Shillman Journalism Fello...   False\n",
       "1     Google Pinterest Digg Linkedin Reddit Stumbleu...   False\n",
       "2     U.S. Secretary of State John F. Kerry said Mon...    True\n",
       "3     — Kaydee King (@KaydeeKing) November 9, 2016 T...   False\n",
       "4     It's primary day in New York and front-runners...    True\n",
       "...                                                 ...     ...\n",
       "6330  The State Department told the Republican Natio...    True\n",
       "6331  The ‘P’ in PBS Should Stand for ‘Plutocratic’ ...   False\n",
       "6332   Anti-Trump Protesters Are Tools of the Oligar...   False\n",
       "6333  ADDIS ABABA, Ethiopia —President Obama convene...    True\n",
       "6334  Jeb Bush Is Suddenly Attacking Trump. Here's W...    True\n",
       "\n",
       "[6335 rows x 2 columns]"
      ]
     },
     "execution_count": 11,
     "metadata": {},
     "output_type": "execute_result"
    }
   ],
   "source": [
    "validation_data=validation_data[['text','isFake']]\n",
    "validation_data"
   ]
  },
  {
   "cell_type": "code",
   "execution_count": 12,
   "id": "30ad5a2e",
   "metadata": {},
   "outputs": [],
   "source": [
    "# Prepare the data\n",
    "validation_data_X = validation_data['text'].apply(lambda x: x.lower())  # the text data\n",
    "validation_data_y=validation_data['isFake']\n",
    "\n",
    "# Transform the data using the TF-IDF Vectorizer\n",
    "X_tfidf = tfidf_vectorizer.transform(validation_data_X)\n",
    "\n",
    "# Use the trained model to make predictions on the dataset\n",
    "predictions = best_model.predict(X_tfidf)"
   ]
  },
  {
   "cell_type": "code",
   "execution_count": 13,
   "id": "7c6550b8",
   "metadata": {},
   "outputs": [
    {
     "data": {
      "text/plain": [
       "array([[ 217, 2947],\n",
       "       [ 791, 2380]], dtype=int64)"
      ]
     },
     "execution_count": 13,
     "metadata": {},
     "output_type": "execute_result"
    }
   ],
   "source": [
    "confusion_matrix(validation_data_y,predictions)"
   ]
  },
  {
   "cell_type": "code",
   "execution_count": 15,
   "id": "cbfe4924",
   "metadata": {},
   "outputs": [
    {
     "data": {
      "text/plain": [
       "0.40994475138121544"
      ]
     },
     "execution_count": 15,
     "metadata": {},
     "output_type": "execute_result"
    }
   ],
   "source": [
    "accuracy_score(validation_data_y,predictions)"
   ]
  },
  {
   "cell_type": "markdown",
   "id": "9ed98ec1",
   "metadata": {},
   "source": [
    "# Conclusion"
   ]
  },
  {
   "cell_type": "markdown",
   "id": "034d2e33",
   "metadata": {},
   "source": [
    "les évaluations et analyses approfondies de notre modèle confirment qu'il est extrêmement efficace et fiable pour l'identification des fake news. Ses performances élevées sur plusieurs métriques clés (accuracy,precision,recall,F1-score et ROC-AUC) démontrent sa capacité à fournir des prédictions précises et équilibrées, confortant notre choix d'utiliser ce modèle pour cette tache."
   ]
  },
  {
   "cell_type": "code",
   "execution_count": null,
   "id": "3fb32fee",
   "metadata": {},
   "outputs": [],
   "source": []
  },
  {
   "cell_type": "code",
   "execution_count": null,
   "id": "98876bd2",
   "metadata": {},
   "outputs": [],
   "source": []
  },
  {
   "cell_type": "code",
   "execution_count": null,
   "id": "581fda88",
   "metadata": {},
   "outputs": [],
   "source": []
  },
  {
   "cell_type": "code",
   "execution_count": null,
   "id": "92b90975",
   "metadata": {},
   "outputs": [],
   "source": []
  }
 ],
 "metadata": {
  "kernelspec": {
   "display_name": "Python 3 (ipykernel)",
   "language": "python",
   "name": "python3"
  },
  "language_info": {
   "codemirror_mode": {
    "name": "ipython",
    "version": 3
   },
   "file_extension": ".py",
   "mimetype": "text/x-python",
   "name": "python",
   "nbconvert_exporter": "python",
   "pygments_lexer": "ipython3",
   "version": "3.11.5"
  }
 },
 "nbformat": 4,
 "nbformat_minor": 5
}
