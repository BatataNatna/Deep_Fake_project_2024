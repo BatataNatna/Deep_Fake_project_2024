{
 "cells": [
  {
   "cell_type": "markdown",
   "metadata": {},
   "source": [
    "# Libraires"
   ]
  },
  {
   "cell_type": "code",
   "execution_count": 15,
   "metadata": {},
   "outputs": [],
   "source": [
    "import seaborn as sns\n",
    "import matplotlib.pyplot as plt\n",
    "import pandas as pd\n",
    "from sklearn.linear_model import PassiveAggressiveClassifier #used to train the model\n",
    "from sklearn.metrics import accuracy_score, confusion_matrix # this is used to analyze the results.\n",
    "from sklearn.model_selection import train_test_split # to separate the dataset.\n",
    "from sklearn.feature_extraction.text import TfidfVectorizer #used for the transformation of text data."
   ]
  },
  {
   "cell_type": "markdown",
   "metadata": {},
   "source": [
    "# Load Data"
   ]
  },
  {
   "cell_type": "code",
   "execution_count": 6,
   "metadata": {},
   "outputs": [
    {
     "data": {
      "text/html": [
       "<div>\n",
       "<style scoped>\n",
       "    .dataframe tbody tr th:only-of-type {\n",
       "        vertical-align: middle;\n",
       "    }\n",
       "\n",
       "    .dataframe tbody tr th {\n",
       "        vertical-align: top;\n",
       "    }\n",
       "\n",
       "    .dataframe thead th {\n",
       "        text-align: right;\n",
       "    }\n",
       "</style>\n",
       "<table border=\"1\" class=\"dataframe\">\n",
       "  <thead>\n",
       "    <tr style=\"text-align: right;\">\n",
       "      <th></th>\n",
       "      <th>title</th>\n",
       "      <th>text</th>\n",
       "      <th>isFake</th>\n",
       "    </tr>\n",
       "  </thead>\n",
       "  <tbody>\n",
       "    <tr>\n",
       "      <th>0</th>\n",
       "      <td>Nancy Pelosi Backs BOMBSHELL Legislation That...</td>\n",
       "      <td>Donald Trump hasn t even been president for a ...</td>\n",
       "      <td>True</td>\n",
       "    </tr>\n",
       "    <tr>\n",
       "      <th>1</th>\n",
       "      <td>Ukraine prosecutor says puzzled by lack of U.S...</td>\n",
       "      <td>KIEV (Reuters) - Ukraine is puzzled by the lac...</td>\n",
       "      <td>False</td>\n",
       "    </tr>\n",
       "    <tr>\n",
       "      <th>2</th>\n",
       "      <td>Trump nominates businessman with Asia backgrou...</td>\n",
       "      <td>WASHINGTON (Reuters) - U.S. President Donald T...</td>\n",
       "      <td>False</td>\n",
       "    </tr>\n",
       "    <tr>\n",
       "      <th>3</th>\n",
       "      <td>Zimbabwe's Mnangagwa opens amnesty window for ...</td>\n",
       "      <td>HARARE (Reuters) - Zimbabwe s new president, E...</td>\n",
       "      <td>False</td>\n",
       "    </tr>\n",
       "    <tr>\n",
       "      <th>4</th>\n",
       "      <td>OBAMA’S COMMUNIST ENVIRONMENTAL ARM Tells Kids...</td>\n",
       "      <td>Our children don t need the EPA to tell them h...</td>\n",
       "      <td>True</td>\n",
       "    </tr>\n",
       "  </tbody>\n",
       "</table>\n",
       "</div>"
      ],
      "text/plain": [
       "                                               title  \\\n",
       "0   Nancy Pelosi Backs BOMBSHELL Legislation That...   \n",
       "1  Ukraine prosecutor says puzzled by lack of U.S...   \n",
       "2  Trump nominates businessman with Asia backgrou...   \n",
       "3  Zimbabwe's Mnangagwa opens amnesty window for ...   \n",
       "4  OBAMA’S COMMUNIST ENVIRONMENTAL ARM Tells Kids...   \n",
       "\n",
       "                                                text  isFake  \n",
       "0  Donald Trump hasn t even been president for a ...    True  \n",
       "1  KIEV (Reuters) - Ukraine is puzzled by the lac...   False  \n",
       "2  WASHINGTON (Reuters) - U.S. President Donald T...   False  \n",
       "3  HARARE (Reuters) - Zimbabwe s new president, E...   False  \n",
       "4  Our children don t need the EPA to tell them h...    True  "
      ]
     },
     "execution_count": 6,
     "metadata": {},
     "output_type": "execute_result"
    }
   ],
   "source": [
    "data=pd.read_csv('title_text.csv').drop(['Unnamed: 0'],axis=1)\n",
    "data.head()"
   ]
  },
  {
   "cell_type": "markdown",
   "metadata": {},
   "source": [
    "## Modification du text en données numériques.\n",
    "Nous partons du principe que les données ont étés clean et que nous pouvons nous concerntrer à créer un model.\n",
    "\n",
    "Comme les informations principales pour définir des Fake news et des vrai news, se base sur le texte et le titre, nous devons nous focaliser sur ces informations. Il faut ainsi que nous transformons le text et le titre en données afin que notre model puisse utiliser des données numériques pour trouver la bonne réponse. Nous allons utiliser la methode de TF-IDF vectorizing.\n",
    "\n",
    "### TF-IDF vectorizer\n",
    "Cette méthode offre la possibilité de déterminer les scores TF-IDF de nos données textuelles. Ce qui signifie : \n",
    "\n",
    "TF -> la Fréquence du Terme : le nombre de fois qu'un mot apparaît, en éliminant les mots qui ne sont pas importants.\n",
    "\n",
    "IDF -> la fréquence inverse de détection : le même concept que TF, mais l'analyse va au-delà de la simple ligne, la fréquence dans l'ensemble du dataset est analysée.\n",
    "\n",
    "Ces informations seront utilisées comme données pour notre modèle d'apprentissage automatique.\n",
    "\n",
    "(il est important de faire cela uniquement sur nos données d'entraînement, sinon le modèle connaîtra les données de test)"
   ]
  },
  {
   "cell_type": "code",
   "execution_count": 7,
   "metadata": {},
   "outputs": [],
   "source": [
    "X=data.drop(['isFake'],axis=1)\n",
    "y=data['isFake']\n",
    "#spearation en données d'entrainement et de test.\n",
    "X_train, X_test, y_train, y_test = train_test_split(X['text'], y, test_size=0.2, random_state=42)\n",
    "\n",
    "tfidf_vectorizer=TfidfVectorizer(use_idf=True)\n",
    "\n",
    "# On fit et transforme les données d'entrainement.\n",
    "tfidf_train=tfidf_vectorizer.fit_transform(X_train).toarray()\n",
    "\n",
    "# on transfomer uniquement le test set, sinon il va connaitre les données test...\n",
    "tfidf_test=tfidf_vectorizer.transform(X_test)"
   ]
  },
  {
   "cell_type": "markdown",
   "metadata": {},
   "source": [
    "## Model Passive Agressive"
   ]
  },
  {
   "cell_type": "code",
   "execution_count": 10,
   "metadata": {},
   "outputs": [
    {
     "name": "stdout",
     "output_type": "stream",
     "text": [
      "The confusion matrix:\n",
      "[[4209   22]\n",
      " [  25 4310]]\n",
      "The accuracy of our model:99.4513191688069\n"
     ]
    }
   ],
   "source": [
    "# we build our model: C is the regulation parameter, and denotes the penalization the model will make on an incorrect prediciton.\n",
    "model = PassiveAggressiveClassifier(C = 0.5, random_state = 5)\n",
    "\n",
    "#on entraine le model sur les données d'entrainement.\n",
    "model.fit(tfidf_train,y_train) "
   ]
  },
  {
   "cell_type": "code",
   "execution_count": null,
   "metadata": {},
   "outputs": [],
   "source": [
    "#on sort les predictions\n",
    "y_pred=model.predict(tfidf_test)"
   ]
  },
  {
   "cell_type": "markdown",
   "metadata": {},
   "source": [
    "# Model Evaluation"
   ]
  },
  {
   "cell_type": "code",
   "execution_count": 11,
   "metadata": {},
   "outputs": [
    {
     "name": "stdout",
     "output_type": "stream",
     "text": [
      "The confusion matrix:\n",
      "[[4209   22]\n",
      " [  25 4310]]\n",
      "The accuracy of our model:99.4513191688069\n"
     ]
    }
   ],
   "source": [
    "#get the confusion matrix\n",
    "cm=confusion_matrix(y_test,y_pred)\n",
    "#get the accuracy of our model.\n",
    "acc= accuracy_score(y_test,y_pred)\n",
    "\n",
    "print(\"The confusion matrix:\")\n",
    "print(cm)\n",
    "\n",
    "print(\"The accuracy of our model:\"+ str(acc*100))"
   ]
  },
  {
   "cell_type": "code",
   "execution_count": 12,
   "metadata": {},
   "outputs": [
    {
     "name": "stdout",
     "output_type": "stream",
     "text": [
      "              precision    recall  f1-score   support\n",
      "\n",
      "       False       0.99      0.99      0.99      4231\n",
      "        True       0.99      0.99      0.99      4335\n",
      "\n",
      "    accuracy                           0.99      8566\n",
      "   macro avg       0.99      0.99      0.99      8566\n",
      "weighted avg       0.99      0.99      0.99      8566\n",
      "\n"
     ]
    }
   ],
   "source": [
    "from sklearn.metrics import classification_report\n",
    "\n",
    "report = classification_report(y_test, y_pred)\n",
    "print(report)"
   ]
  },
  {
   "cell_type": "code",
   "execution_count": 16,
   "metadata": {},
   "outputs": [
    {
     "data": {
      "image/png": "[encoded data removed]",
      "text/plain": [
       "<Figure size 432x288 with 2 Axes>"
      ]
     },
     "metadata": {
      "needs_background": "light"
     },
     "output_type": "display_data"
    }
   ],
   "source": [
    "import seaborn as sns\n",
    "import matplotlib.pyplot as plt\n",
    "\n",
    "cm = confusion_matrix(y_test, y_pred)\n",
    "sns.heatmap(cm, annot=True, fmt=\"d\", cmap=\"Blues\")\n",
    "plt.xlabel('Predicted labels')\n",
    "plt.ylabel('True labels')\n",
    "plt.title('Confusion Matrix')\n",
    "plt.show()"
   ]
  },
  {
   "cell_type": "code",
   "execution_count": null,
   "metadata": {},
   "outputs": [],
   "source": []
  }
 ],
 "metadata": {
  "kernelspec": {
   "display_name": "Python 3",
   "language": "python",
   "name": "python3"
  },
  "language_info": {
   "codemirror_mode": {
    "name": "ipython",
    "version": 3
   },
   "file_extension": ".py",
   "mimetype": "text/x-python",
   "name": "python",
   "nbconvert_exporter": "python",
   "pygments_lexer": "ipython3",
   "version": "3.8.3"
  }
 },
 "nbformat": 4,
 "nbformat_minor": 5
}
