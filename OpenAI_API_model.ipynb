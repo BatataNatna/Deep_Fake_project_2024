{
 "cells": [
  {
   "cell_type": "code",
   "execution_count": 1,
   "metadata": {},
   "outputs": [
    {
     "name": "stdout",
     "output_type": "stream",
     "text": [
      "Requirement already satisfied: openai in c:\\users\\rymkm\\anaconda3\\lib\\site-packages (1.28.0)Note: you may need to restart the kernel to use updated packages.\n",
      "\n",
      "Requirement already satisfied: anyio<5,>=3.5.0 in c:\\users\\rymkm\\anaconda3\\lib\\site-packages (from openai) (3.7.1)\n",
      "Requirement already satisfied: distro<2,>=1.7.0 in c:\\users\\rymkm\\anaconda3\\lib\\site-packages (from openai) (1.9.0)\n",
      "Requirement already satisfied: httpx<1,>=0.23.0 in c:\\users\\rymkm\\anaconda3\\lib\\site-packages (from openai) (0.27.0)\n",
      "Requirement already satisfied: pydantic<3,>=1.9.0 in c:\\users\\rymkm\\anaconda3\\lib\\site-packages (from openai) (2.1.1)\n",
      "Requirement already satisfied: sniffio in c:\\users\\rymkm\\anaconda3\\lib\\site-packages (from openai) (1.3.0)\n",
      "Requirement already satisfied: tqdm>4 in c:\\users\\rymkm\\anaconda3\\lib\\site-packages (from openai) (4.66.1)\n",
      "Requirement already satisfied: typing-extensions<5,>=4.7 in c:\\users\\rymkm\\anaconda3\\lib\\site-packages (from openai) (4.10.0)\n",
      "Requirement already satisfied: idna>=2.8 in c:\\users\\rymkm\\anaconda3\\lib\\site-packages (from anyio<5,>=3.5.0->openai) (3.4)\n",
      "Requirement already satisfied: certifi in c:\\users\\rymkm\\anaconda3\\lib\\site-packages (from httpx<1,>=0.23.0->openai) (2024.2.2)\n",
      "Requirement already satisfied: httpcore==1.* in c:\\users\\rymkm\\anaconda3\\lib\\site-packages (from httpx<1,>=0.23.0->openai) (1.0.5)\n",
      "Requirement already satisfied: h11<0.15,>=0.13 in c:\\users\\rymkm\\anaconda3\\lib\\site-packages (from httpcore==1.*->httpx<1,>=0.23.0->openai) (0.14.0)\n",
      "Requirement already satisfied: annotated-types>=0.4.0 in c:\\users\\rymkm\\anaconda3\\lib\\site-packages (from pydantic<3,>=1.9.0->openai) (0.5.0)\n",
      "Requirement already satisfied: pydantic-core==2.4.0 in c:\\users\\rymkm\\anaconda3\\lib\\site-packages (from pydantic<3,>=1.9.0->openai) (2.4.0)\n",
      "Requirement already satisfied: colorama in c:\\users\\rymkm\\anaconda3\\lib\\site-packages (from tqdm>4->openai) (0.4.6)\n"
     ]
    }
   ],
   "source": [
    "%pip install openai\n",
    "from openai import OpenAI\n",
    "import json\n",
    "import warnings\n",
    "warnings.filterwarnings('ignore')\n",
    "import pandas as pd"
   ]
  },
  {
   "cell_type": "markdown",
   "metadata": {},
   "source": [
    "# OpenAI API and Data Setup"
   ]
  },
  {
   "cell_type": "code",
   "execution_count": 3,
   "metadata": {},
   "outputs": [
    {
     "ename": "KeyError",
     "evalue": "'OPENAI_API_KEY'",
     "output_type": "error",
     "traceback": [
      "\u001b[1;31m---------------------------------------------------------------------------\u001b[0m",
      "\u001b[1;31mKeyError\u001b[0m                                  Traceback (most recent call last)",
      "Cell \u001b[1;32mIn[3], line 4\u001b[0m\n\u001b[0;32m      2\u001b[0m \u001b[38;5;28;01mwith\u001b[39;00m \u001b[38;5;28mopen\u001b[39m(\u001b[38;5;124m'\u001b[39m\u001b[38;5;124mconfig.json\u001b[39m\u001b[38;5;124m'\u001b[39m) \u001b[38;5;28;01mas\u001b[39;00m f:\n\u001b[0;32m      3\u001b[0m     data \u001b[38;5;241m=\u001b[39m json\u001b[38;5;241m.\u001b[39mload(f)\n\u001b[1;32m----> 4\u001b[0m     api_key \u001b[38;5;241m=\u001b[39m data[\u001b[38;5;124m'\u001b[39m\u001b[38;5;124mOPENAI_API_KEY\u001b[39m\u001b[38;5;124m'\u001b[39m]\n\u001b[0;32m      5\u001b[0m     f\u001b[38;5;241m.\u001b[39mclose()\n\u001b[0;32m      7\u001b[0m client \u001b[38;5;241m=\u001b[39m OpenAI(\n\u001b[0;32m      8\u001b[0m     api_key\u001b[38;5;241m=\u001b[39mapi_key\n\u001b[0;32m      9\u001b[0m )\n",
      "\u001b[1;31mKeyError\u001b[0m: 'OPENAI_API_KEY'"
     ]
    },
    {
     "ename": "",
     "evalue": "",
     "output_type": "error",
     "traceback": [
      "\u001b[1;31mThe Kernel crashed while executing code in the current cell or a previous cell. \n",
      "\u001b[1;31mPlease review the code in the cell(s) to identify a possible cause of the failure. \n",
      "\u001b[1;31mClick <a href='https://aka.ms/vscodeJupyterKernelCrash'>here</a> for more info. \n",
      "\u001b[1;31mView Jupyter <a href='command:jupyter.viewOutput'>log</a> for further details."
     ]
    }
   ],
   "source": [
    "#get the openai api key from config.json file.\n",
    "with open('config.json') as f:\n",
    "    data = json.load(f)\n",
    "    api_key = data['OPENAI_API_KEY']\n",
    "    f.close()\n",
    "\n",
    "client = OpenAI(\n",
    "    api_key=api_key\n",
    ")"
   ]
  },
  {
   "cell_type": "code",
   "execution_count": 3,
   "metadata": {},
   "outputs": [],
   "source": [
    "#we select the data/true_clean.csv and fake data and fuse them into a single dataframe.\n",
    "\n",
    "true_df = pd.read_csv('data/true_clean.csv')\n",
    "fake_df = pd.read_csv('data/fake_clean.csv')\n",
    "fake_df = fake_df.sample(n=len(true_df), replace=True, random_state=42)\n",
    "# On ajoute à chaque dataframe la colonne \"isFake\"\n",
    "fake_df[\"isFake\"]=True\n",
    "true_df[\"isFake\"]=False\n",
    "# we fuse the dataset and shuffle it\n",
    "df = pd.concat([true_df, fake_df])\n",
    "df = df.sample(frac=1, random_state=42).reset_index(drop=True)"
   ]
  },
  {
   "cell_type": "code",
   "execution_count": 4,
   "metadata": {},
   "outputs": [
    {
     "data": {
      "text/plain": [
       "Index(['title', 'text', 'subject', 'date', 'title_processed', 'text_processed',\n",
       "       'isFake'],\n",
       "      dtype='object')"
      ]
     },
     "execution_count": 4,
     "metadata": {},
     "output_type": "execute_result"
    }
   ],
   "source": [
    "df.columns"
   ]
  },
  {
   "cell_type": "code",
   "execution_count": 4,
   "metadata": {},
   "outputs": [],
   "source": [
    "data = df[['text_processed','isFake']]"
   ]
  },
  {
   "cell_type": "code",
   "execution_count": 5,
   "metadata": {},
   "outputs": [
    {
     "data": {
      "text/plain": [
       "array([False,  True])"
      ]
     },
     "execution_count": 5,
     "metadata": {},
     "output_type": "execute_result"
    }
   ],
   "source": [
    "data.isFake.unique()"
   ]
  },
  {
   "cell_type": "code",
   "execution_count": 6,
   "metadata": {},
   "outputs": [
    {
     "data": {
      "text/plain": [
       "(41642, 2)"
      ]
     },
     "execution_count": 6,
     "metadata": {},
     "output_type": "execute_result"
    }
   ],
   "source": [
    "data.shape"
   ]
  },
  {
   "cell_type": "code",
   "execution_count": 7,
   "metadata": {},
   "outputs": [
    {
     "data": {
      "text/plain": [
       "'washington reuter north korea ambassador unit nation friday ignor we call cessat weapon test allow talk pyongyang nuclear program say countri would pose threat state long interest infring upon us secretari state rex tillerson earli tell meet un secur council pyongyang nuclear ballist missil program sustain cessat north korea threaten behavior need talk could occur washington pyongyang north korea un ambassador ja song nam make mention tillerson call speech session call desper measur plot we terrifi incred might republ success achiev great histor caus complet state nuclear forc'"
      ]
     },
     "execution_count": 7,
     "metadata": {},
     "output_type": "execute_result"
    }
   ],
   "source": [
    "data.iloc[0]['text_processed']"
   ]
  },
  {
   "cell_type": "code",
   "execution_count": 8,
   "metadata": {},
   "outputs": [
    {
     "data": {
      "text/plain": [
       "False"
      ]
     },
     "execution_count": 8,
     "metadata": {},
     "output_type": "execute_result"
    }
   ],
   "source": [
    "data.iloc[0]['isFake']"
   ]
  },
  {
   "cell_type": "code",
   "execution_count": 9,
   "metadata": {},
   "outputs": [],
   "source": [
    "data['isFake'] = data['isFake'].astype(int)"
   ]
  },
  {
   "cell_type": "code",
   "execution_count": 10,
   "metadata": {},
   "outputs": [
    {
     "data": {
      "text/plain": [
       "0"
      ]
     },
     "execution_count": 10,
     "metadata": {},
     "output_type": "execute_result"
    }
   ],
   "source": [
    "data.iloc[0]['isFake'] #fake is 0 and true is 1"
   ]
  },
  {
   "cell_type": "code",
   "execution_count": 11,
   "metadata": {},
   "outputs": [
    {
     "data": {
      "text/plain": [
       "text_processed    4\n",
       "isFake            0\n",
       "dtype: int64"
      ]
     },
     "execution_count": 11,
     "metadata": {},
     "output_type": "execute_result"
    }
   ],
   "source": [
    "#check data for nan values\n",
    "data.isnull().sum()"
   ]
  },
  {
   "cell_type": "code",
   "execution_count": 12,
   "metadata": {},
   "outputs": [],
   "source": [
    "data=data.dropna()"
   ]
  },
  {
   "cell_type": "code",
   "execution_count": 13,
   "metadata": {},
   "outputs": [
    {
     "data": {
      "text/html": [
       "<div>\n",
       "<style scoped>\n",
       "    .dataframe tbody tr th:only-of-type {\n",
       "        vertical-align: middle;\n",
       "    }\n",
       "\n",
       "    .dataframe tbody tr th {\n",
       "        vertical-align: top;\n",
       "    }\n",
       "\n",
       "    .dataframe thead th {\n",
       "        text-align: right;\n",
       "    }\n",
       "</style>\n",
       "<table border=\"1\" class=\"dataframe\">\n",
       "  <thead>\n",
       "    <tr style=\"text-align: right;\">\n",
       "      <th></th>\n",
       "      <th>text_processed</th>\n",
       "      <th>isFake</th>\n",
       "    </tr>\n",
       "  </thead>\n",
       "  <tbody>\n",
       "    <tr>\n",
       "      <th>0</th>\n",
       "      <td>washington reuter north korea ambassador unit ...</td>\n",
       "      <td>0</td>\n",
       "    </tr>\n",
       "    <tr>\n",
       "      <th>1</th>\n",
       "      <td>trump offici go next presid unit state support...</td>\n",
       "      <td>1</td>\n",
       "    </tr>\n",
       "    <tr>\n",
       "      <th>2</th>\n",
       "      <td>hous repres vote tuesday end fraud within depa...</td>\n",
       "      <td>1</td>\n",
       "    </tr>\n",
       "    <tr>\n",
       "      <th>3</th>\n",
       "      <td>shawn helton st centuri wirepresidentelect don...</td>\n",
       "      <td>1</td>\n",
       "    </tr>\n",
       "    <tr>\n",
       "      <th>4</th>\n",
       "      <td>reuter republican presidenti candid donald tru...</td>\n",
       "      <td>0</td>\n",
       "    </tr>\n",
       "    <tr>\n",
       "      <th>...</th>\n",
       "      <td>...</td>\n",
       "      <td>...</td>\n",
       "    </tr>\n",
       "    <tr>\n",
       "      <th>41637</th>\n",
       "      <td>washington reuter incom us administr tough tal...</td>\n",
       "      <td>0</td>\n",
       "    </tr>\n",
       "    <tr>\n",
       "      <th>41638</th>\n",
       "      <td>moscow reuter russian foreign minist sergei la...</td>\n",
       "      <td>0</td>\n",
       "    </tr>\n",
       "    <tr>\n",
       "      <th>41639</th>\n",
       "      <td>lou dobb rip speaker paul ryan donoth leader d...</td>\n",
       "      <td>1</td>\n",
       "    </tr>\n",
       "    <tr>\n",
       "      <th>41640</th>\n",
       "      <td>reuter new jersey man work world trade center ...</td>\n",
       "      <td>0</td>\n",
       "    </tr>\n",
       "    <tr>\n",
       "      <th>41641</th>\n",
       "      <td>pari reuter hundr woman attend ralli pari fren...</td>\n",
       "      <td>0</td>\n",
       "    </tr>\n",
       "  </tbody>\n",
       "</table>\n",
       "<p>41638 rows × 2 columns</p>\n",
       "</div>"
      ],
      "text/plain": [
       "                                          text_processed  isFake\n",
       "0      washington reuter north korea ambassador unit ...       0\n",
       "1      trump offici go next presid unit state support...       1\n",
       "2      hous repres vote tuesday end fraud within depa...       1\n",
       "3      shawn helton st centuri wirepresidentelect don...       1\n",
       "4      reuter republican presidenti candid donald tru...       0\n",
       "...                                                  ...     ...\n",
       "41637  washington reuter incom us administr tough tal...       0\n",
       "41638  moscow reuter russian foreign minist sergei la...       0\n",
       "41639  lou dobb rip speaker paul ryan donoth leader d...       1\n",
       "41640  reuter new jersey man work world trade center ...       0\n",
       "41641  pari reuter hundr woman attend ralli pari fren...       0\n",
       "\n",
       "[41638 rows x 2 columns]"
      ]
     },
     "execution_count": 13,
     "metadata": {},
     "output_type": "execute_result"
    }
   ],
   "source": [
    "data"
   ]
  },
  {
   "cell_type": "code",
   "execution_count": 15,
   "metadata": {},
   "outputs": [
    {
     "data": {
      "text/plain": [
       "{'messages': [{'role': 'system',\n",
       "   'content': 'Predict if this news is false (0) or true (1).'},\n",
       "  {'role': 'user',\n",
       "   'content': 'washington reuter north korea ambassador unit nation friday ignor we call cessat weapon test allow talk pyongyang nuclear program say countri would pose threat state long interest infring upon us secretari state rex tillerson earli tell meet un secur council pyongyang nuclear ballist missil program sustain cessat north korea threaten behavior need talk could occur washington pyongyang north korea un ambassador ja song nam make mention tillerson call speech session call desper measur plot we terrifi incred might republ success achiev great histor caus complet state nuclear forc'},\n",
       "  {'role': 'assistant', 'content': '0'}]}"
      ]
     },
     "execution_count": 15,
     "metadata": {},
     "output_type": "execute_result"
    }
   ],
   "source": [
    "#return me a json content for openai api fine tune\n",
    "text=None\n",
    "\n",
    "def create_jsonl(row):\n",
    "    return {\"messages\": [\n",
    "    {\"role\": \"system\", \"content\": \"Predict if this news is false (0) or true (1).\"}, \n",
    "    {\"role\": \"user\", \"content\": row['text_processed']}, \n",
    "    {\"role\": \"assistant\", \"content\": str(row['isFake'])}]\n",
    "}\n",
    "\n",
    "\n",
    "create_jsonl(data.iloc[0])"
   ]
  },
  {
   "cell_type": "code",
   "execution_count": 18,
   "metadata": {},
   "outputs": [],
   "source": [
    "\n",
    "# with the \"with\" statement, we can ensure that the file will be closed when leaving the block\n",
    "with open('train.jsonl', 'w') as f:\n",
    "    for i in range(0, int(len(data)*0.8)):\n",
    "        json.dump(create_jsonl(data.iloc[i]), f)\n",
    "        f.write('\\n')\n",
    "\n",
    "with open('valid.jsonl', 'w') as f:\n",
    "    for i in range(int(len(data)*0.8,len(data) )):\n",
    "        json.dump(create_jsonl(data.iloc[i]), f)\n",
    "        f.write('\\n')"
   ]
  },
  {
   "cell_type": "markdown",
   "metadata": {},
   "source": [
    "# OpenAI trained model validation"
   ]
  },
  {
   "cell_type": "markdown",
   "metadata": {},
   "source": [
    "We send the created data into the openai api and we will be able to use it later on, those are his parameters:\n",
    "- **Base model**: `GPT-3.5-turbo-1106` (this is the default gpt-3.5 model that we will fine-tune for our usage)\n",
    "- **epochs**: `1` (the number of epochs it goes though)\n",
    "- **batch size**: `22`\n",
    "- **Lr multiplier**: `2` (the learning rate multiplier.)\n",
    "- **Seed** : `42` \n",
    "- **Suffix**: `FakeNewsClassifier` (name of the fine-tuned model)"
   ]
  },
  {
   "cell_type": "code",
   "execution_count": 43,
   "metadata": {},
   "outputs": [
    {
     "data": {
      "image/png": "[encoded data removed]",
      "text/plain": [
       "<IPython.core.display.Image object>"
      ]
     },
     "execution_count": 43,
     "metadata": {},
     "output_type": "execute_result"
    }
   ],
   "source": [
    "#we load the image \"\"gpt model image.png\"\n",
    "from IPython.display import Image\n",
    "Image(filename='gpt model image.png')\n"
   ]
  },
  {
   "cell_type": "code",
   "execution_count": 23,
   "metadata": {},
   "outputs": [
    {
     "data": {
      "text/html": [
       "<div>\n",
       "<style scoped>\n",
       "    .dataframe tbody tr th:only-of-type {\n",
       "        vertical-align: middle;\n",
       "    }\n",
       "\n",
       "    .dataframe tbody tr th {\n",
       "        vertical-align: top;\n",
       "    }\n",
       "\n",
       "    .dataframe thead th {\n",
       "        text-align: right;\n",
       "    }\n",
       "</style>\n",
       "<table border=\"1\" class=\"dataframe\">\n",
       "  <thead>\n",
       "    <tr style=\"text-align: right;\">\n",
       "      <th></th>\n",
       "      <th>text_processed</th>\n",
       "      <th>isFake</th>\n",
       "    </tr>\n",
       "  </thead>\n",
       "  <tbody>\n",
       "    <tr>\n",
       "      <th>0</th>\n",
       "      <td>washington reuter north korea ambassador unit ...</td>\n",
       "      <td>False</td>\n",
       "    </tr>\n",
       "    <tr>\n",
       "      <th>1</th>\n",
       "      <td>trump offici go next presid unit state support...</td>\n",
       "      <td>True</td>\n",
       "    </tr>\n",
       "    <tr>\n",
       "      <th>2</th>\n",
       "      <td>hous repres vote tuesday end fraud within depa...</td>\n",
       "      <td>True</td>\n",
       "    </tr>\n",
       "    <tr>\n",
       "      <th>3</th>\n",
       "      <td>shawn helton st centuri wirepresidentelect don...</td>\n",
       "      <td>True</td>\n",
       "    </tr>\n",
       "    <tr>\n",
       "      <th>4</th>\n",
       "      <td>reuter republican presidenti candid donald tru...</td>\n",
       "      <td>False</td>\n",
       "    </tr>\n",
       "  </tbody>\n",
       "</table>\n",
       "</div>"
      ],
      "text/plain": [
       "                                      text_processed  isFake\n",
       "0  washington reuter north korea ambassador unit ...   False\n",
       "1  trump offici go next presid unit state support...    True\n",
       "2  hous repres vote tuesday end fraud within depa...    True\n",
       "3  shawn helton st centuri wirepresidentelect don...    True\n",
       "4  reuter republican presidenti candid donald tru...   False"
      ]
     },
     "execution_count": 23,
     "metadata": {},
     "output_type": "execute_result"
    }
   ],
   "source": [
    "#we select the data/true_clean.csv and fake data and fuse them into a single dataframe.\n",
    "\n",
    "true_df = pd.read_csv('data/true_clean.csv')\n",
    "fake_df = pd.read_csv('data/fake_clean.csv')\n",
    "fake_df = fake_df.sample(n=len(true_df), replace=True, random_state=42)\n",
    "# On ajoute à chaque dataframe la colonne \"isFake\"\n",
    "fake_df[\"isFake\"]=True\n",
    "true_df[\"isFake\"]=False\n",
    "# we fuse the dataset and shuffle it\n",
    "df = pd.concat([true_df, fake_df])\n",
    "df = df.sample(frac=1, random_state=42).reset_index(drop=True)\n",
    "data = df[['text_processed','isFake']]\n",
    "data.head()"
   ]
  },
  {
   "cell_type": "code",
   "execution_count": 24,
   "metadata": {},
   "outputs": [
    {
     "data": {
      "text/plain": [
       "0"
      ]
     },
     "execution_count": 24,
     "metadata": {},
     "output_type": "execute_result"
    }
   ],
   "source": [
    "data['isFake'] = data['isFake'].astype(int)\n",
    "data.iloc[0]['isFake'] #true news is 0 and fake news is 1"
   ]
  },
  {
   "cell_type": "code",
   "execution_count": 19,
   "metadata": {},
   "outputs": [
    {
     "data": {
      "text/plain": [
       "'0'"
      ]
     },
     "execution_count": 19,
     "metadata": {},
     "output_type": "execute_result"
    }
   ],
   "source": [
    "def getGPTresponse(text):\n",
    "    completion = client.chat.completions.create(\n",
    "      model=\"ft:gpt-3.5-turbo-1106:personal:fakenewsclassifier:9IZVG4oQ\",\n",
    "      messages=[\n",
    "        {\"role\": \"system\", \"content\": \"Predict if this news is false (0) or true (1).\"},\n",
    "        {\"role\": \"user\", \"content\": text}\n",
    "      ]\n",
    "    )\n",
    "    return completion.choices[0].message.content\n",
    "\n",
    "\n",
    "getGPTresponse(data.iloc[0]['text_processed'])"
   ]
  },
  {
   "cell_type": "code",
   "execution_count": 21,
   "metadata": {},
   "outputs": [
    {
     "data": {
      "text/html": [
       "<div>\n",
       "<style scoped>\n",
       "    .dataframe tbody tr th:only-of-type {\n",
       "        vertical-align: middle;\n",
       "    }\n",
       "\n",
       "    .dataframe tbody tr th {\n",
       "        vertical-align: top;\n",
       "    }\n",
       "\n",
       "    .dataframe thead th {\n",
       "        text-align: right;\n",
       "    }\n",
       "</style>\n",
       "<table border=\"1\" class=\"dataframe\">\n",
       "  <thead>\n",
       "    <tr style=\"text-align: right;\">\n",
       "      <th></th>\n",
       "      <th>Unnamed: 0</th>\n",
       "      <th>text</th>\n",
       "      <th>isFake</th>\n",
       "      <th>text_processed</th>\n",
       "    </tr>\n",
       "  </thead>\n",
       "  <tbody>\n",
       "    <tr>\n",
       "      <th>0</th>\n",
       "      <td>0</td>\n",
       "      <td>Daniel Greenfield, a Shillman Journalism Fello...</td>\n",
       "      <td>False</td>\n",
       "      <td>daniel greenfield shillman journal fellow free...</td>\n",
       "    </tr>\n",
       "    <tr>\n",
       "      <th>1</th>\n",
       "      <td>1</td>\n",
       "      <td>Google Pinterest Digg Linkedin Reddit Stumbleu...</td>\n",
       "      <td>False</td>\n",
       "      <td>googl pinterest digg linkedin reddit stumbleup...</td>\n",
       "    </tr>\n",
       "    <tr>\n",
       "      <th>2</th>\n",
       "      <td>2</td>\n",
       "      <td>U.S. Secretary of State John F. Kerry said Mon...</td>\n",
       "      <td>True</td>\n",
       "      <td>us secretari state john f kerri say monday sto...</td>\n",
       "    </tr>\n",
       "    <tr>\n",
       "      <th>3</th>\n",
       "      <td>3</td>\n",
       "      <td>— Kaydee King (@KaydeeKing) November 9, 2016 T...</td>\n",
       "      <td>False</td>\n",
       "      <td>kayde king kaydeek novemb lesson tonight dem l...</td>\n",
       "    </tr>\n",
       "    <tr>\n",
       "      <th>4</th>\n",
       "      <td>4</td>\n",
       "      <td>It's primary day in New York and front-runners...</td>\n",
       "      <td>True</td>\n",
       "      <td>primari day new york frontrunn hillari clinton...</td>\n",
       "    </tr>\n",
       "  </tbody>\n",
       "</table>\n",
       "</div>"
      ],
      "text/plain": [
       "   Unnamed: 0                                               text  isFake  \\\n",
       "0           0  Daniel Greenfield, a Shillman Journalism Fello...   False   \n",
       "1           1  Google Pinterest Digg Linkedin Reddit Stumbleu...   False   \n",
       "2           2  U.S. Secretary of State John F. Kerry said Mon...    True   \n",
       "3           3  — Kaydee King (@KaydeeKing) November 9, 2016 T...   False   \n",
       "4           4  It's primary day in New York and front-runners...    True   \n",
       "\n",
       "                                      text_processed  \n",
       "0  daniel greenfield shillman journal fellow free...  \n",
       "1  googl pinterest digg linkedin reddit stumbleup...  \n",
       "2  us secretari state john f kerri say monday sto...  \n",
       "3  kayde king kaydeek novemb lesson tonight dem l...  \n",
       "4  primari day new york frontrunn hillari clinton...  "
      ]
     },
     "execution_count": 21,
     "metadata": {},
     "output_type": "execute_result"
    }
   ],
   "source": [
    "#we used 50 samples to train the model and validate it. as such we can simply run the whole dataset as a validation set.\n",
    "\n",
    "#we get the data/valid_clean.csv data\n",
    "valid_df = pd.read_csv('data/valid_clean.csv')\n",
    "valid_df.head()"
   ]
  },
  {
   "cell_type": "code",
   "execution_count": 22,
   "metadata": {},
   "outputs": [
    {
     "data": {
      "text/html": [
       "<div>\n",
       "<style scoped>\n",
       "    .dataframe tbody tr th:only-of-type {\n",
       "        vertical-align: middle;\n",
       "    }\n",
       "\n",
       "    .dataframe tbody tr th {\n",
       "        vertical-align: top;\n",
       "    }\n",
       "\n",
       "    .dataframe thead th {\n",
       "        text-align: right;\n",
       "    }\n",
       "</style>\n",
       "<table border=\"1\" class=\"dataframe\">\n",
       "  <thead>\n",
       "    <tr style=\"text-align: right;\">\n",
       "      <th></th>\n",
       "      <th>Unnamed: 0</th>\n",
       "      <th>text</th>\n",
       "      <th>isFake</th>\n",
       "      <th>text_processed</th>\n",
       "    </tr>\n",
       "  </thead>\n",
       "  <tbody>\n",
       "    <tr>\n",
       "      <th>0</th>\n",
       "      <td>0</td>\n",
       "      <td>Daniel Greenfield, a Shillman Journalism Fello...</td>\n",
       "      <td>0</td>\n",
       "      <td>daniel greenfield shillman journal fellow free...</td>\n",
       "    </tr>\n",
       "    <tr>\n",
       "      <th>1</th>\n",
       "      <td>1</td>\n",
       "      <td>Google Pinterest Digg Linkedin Reddit Stumbleu...</td>\n",
       "      <td>0</td>\n",
       "      <td>googl pinterest digg linkedin reddit stumbleup...</td>\n",
       "    </tr>\n",
       "    <tr>\n",
       "      <th>2</th>\n",
       "      <td>2</td>\n",
       "      <td>U.S. Secretary of State John F. Kerry said Mon...</td>\n",
       "      <td>1</td>\n",
       "      <td>us secretari state john f kerri say monday sto...</td>\n",
       "    </tr>\n",
       "    <tr>\n",
       "      <th>3</th>\n",
       "      <td>3</td>\n",
       "      <td>— Kaydee King (@KaydeeKing) November 9, 2016 T...</td>\n",
       "      <td>0</td>\n",
       "      <td>kayde king kaydeek novemb lesson tonight dem l...</td>\n",
       "    </tr>\n",
       "    <tr>\n",
       "      <th>4</th>\n",
       "      <td>4</td>\n",
       "      <td>It's primary day in New York and front-runners...</td>\n",
       "      <td>1</td>\n",
       "      <td>primari day new york frontrunn hillari clinton...</td>\n",
       "    </tr>\n",
       "  </tbody>\n",
       "</table>\n",
       "</div>"
      ],
      "text/plain": [
       "   Unnamed: 0                                               text  isFake  \\\n",
       "0           0  Daniel Greenfield, a Shillman Journalism Fello...       0   \n",
       "1           1  Google Pinterest Digg Linkedin Reddit Stumbleu...       0   \n",
       "2           2  U.S. Secretary of State John F. Kerry said Mon...       1   \n",
       "3           3  — Kaydee King (@KaydeeKing) November 9, 2016 T...       0   \n",
       "4           4  It's primary day in New York and front-runners...       1   \n",
       "\n",
       "                                      text_processed  \n",
       "0  daniel greenfield shillman journal fellow free...  \n",
       "1  googl pinterest digg linkedin reddit stumbleup...  \n",
       "2  us secretari state john f kerri say monday sto...  \n",
       "3  kayde king kaydeek novemb lesson tonight dem l...  \n",
       "4  primari day new york frontrunn hillari clinton...  "
      ]
     },
     "execution_count": 22,
     "metadata": {},
     "output_type": "execute_result"
    }
   ],
   "source": [
    "valid_df['isFake'] = valid_df['isFake'].astype(int) #true is 0 and false is 1\n",
    "valid_df.head()"
   ]
  },
  {
   "cell_type": "code",
   "execution_count": 28,
   "metadata": {},
   "outputs": [],
   "source": [
    "# does it contain nan values\n",
    "valid_df.isnull().sum()\n",
    "#drop nan values\n",
    "valid_df=valid_df.dropna()"
   ]
  },
  {
   "cell_type": "code",
   "execution_count": 39,
   "metadata": {},
   "outputs": [],
   "source": [
    "# we take the values after the 100 into a new dataframe\n",
    "valid_df_sample= valid_df.iloc[100:1000]"
   ]
  },
  {
   "cell_type": "code",
   "execution_count": 40,
   "metadata": {},
   "outputs": [
    {
     "name": "stderr",
     "output_type": "stream",
     "text": [
      "100%|██████████| 900/900 [08:44<00:00,  1.71it/s]\n"
     ]
    }
   ],
   "source": [
    "valid_df_sample.loc[:, 'predicted_isFake'] = valid_df_sample['text_processed'].progress_apply(lambda x: int(getGPTresponse(x)))\n"
   ]
  },
  {
   "cell_type": "code",
   "execution_count": 42,
   "metadata": {},
   "outputs": [
    {
     "name": "stdout",
     "output_type": "stream",
     "text": [
      "accuracy: 0.35\n"
     ]
    }
   ],
   "source": [
    "#we check the accuracy of the model\n",
    "from sklearn.metrics import accuracy_score\n",
    "acc= accuracy_score(valid_df_sample['isFake'], valid_df_sample['predicted_isFake'])\n",
    "\n",
    "print(f'accuracy: {acc:.2f}')"
   ]
  },
  {
   "cell_type": "markdown",
   "metadata": {},
   "source": [
    "## Utilisation  de vr AI"
   ]
  },
  {
   "cell_type": "code",
   "execution_count": null,
   "metadata": {},
   "outputs": [],
   "source": [
    "vrAI = 0\n",
    "if acc > 0.90:\n",
    "    vrAI = 'Fx'\n",
    "elif  0.70<acc<=0.90:\n",
    "    vrAI = 'F'\n",
    "elif  0.50<acc<=0.70:\n",
    "    vrAI = 'E'\n",
    "elif  0.30<acc<=0.50:\n",
    "    vrAI = 'D'\n",
    "elif  0.15<acc<=0.30:\n",
    "    vrAI = 'C'\n",
    "elif  0.05<acc<=0.15:\n",
    "    vrAI = 'B'\n",
    "else:\n",
    "    vrAI = 'A'"
   ]
  }
 ],
 "metadata": {
  "kernelspec": {
   "display_name": "base",
   "language": "python",
   "name": "python3"
  },
  "language_info": {
   "codemirror_mode": {
    "name": "ipython",
    "version": 3
   },
   "file_extension": ".py",
   "mimetype": "text/x-python",
   "name": "python",
   "nbconvert_exporter": "python",
   "pygments_lexer": "ipython3",
   "version": "3.11.4"
  }
 },
 "nbformat": 4,
 "nbformat_minor": 2
}
