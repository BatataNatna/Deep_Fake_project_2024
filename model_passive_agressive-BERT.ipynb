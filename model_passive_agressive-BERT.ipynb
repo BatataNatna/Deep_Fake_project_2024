{
 "cells": [
  {
   "cell_type": "markdown",
   "id": "1bfcd48f",
   "metadata": {},
   "source": [
    "# Libraires"
   ]
  },
  {
   "cell_type": "code",
   "execution_count": 1,
   "id": "8cc845cb",
   "metadata": {},
   "outputs": [],
   "source": [
    "# import json file called config\n",
    "import json\n",
    "with open('config.json') as f:\n",
    "    config = json.load(f)\n",
    "TOKENIZER_ID = config['TOKENIZER_ID']\n",
    "\n",
    "nrows = None if config['nrows'] == 0 else config['nrows']"
   ]
  },
  {
   "cell_type": "code",
   "execution_count": 2,
   "id": "6c2fa0d8",
   "metadata": {},
   "outputs": [],
   "source": [
    "import numpy as np\n",
    "import seaborn as sns\n",
    "import matplotlib.pyplot as plt\n",
    "import pandas as pd\n",
    "from sklearn.linear_model import PassiveAggressiveClassifier #used to train the model\n",
    "from sklearn.metrics import accuracy_score,precision_score,recall_score,f1_score, confusion_matrix, roc_auc_score, roc_curve # this is used to evaluate the model.\n",
    "from sklearn.model_selection import train_test_split # to separate the dataset.\n",
    "from sklearn.feature_extraction.text import TfidfVectorizer #used for the transformation of text data.\n",
    "import pickle as pkl #file to save and load a model.\n",
    "from sklearn.model_selection import GridSearchCV #pour l'optimisation des hyperparametres.\n",
    "import time #pour étudier le temps d'execution d'entrainement, de notre meilleure modèle.\n",
    "import psutil #pour calculer la mémoire.\n",
    "import os #pour calculer le temps d'execution.\n"
   ]
  },
  {
   "cell_type": "markdown",
   "id": "a28178c9",
   "metadata": {},
   "source": [
    "# Load Data"
   ]
  },
  {
   "cell_type": "code",
   "execution_count": 3,
   "id": "ca151f58",
   "metadata": {},
   "outputs": [
    {
     "name": "stdout",
     "output_type": "stream",
     "text": [
      "True     21417\n",
      "False    21417\n",
      "Name: isFake, dtype: int64\n"
     ]
    }
   ],
   "source": [
    "data=pd.read_csv('title_text.csv',nrows=nrows)\n",
    "#check if isFake column has unique values\n",
    "print(data['isFake'].value_counts())"
   ]
  },
  {
   "cell_type": "code",
   "execution_count": 4,
   "id": "98ffb4b6",
   "metadata": {},
   "outputs": [
    {
     "data": {
      "text/html": [
       "<div>\n",
       "<style scoped>\n",
       "    .dataframe tbody tr th:only-of-type {\n",
       "        vertical-align: middle;\n",
       "    }\n",
       "\n",
       "    .dataframe tbody tr th {\n",
       "        vertical-align: top;\n",
       "    }\n",
       "\n",
       "    .dataframe thead th {\n",
       "        text-align: right;\n",
       "    }\n",
       "</style>\n",
       "<table border=\"1\" class=\"dataframe\">\n",
       "  <thead>\n",
       "    <tr style=\"text-align: right;\">\n",
       "      <th></th>\n",
       "      <th>Unnamed: 0</th>\n",
       "      <th>title</th>\n",
       "      <th>text</th>\n",
       "      <th>isFake</th>\n",
       "    </tr>\n",
       "  </thead>\n",
       "  <tbody>\n",
       "    <tr>\n",
       "      <th>0</th>\n",
       "      <td>0</td>\n",
       "      <td>Leave It To Sesame Street To Teach America Wh...</td>\n",
       "      <td>For everyone other than maybe his investment p...</td>\n",
       "      <td>True</td>\n",
       "    </tr>\n",
       "    <tr>\n",
       "      <th>1</th>\n",
       "      <td>1</td>\n",
       "      <td>Bulgarian court sentences three Syrians on ter...</td>\n",
       "      <td>SOFIA (Reuters) - A Bulgarian court on Thursda...</td>\n",
       "      <td>False</td>\n",
       "    </tr>\n",
       "    <tr>\n",
       "      <th>2</th>\n",
       "      <td>2</td>\n",
       "      <td>Rejuvenated Berlusconi lays out vote platform,...</td>\n",
       "      <td>ROME (Reuters) - Former Prime Minister Silvio ...</td>\n",
       "      <td>False</td>\n",
       "    </tr>\n",
       "    <tr>\n",
       "      <th>3</th>\n",
       "      <td>3</td>\n",
       "      <td>Pastor Shot And Killed In The Middle Of Churc...</td>\n",
       "      <td>A routine church service at the St. Peter s Mi...</td>\n",
       "      <td>True</td>\n",
       "    </tr>\n",
       "    <tr>\n",
       "      <th>4</th>\n",
       "      <td>4</td>\n",
       "      <td>Kushner Is Now Under Fire By Special Counsel ...</td>\n",
       "      <td>The Trump White House is now officially in ful...</td>\n",
       "      <td>True</td>\n",
       "    </tr>\n",
       "    <tr>\n",
       "      <th>...</th>\n",
       "      <td>...</td>\n",
       "      <td>...</td>\n",
       "      <td>...</td>\n",
       "      <td>...</td>\n",
       "    </tr>\n",
       "    <tr>\n",
       "      <th>42829</th>\n",
       "      <td>42829</td>\n",
       "      <td>Conservative firebrand defeats Trump pick in A...</td>\n",
       "      <td>(Reuters) - Alabama voters elected conservativ...</td>\n",
       "      <td>False</td>\n",
       "    </tr>\n",
       "    <tr>\n",
       "      <th>42830</th>\n",
       "      <td>42830</td>\n",
       "      <td>Trump’s GOP Mega Donors Are Demanding A Full ...</td>\n",
       "      <td>Now that Donald Trump has shot himself in the ...</td>\n",
       "      <td>True</td>\n",
       "    </tr>\n",
       "    <tr>\n",
       "      <th>42831</th>\n",
       "      <td>42831</td>\n",
       "      <td>4 Yr Old Stoned By Muslim Migrant For Kicking ...</td>\n",
       "      <td>The old reliable stone most commonly used by a...</td>\n",
       "      <td>True</td>\n",
       "    </tr>\n",
       "    <tr>\n",
       "      <th>42832</th>\n",
       "      <td>42832</td>\n",
       "      <td>Kasich calls for 'active steps' to strengthen ...</td>\n",
       "      <td>WASHINGTON (Reuters) - Presidential candidate ...</td>\n",
       "      <td>False</td>\n",
       "    </tr>\n",
       "    <tr>\n",
       "      <th>42833</th>\n",
       "      <td>42833</td>\n",
       "      <td>Trump urges India's Modi to fix deficit, but s...</td>\n",
       "      <td>WASHINGTON (Reuters) - U.S. President Donald T...</td>\n",
       "      <td>False</td>\n",
       "    </tr>\n",
       "  </tbody>\n",
       "</table>\n",
       "<p>42834 rows × 4 columns</p>\n",
       "</div>"
      ],
      "text/plain": [
       "       Unnamed: 0                                              title  \\\n",
       "0               0   Leave It To Sesame Street To Teach America Wh...   \n",
       "1               1  Bulgarian court sentences three Syrians on ter...   \n",
       "2               2  Rejuvenated Berlusconi lays out vote platform,...   \n",
       "3               3   Pastor Shot And Killed In The Middle Of Churc...   \n",
       "4               4   Kushner Is Now Under Fire By Special Counsel ...   \n",
       "...           ...                                                ...   \n",
       "42829       42829  Conservative firebrand defeats Trump pick in A...   \n",
       "42830       42830   Trump’s GOP Mega Donors Are Demanding A Full ...   \n",
       "42831       42831  4 Yr Old Stoned By Muslim Migrant For Kicking ...   \n",
       "42832       42832  Kasich calls for 'active steps' to strengthen ...   \n",
       "42833       42833  Trump urges India's Modi to fix deficit, but s...   \n",
       "\n",
       "                                                    text  isFake  \n",
       "0      For everyone other than maybe his investment p...    True  \n",
       "1      SOFIA (Reuters) - A Bulgarian court on Thursda...   False  \n",
       "2      ROME (Reuters) - Former Prime Minister Silvio ...   False  \n",
       "3      A routine church service at the St. Peter s Mi...    True  \n",
       "4      The Trump White House is now officially in ful...    True  \n",
       "...                                                  ...     ...  \n",
       "42829  (Reuters) - Alabama voters elected conservativ...   False  \n",
       "42830  Now that Donald Trump has shot himself in the ...    True  \n",
       "42831  The old reliable stone most commonly used by a...    True  \n",
       "42832  WASHINGTON (Reuters) - Presidential candidate ...   False  \n",
       "42833  WASHINGTON (Reuters) - U.S. President Donald T...   False  \n",
       "\n",
       "[42834 rows x 4 columns]"
      ]
     },
     "execution_count": 4,
     "metadata": {},
     "output_type": "execute_result"
    }
   ],
   "source": [
    "data"
   ]
  },
  {
   "cell_type": "code",
   "execution_count": 5,
   "id": "48076fe2",
   "metadata": {},
   "outputs": [
    {
     "data": {
      "text/html": [
       "<div>\n",
       "<style scoped>\n",
       "    .dataframe tbody tr th:only-of-type {\n",
       "        vertical-align: middle;\n",
       "    }\n",
       "\n",
       "    .dataframe tbody tr th {\n",
       "        vertical-align: top;\n",
       "    }\n",
       "\n",
       "    .dataframe thead th {\n",
       "        text-align: right;\n",
       "    }\n",
       "</style>\n",
       "<table border=\"1\" class=\"dataframe\">\n",
       "  <thead>\n",
       "    <tr style=\"text-align: right;\">\n",
       "      <th></th>\n",
       "      <th>Unnamed: 0</th>\n",
       "      <th>title</th>\n",
       "      <th>text</th>\n",
       "      <th>isFake</th>\n",
       "    </tr>\n",
       "  </thead>\n",
       "  <tbody>\n",
       "    <tr>\n",
       "      <th>0</th>\n",
       "      <td>0</td>\n",
       "      <td>Leave It To Sesame Street To Teach America Wh...</td>\n",
       "      <td>for everyone other than maybe his investment p...</td>\n",
       "      <td>True</td>\n",
       "    </tr>\n",
       "    <tr>\n",
       "      <th>1</th>\n",
       "      <td>1</td>\n",
       "      <td>Bulgarian court sentences three Syrians on ter...</td>\n",
       "      <td>sofia (reuters) - a bulgarian court on thursda...</td>\n",
       "      <td>False</td>\n",
       "    </tr>\n",
       "    <tr>\n",
       "      <th>2</th>\n",
       "      <td>2</td>\n",
       "      <td>Rejuvenated Berlusconi lays out vote platform,...</td>\n",
       "      <td>rome (reuters) - former prime minister silvio ...</td>\n",
       "      <td>False</td>\n",
       "    </tr>\n",
       "    <tr>\n",
       "      <th>3</th>\n",
       "      <td>3</td>\n",
       "      <td>Pastor Shot And Killed In The Middle Of Churc...</td>\n",
       "      <td>a routine church service at the st. peter s mi...</td>\n",
       "      <td>True</td>\n",
       "    </tr>\n",
       "    <tr>\n",
       "      <th>4</th>\n",
       "      <td>4</td>\n",
       "      <td>Kushner Is Now Under Fire By Special Counsel ...</td>\n",
       "      <td>the trump white house is now officially in ful...</td>\n",
       "      <td>True</td>\n",
       "    </tr>\n",
       "    <tr>\n",
       "      <th>...</th>\n",
       "      <td>...</td>\n",
       "      <td>...</td>\n",
       "      <td>...</td>\n",
       "      <td>...</td>\n",
       "    </tr>\n",
       "    <tr>\n",
       "      <th>42829</th>\n",
       "      <td>42829</td>\n",
       "      <td>Conservative firebrand defeats Trump pick in A...</td>\n",
       "      <td>(reuters) - alabama voters elected conservativ...</td>\n",
       "      <td>False</td>\n",
       "    </tr>\n",
       "    <tr>\n",
       "      <th>42830</th>\n",
       "      <td>42830</td>\n",
       "      <td>Trump’s GOP Mega Donors Are Demanding A Full ...</td>\n",
       "      <td>now that donald trump has shot himself in the ...</td>\n",
       "      <td>True</td>\n",
       "    </tr>\n",
       "    <tr>\n",
       "      <th>42831</th>\n",
       "      <td>42831</td>\n",
       "      <td>4 Yr Old Stoned By Muslim Migrant For Kicking ...</td>\n",
       "      <td>the old reliable stone most commonly used by a...</td>\n",
       "      <td>True</td>\n",
       "    </tr>\n",
       "    <tr>\n",
       "      <th>42832</th>\n",
       "      <td>42832</td>\n",
       "      <td>Kasich calls for 'active steps' to strengthen ...</td>\n",
       "      <td>washington (reuters) - presidential candidate ...</td>\n",
       "      <td>False</td>\n",
       "    </tr>\n",
       "    <tr>\n",
       "      <th>42833</th>\n",
       "      <td>42833</td>\n",
       "      <td>Trump urges India's Modi to fix deficit, but s...</td>\n",
       "      <td>washington (reuters) - u.s. president donald t...</td>\n",
       "      <td>False</td>\n",
       "    </tr>\n",
       "  </tbody>\n",
       "</table>\n",
       "<p>42834 rows × 4 columns</p>\n",
       "</div>"
      ],
      "text/plain": [
       "       Unnamed: 0                                              title  \\\n",
       "0               0   Leave It To Sesame Street To Teach America Wh...   \n",
       "1               1  Bulgarian court sentences three Syrians on ter...   \n",
       "2               2  Rejuvenated Berlusconi lays out vote platform,...   \n",
       "3               3   Pastor Shot And Killed In The Middle Of Churc...   \n",
       "4               4   Kushner Is Now Under Fire By Special Counsel ...   \n",
       "...           ...                                                ...   \n",
       "42829       42829  Conservative firebrand defeats Trump pick in A...   \n",
       "42830       42830   Trump’s GOP Mega Donors Are Demanding A Full ...   \n",
       "42831       42831  4 Yr Old Stoned By Muslim Migrant For Kicking ...   \n",
       "42832       42832  Kasich calls for 'active steps' to strengthen ...   \n",
       "42833       42833  Trump urges India's Modi to fix deficit, but s...   \n",
       "\n",
       "                                                    text  isFake  \n",
       "0      for everyone other than maybe his investment p...    True  \n",
       "1      sofia (reuters) - a bulgarian court on thursda...   False  \n",
       "2      rome (reuters) - former prime minister silvio ...   False  \n",
       "3      a routine church service at the st. peter s mi...    True  \n",
       "4      the trump white house is now officially in ful...    True  \n",
       "...                                                  ...     ...  \n",
       "42829  (reuters) - alabama voters elected conservativ...   False  \n",
       "42830  now that donald trump has shot himself in the ...    True  \n",
       "42831  the old reliable stone most commonly used by a...    True  \n",
       "42832  washington (reuters) - presidential candidate ...   False  \n",
       "42833  washington (reuters) - u.s. president donald t...   False  \n",
       "\n",
       "[42834 rows x 4 columns]"
      ]
     },
     "execution_count": 5,
     "metadata": {},
     "output_type": "execute_result"
    }
   ],
   "source": [
    "#we make everything lower.\n",
    "data['text']=data['text'].apply(lambda x: x.lower())\n",
    "data"
   ]
  },
  {
   "cell_type": "markdown",
   "id": "5ae074bf",
   "metadata": {},
   "source": [
    "# Modification du text en données numériques.\n",
    "Nous partons du principe que les données ont étés clean et que nous pouvons nous concerntrer à créer un model.\n",
    "\n",
    "Comme les informations principales pour définir des Fake news et des vrai news, se base sur le texte et le titre, nous devons nous focaliser sur ces informations. Il faut ainsi que nous transformons le text et le titre en données afin que notre model puisse utiliser des données numériques pour trouver la bonne réponse. Nous allons utiliser la methode de bert-.\n",
    "# Bert tokenizer"
   ]
  },
  {
   "cell_type": "code",
   "execution_count": 6,
   "id": "3375fc78",
   "metadata": {},
   "outputs": [
    {
     "name": "stdout",
     "output_type": "stream",
     "text": [
      "0        [101, 2005, 3071, 2060, 2084, 2672, 2010, 5211...\n",
      "1        [101, 8755, 1006, 26665, 1007, 1011, 1037, 764...\n",
      "2        [101, 4199, 1006, 26665, 1007, 1011, 2280, 353...\n",
      "3        [101, 1037, 9410, 2277, 2326, 2012, 1996, 2358...\n",
      "4        [101, 1996, 8398, 2317, 2160, 2003, 2085, 3985...\n",
      "                               ...                        \n",
      "42829    [101, 1006, 26665, 1007, 1011, 6041, 7206, 270...\n",
      "42830    [101, 2085, 2008, 6221, 8398, 2038, 2915, 2370...\n",
      "42831    [101, 1996, 2214, 10539, 2962, 2087, 4141, 210...\n",
      "42832    [101, 2899, 1006, 26665, 1007, 1011, 4883, 401...\n",
      "42833    [101, 2899, 1006, 26665, 1007, 1011, 1057, 101...\n",
      "Name: text, Length: 42834, dtype: object\n"
     ]
    }
   ],
   "source": [
    "from transformers import BertTokenizer, BertModel\n",
    "\n",
    "\n",
    "X = data['text']\n",
    "\n",
    "# Create the tokenizer\n",
    "tokenizer = BertTokenizer.from_pretrained('bert-base-uncased', do_lower_case=True)\n",
    "model_bert = BertModel.from_pretrained('bert-base-uncased')\n",
    "\n",
    "# Set the maximum sequence length\n",
    "max_seq_length = 512\n",
    "\n",
    "# Truncate or pad the tokenized sequences\n",
    "X = X.apply(lambda x: tokenizer.encode(x, add_special_tokens=True, max_length=max_seq_length, truncation=True, padding='max_length'))\n",
    "print(X)"
   ]
  },
  {
   "cell_type": "code",
   "execution_count": 7,
   "id": "0acee052",
   "metadata": {},
   "outputs": [
    {
     "name": "stdout",
     "output_type": "stream",
     "text": [
      "1    21417\n",
      "0    21417\n",
      "Name: isFake, dtype: int64\n"
     ]
    }
   ],
   "source": [
    "y = data['isFake'].astype(int) #make it numerical\n",
    "print(y.value_counts())"
   ]
  },
  {
   "cell_type": "code",
   "execution_count": 8,
   "id": "7871b302",
   "metadata": {},
   "outputs": [],
   "source": [
    "# we separate the trdata into training test and validation\n",
    "X_train, X_test, y_train, y_test = train_test_split(X, y, test_size=0.2, random_state=42)\n",
    "X_train, X_validation, y_train, y_validation = train_test_split(X_train, y_train, test_size=0.2, random_state=42)"
   ]
  },
  {
   "cell_type": "code",
   "execution_count": 9,
   "id": "d5362e35",
   "metadata": {},
   "outputs": [],
   "source": [
    "import numpy as np"
   ]
  },
  {
   "cell_type": "code",
   "execution_count": 10,
   "id": "2cca858d",
   "metadata": {},
   "outputs": [
    {
     "data": {
      "text/plain": [
       "((27413, 512), (27413,))"
      ]
     },
     "execution_count": 10,
     "metadata": {},
     "output_type": "execute_result"
    }
   ],
   "source": [
    "X_train = np.array(X_train.tolist())\n",
    "y_train= np.array(y_train.tolist())\n",
    "X_train.shape,y_train.shape"
   ]
  },
  {
   "cell_type": "code",
   "execution_count": 11,
   "id": "e95c288f",
   "metadata": {},
   "outputs": [
    {
     "data": {
      "text/plain": [
       "((8567, 512), (8567,))"
      ]
     },
     "execution_count": 11,
     "metadata": {},
     "output_type": "execute_result"
    }
   ],
   "source": [
    "X_test = np.array(X_test.tolist())\n",
    "y_test= np.array(y_test.tolist())\n",
    "X_test.shape,y_test.shape"
   ]
  },
  {
   "cell_type": "markdown",
   "id": "fc53b4dc",
   "metadata": {},
   "source": [
    "# Model Passive Agressive"
   ]
  },
  {
   "cell_type": "markdown",
   "id": "d24b7903",
   "metadata": {},
   "source": [
    "Quand on parle d'un model passive aggressive, nous parlons d'un algorithme linéaire de classification et de regression. C'est un algorithme d'apprentissage en ligne, Il traite les données séquentiellement, ajustant le prédicteur à chaque nouvelle instance pour améliorer la prédiction future.\n",
    "\n",
    "Le modèle se base sur deux principes:\n",
    "- **Passive**: Si notre modèle prédit une instance juste, alors les poids et les biais ne seront pas changés. L'état actuelle de notre modèle sera maintenu.\n",
    "- **Aggressive**: Si notre modèle fait une mauvaise prédiction sur une instance ressus, les poids et biais de notre modèle seront changés par le paramètre de régularisation **C**, le but étant de minimiser l'erreur. Il change les paramètres pour que la prédiction actuelle soit 'just'.\n",
    "\n",
    "Le modèle utilise par défaut la fonction de cout **hinge**. Voici comment mathématiquement les poids et bias seront changés:\n",
    "\n",
    "$$ w_{\\text{new}} = w + \\alpha y x $$\n",
    "$$ b_{\\text{new}} = b + \\alpha y $$\n",
    "\n",
    "où **w** est le vecteur de poids, **b** est le biais, **x** est le vecteur de caractéristiques de l'instance mal classée, **y** est l'étiquette correcte de l'instance, et **α** est le taux d'apprentissage calculé en fonction de l'erreur et du paramètre de régularisation **C**\n",
    "\n",
    "Comme nous traitons des données de texte, et que nous devons faire une classification binaire, il ce va de dire que les text vont avoir des pattern differents, en utilisant le model passive aggressive, nous pouvons entrainer le model à définir une méthode pour les idenfifier."
   ]
  },
  {
   "cell_type": "code",
   "execution_count": 12,
   "id": "e4ce4776",
   "metadata": {},
   "outputs": [],
   "source": [
    "# we build our model: C is the regulation parameter, and denotes the penalization the model will make on an incorrect prediciton.\n",
    "model = PassiveAggressiveClassifier(C = 0.2, \n",
    "                                    random_state = 42,\n",
    "                                    early_stopping=True,# we enable the early stopping procedure.\n",
    "                                    n_iter_no_change=3, #number of iterations before early stopping\n",
    "                                    verbose=True,\n",
    "                                    loss='hinge', #fonction de cout\n",
    "                                   )\n"
   ]
  },
  {
   "cell_type": "code",
   "execution_count": 13,
   "id": "bc4c959f",
   "metadata": {},
   "outputs": [
    {
     "name": "stdout",
     "output_type": "stream",
     "text": [
      "-- Epoch 1\n",
      "Norm: 0.01, NNZs: 512, Bias: 0.000098, T: 24671, Avg. loss: 1.880353\n",
      "Total training time: 0.10 seconds.\n",
      "-- Epoch 2\n",
      "Norm: 0.01, NNZs: 512, Bias: 0.000098, T: 49342, Avg. loss: 0.755435\n",
      "Total training time: 0.27 seconds.\n",
      "-- Epoch 3\n",
      "Norm: 0.01, NNZs: 512, Bias: 0.000098, T: 74013, Avg. loss: 0.692524\n",
      "Total training time: 0.42 seconds.\n",
      "-- Epoch 4\n",
      "Norm: 0.01, NNZs: 512, Bias: 0.000099, T: 98684, Avg. loss: 0.974523\n",
      "Total training time: 0.57 seconds.\n",
      "-- Epoch 5\n",
      "Norm: 0.01, NNZs: 512, Bias: 0.000099, T: 123355, Avg. loss: 0.635960\n",
      "Total training time: 0.71 seconds.\n",
      "Convergence after 5 epochs took 0.75 seconds\n"
     ]
    },
    {
     "data": {
      "text/plain": [
       "PassiveAggressiveClassifier(C=0.2, early_stopping=True, n_iter_no_change=3,\n",
       "                            random_state=42, verbose=True)"
      ]
     },
     "execution_count": 13,
     "metadata": {},
     "output_type": "execute_result"
    }
   ],
   "source": [
    "#on entraine le model sur les données d'entrainement.\n",
    "model.fit(X_train,y_train)\n",
    "#Create or open a file with write-binary mode and save the model to it"
   ]
  },
  {
   "cell_type": "code",
   "execution_count": 14,
   "id": "bd347c64",
   "metadata": {},
   "outputs": [
    {
     "data": {
      "text/plain": [
       "(8567,)"
      ]
     },
     "execution_count": 14,
     "metadata": {},
     "output_type": "execute_result"
    }
   ],
   "source": [
    "#on sort les predictions\n",
    "#Step 2: Open the saved file with read-binary mode\n",
    "y_pred=model.predict(X_test)\n",
    "y_pred.shape"
   ]
  },
  {
   "cell_type": "markdown",
   "id": "ae238d5e",
   "metadata": {},
   "source": [
    "# Optimisation"
   ]
  },
  {
   "cell_type": "markdown",
   "id": "9514d28f",
   "metadata": {},
   "source": [
    "Pour optimiser le model nous allons modifier les paramètres suivants:\n",
    "- **C (Le paramètre de régularisation)**: Un des paramètres les plus importants de l'algorithme passive aggressive. Il est utilisé pour controler la marge d'erreur que notre modèle est près à accepté. Si on lui donne une valeur de plus en plus élevé il se peut que le modèle suraprenne, car il s'adapte mieux aux données d'entrainement. Ainsi une valeur plus faible serait favorable. Nous allons tester C avec les valeurs suivantes: **[0.01,0.05,0.1,0.5,1]**"
   ]
  },
  {
   "cell_type": "code",
   "execution_count": 15,
   "id": "db59a59a",
   "metadata": {},
   "outputs": [],
   "source": [
    "params_grid={'C':[0.01,0.05,0.1,0.5,1,5,10,50,100,250],\n",
    "                'n_iter_no_change':[3,5,7],\n",
    "                'loss':['hinge','squared_hinge']\n",
    "             }"
   ]
  },
  {
   "cell_type": "code",
   "execution_count": 16,
   "id": "0be3cd04",
   "metadata": {},
   "outputs": [
    {
     "data": {
      "text/plain": [
       "GridSearchCV(cv=5,\n",
       "             estimator=PassiveAggressiveClassifier(early_stopping=True,\n",
       "                                                   random_state=42),\n",
       "             param_grid={'C': [0.01, 0.05, 0.1, 0.5, 1, 5, 10, 50, 100, 250],\n",
       "                         'loss': ['hinge', 'squared_hinge'],\n",
       "                         'n_iter_no_change': [3, 5, 7]},\n",
       "             scoring=make_scorer(accuracy_score))"
      ]
     },
     "execution_count": 16,
     "metadata": {},
     "output_type": "execute_result"
    }
   ],
   "source": [
    "from sklearn.model_selection import GridSearchCV\n",
    "from sklearn.linear_model import PassiveAggressiveClassifier\n",
    "from sklearn.metrics import make_scorer, accuracy_score\n",
    "\n",
    "\n",
    "# Initialize the Passive Aggressive Classifier\n",
    "model = PassiveAggressiveClassifier(random_state=42,early_stopping=True)\n",
    "\n",
    "# On creer un scorer pour le grid search \n",
    "scorer = make_scorer(accuracy_score)\n",
    "\n",
    "# Initialisation de la GridSearch pour trouver le meilleur C.\n",
    "grid_search = GridSearchCV(estimator=model, param_grid=params_grid, scoring=scorer, cv=5)\n",
    "\n",
    "# On lance les multiples entrainements.\n",
    "grid_search.fit(X_train, y_train)\n"
   ]
  },
  {
   "cell_type": "code",
   "execution_count": 17,
   "id": "a3843406",
   "metadata": {},
   "outputs": [
    {
     "name": "stdout",
     "output_type": "stream",
     "text": [
      "Best parameters: {'C': 0.01, 'loss': 'hinge', 'n_iter_no_change': 3}\n",
      "Best score: 0.7498266706492152\n"
     ]
    }
   ],
   "source": [
    "# Get the best combination of parameters\n",
    "best_params = grid_search.best_params_\n",
    "best_score = grid_search.best_score_\n",
    "\n",
    "print(f\"Best parameters: {best_params}\")\n",
    "print(f\"Best score: {best_score}\")\n"
   ]
  },
  {
   "cell_type": "markdown",
   "id": "c6ff16a4",
   "metadata": {},
   "source": [
    "# Model Evaluation"
   ]
  },
  {
   "cell_type": "markdown",
   "id": "5388c888",
   "metadata": {},
   "source": [
    "Afin d'évaluer le modèle nous faisons une représentation graphique des résultats obtenus. Nous allons étudier les metrics suivants:\n",
    "- le **temps d'entrainement** que le modèle a besoin, ainsi que son **taux de mémoire (Mo)**.\n",
    "- **matrice de confusion**, qui est un excellent choix d'évaluation de performance, car nous sommes dans le cas d'une classification binaire. \n",
    "- **L'accuracy** du model.\n",
    "- **La précision**\n",
    "- **recall**\n",
    "- **F1-score**.\n",
    "- **ROC-AUC score**\n",
    "\n",
    "src: https://www.v7labs.com/blog/performance-metrics-in-machine-learning#h2"
   ]
  },
  {
   "cell_type": "code",
   "execution_count": 18,
   "id": "492621ad",
   "metadata": {},
   "outputs": [],
   "source": [
    "#creation du modèle avec les meilleurs paramètres\n",
    "best_model=PassiveAggressiveClassifier( \n",
    "                                        C=best_params['C'],\n",
    "                                        n_iter_no_change=best_params['n_iter_no_change'],\n",
    "                                        loss=best_params['loss'],\n",
    "                                        early_stopping=True,\n",
    "                                        verbose=True,\n",
    "                                        random_state=42\n",
    "                                    )"
   ]
  },
  {
   "cell_type": "markdown",
   "id": "71ea99aa",
   "metadata": {},
   "source": [
    "Nous voullons étudier **le temps d'entrainement (en h/m/s)** et **l'utilisation de la mémoire (Mo)** que le modèle a besoin."
   ]
  },
  {
   "cell_type": "code",
   "execution_count": 19,
   "id": "d4cd440a",
   "metadata": {},
   "outputs": [],
   "source": [
    "def second_to_hms(seconds):\n",
    "    hours = seconds // 3600\n",
    "    minutes = (seconds % 3600) // 60\n",
    "    seconds = seconds % 60\n",
    "    return int(hours), int(minutes), int(seconds)\n",
    "\n",
    "def bytes_to_Mo(mem_bytes):\n",
    "    mem_kb = mem_bytes / 1024  # Convertir en kilooctets\n",
    "    mem_mb = mem_kb / 1024  # Convertir en mégaoctets\n",
    "    return mem_mb"
   ]
  },
  {
   "cell_type": "code",
   "execution_count": 20,
   "id": "2bb8cc6f",
   "metadata": {},
   "outputs": [
    {
     "name": "stdout",
     "output_type": "stream",
     "text": [
      "-- Epoch 1\n",
      "Norm: 0.01, NNZs: 512, Bias: 0.000098, T: 24671, Avg. loss: 1.880353\n",
      "Total training time: 0.10 seconds.\n",
      "-- Epoch 2\n",
      "Norm: 0.01, NNZs: 512, Bias: 0.000098, T: 49342, Avg. loss: 0.755435\n",
      "Total training time: 0.25 seconds.\n",
      "-- Epoch 3\n",
      "Norm: 0.01, NNZs: 512, Bias: 0.000098, T: 74013, Avg. loss: 0.692524\n",
      "Total training time: 0.40 seconds.\n",
      "-- Epoch 4\n",
      "Norm: 0.01, NNZs: 512, Bias: 0.000099, T: 98684, Avg. loss: 0.974523\n",
      "Total training time: 0.55 seconds.\n",
      "-- Epoch 5\n",
      "Norm: 0.01, NNZs: 512, Bias: 0.000099, T: 123355, Avg. loss: 0.635960\n",
      "Total training time: 0.70 seconds.\n",
      "Convergence after 5 epochs took 0.74 seconds\n",
      "Temps d'entrainement (h | m | s) : 0 | 0 | 0\n",
      "Utilisation de la mémoire (Mo) : 0.0\n"
     ]
    }
   ],
   "source": [
    "#lancemenet de l'enrestristrement de la mémoire.\n",
    "process = psutil.Process(os.getpid())\n",
    "mem_before_bytes = process.memory_info().rss\n",
    "\n",
    "#lancement de l'enregistrement du temps d'entrainement.\n",
    "start_time = time.time() \n",
    "# entrainement du modèle.\n",
    "best_model.fit(X_train,y_train)\n",
    "end_time = time.time()\n",
    "\n",
    "#le temps écoulé \n",
    "elapsed_time= end_time - start_time\n",
    "\n",
    "print(f\"Temps d'entrainement (h | m | s) : {second_to_hms(elapsed_time)[0]} | {second_to_hms(elapsed_time)[1]} | {second_to_hms(elapsed_time)[2]}\")\n",
    "\n",
    "mem_after_bytes = process.memory_info().rss\n",
    "#on convertit les bytes en Mo.\n",
    "mem_bytes=mem_after_bytes - mem_before_bytes\n",
    "\n",
    "\n",
    "print(f\"Utilisation de la mémoire (Mo) : {bytes_to_Mo(mem_bytes)}\")"
   ]
  },
  {
   "cell_type": "code",
   "execution_count": 21,
   "id": "99903805",
   "metadata": {},
   "outputs": [
    {
     "data": {
      "text/plain": [
       "((8567,), (8567,))"
      ]
     },
     "execution_count": 21,
     "metadata": {},
     "output_type": "execute_result"
    }
   ],
   "source": [
    "#optention des prédictions de ce modèle.\n",
    "y_pred=best_model.predict(X_test)\n",
    "y_pred.shape,y_test.shape"
   ]
  },
  {
   "cell_type": "markdown",
   "id": "943d725b",
   "metadata": {},
   "source": [
    "Nous déterminons la **matrice de confusion**."
   ]
  },
  {
   "cell_type": "code",
   "execution_count": 22,
   "id": "9b00cae3",
   "metadata": {},
   "outputs": [
    {
     "data": {
      "image/png": "[encoded data removed]",
      "text/plain": [
       "<Figure size 432x288 with 2 Axes>"
      ]
     },
     "metadata": {
      "needs_background": "light"
     },
     "output_type": "display_data"
    }
   ],
   "source": [
    "#creation de la matrice de confusion\n",
    "cm = confusion_matrix(y_test, y_pred)\n",
    "\n",
    "#représentation graphique du résultat du meilleure model\n",
    "sns.heatmap(cm, annot=True)\n",
    "plt.xlabel('Les labels prédits')\n",
    "plt.ylabel('Les vrais labels')\n",
    "plt.title('Matrice de confusion')\n",
    "plt.show()"
   ]
  },
  {
   "cell_type": "code",
   "execution_count": 23,
   "id": "1542de40",
   "metadata": {},
   "outputs": [
    {
     "name": "stdout",
     "output_type": "stream",
     "text": [
      "True Negative: 35.07645616902066%\n",
      "False Positive: 14.555853857826545%\n",
      "False Negative: 10.47040971168437%\n",
      "True Positive: 39.897280261468424%\n"
     ]
    }
   ],
   "source": [
    "#we print the percentage of True Positive, True Negative, False Positive and False Negative\n",
    "tn, fp, fn, tp = cm.ravel()\n",
    "total_samples = tn + fp + fn + tp\n",
    "true_negative_percentage = (tn / total_samples) * 100\n",
    "false_positive_percentage = (fp / total_samples) * 100\n",
    "false_negative_percentage = (fn / total_samples) * 100\n",
    "true_positive_percentage = (tp / total_samples) * 100\n",
    "\n",
    "print(f\"True Negative: {true_negative_percentage}%\")\n",
    "print(f\"False Positive: {false_positive_percentage}%\")\n",
    "print(f\"False Negative: {false_negative_percentage}%\")\n",
    "print(f\"True Positive: {true_positive_percentage}%\")"
   ]
  },
  {
   "cell_type": "code",
   "execution_count": 24,
   "id": "71cfc771",
   "metadata": {},
   "outputs": [
    {
     "name": "stdout",
     "output_type": "stream",
     "text": [
      "le modèle a donc 3005 instances vrai Positives et 3418 instances de Vrai négatives, 897 instances de Faux Positives et 1247 instances de Faux négatives. \n"
     ]
    }
   ],
   "source": [
    "print(f\"le modèle a donc {cm[0][0]} instances vrai Positives et {cm[1][1]} instances de Vrai négatives, {cm[1][0]} instances de Faux Positives et {cm[0][1]} instances de Faux négatives. \")"
   ]
  },
  {
   "cell_type": "markdown",
   "id": "d250a110",
   "metadata": {},
   "source": [
    "Nous allons avant tout calculer **la précision globale (accuracy)** de notre modèle. "
   ]
  },
  {
   "cell_type": "code",
   "execution_count": 25,
   "id": "e34ca30c",
   "metadata": {},
   "outputs": [
    {
     "name": "stdout",
     "output_type": "stream",
     "text": [
      "Notre modèle a une précision globale de 74.97%, ce qui signifie qu'il prédit correctement les classes des instances dans 74.97% des cas.\n"
     ]
    }
   ],
   "source": [
    "acc=accuracy_score(y_pred,y_test)\n",
    "print(f\"Notre modèle a une précision globale de {round(acc*100,2)}%, ce qui signifie qu'il prédit correctement les classes des instances dans {round(acc*100,2)}% des cas.\")"
   ]
  },
  {
   "cell_type": "markdown",
   "id": "1a52bf89",
   "metadata": {},
   "source": [
    "on calcul le **precision**, c'est la capacité du modèle à correctement identifier les instances que nous avons prédits. Donc de prédire qu'une News vrai soit vraie."
   ]
  },
  {
   "cell_type": "code",
   "execution_count": 26,
   "id": "b3997bca",
   "metadata": {},
   "outputs": [
    {
     "name": "stdout",
     "output_type": "stream",
     "text": [
      "notre model a une precision de 73.27% . lorsqu'il prédit une classe comme positive, il a raison dans 73.27% des cas.\n"
     ]
    }
   ],
   "source": [
    "precision=precision_score(y_test,y_pred)\n",
    "print(f\"notre model a une precision de {round(precision*100,2)}% . lorsqu'il prédit une classe comme positive, il a raison dans {round(precision*100,2)}% des cas.\")"
   ]
  },
  {
   "cell_type": "markdown",
   "id": "2098f1fb",
   "metadata": {},
   "source": [
    "on calcul le **recall**, ce qui es le pourcentage de Vrai positif **(dans notre cas les Vrai news)** que notre modèle arrive à prédire."
   ]
  },
  {
   "cell_type": "code",
   "execution_count": 27,
   "id": "aca3567c",
   "metadata": {},
   "outputs": [
    {
     "name": "stdout",
     "output_type": "stream",
     "text": [
      "notre model arrive a détecter 79.21%. Donc sur l'ensemble des vrai positives, le modèle parvient à en identifier correctement 79.21% des cas.\n"
     ]
    }
   ],
   "source": [
    "recall=recall_score(y_test,y_pred)\n",
    "print(f\"notre model arrive a détecter {round(recall*100,2)}%. Donc sur l'ensemble des vrai positives, le modèle parvient à en identifier correctement {round(recall*100,2)}% des cas.\")"
   ]
  },
  {
   "cell_type": "markdown",
   "id": "273ef73d",
   "metadata": {},
   "source": [
    "On calcule le **F1-score**, c'est une combinaison de la précision et du recall, en calculant la moyenne harmonique entre les deux. Son but est **d'étudier l'équilibre entre la precision et le recall.**"
   ]
  },
  {
   "cell_type": "code",
   "execution_count": 28,
   "id": "ff22fa74",
   "metadata": {},
   "outputs": [
    {
     "name": "stdout",
     "output_type": "stream",
     "text": [
      "notre model a un F1-score de 76.12%, ce qui signifie que il y a un excellent equilibre entre le recall et la précision.\n"
     ]
    }
   ],
   "source": [
    "f1score=f1_score(y_test,y_pred)\n",
    "print(f\"notre model a un F1-score de {round(f1score*100,2)}%, ce qui signifie que il y a un excellent equilibre entre le recall et la précision.\")"
   ]
  },
  {
   "cell_type": "markdown",
   "id": "5d62ff0c",
   "metadata": {},
   "source": [
    "## Courbe ROC-AUC\n",
    "Dans le contexte d'une classification binaire, il est essentiel d'utiliser la courbe ROC-AUC pour évaluer notre modèle. Nous allons examiner deux aspects :\n",
    "\n",
    "- **ROC (Receiver Operating Characteristic)**: Cette courbe illustre le rapport entre le taux de vrais positifs et le taux de faux positifs. Elle permet de visualiser la capacité du modèle à discriminer entre les deux classes.\n",
    "\n",
    "- **AUC (Area Under the Curve)**: C'est une mesure qui résume la courbe ROC en calculant l'aire sous celle-ci et au-dessus de la diagonale qui va du coin inférieur gauche au coin supérieur droit du graphique. Un score AUC proche de 1 indique que notre modèle fait des prédictions presque parfaites. En revanche, un score proche de 0,5 suggère que nos prédictions sont principalement due au hasard, ce qui signifie que le modèle n'apprend pas de manière efficace.\n",
    "\n",
    "L'objectif de ces mesures est de déterminer à quel point notre modèle est efficace dans la tâche de classification binaire."
   ]
  },
  {
   "cell_type": "markdown",
   "id": "d5cb9735",
   "metadata": {},
   "source": [
    "On définit le score ROC-AUC."
   ]
  },
  {
   "cell_type": "code",
   "execution_count": 29,
   "id": "90529cad",
   "metadata": {},
   "outputs": [
    {
     "data": {
      "text/plain": [
       "0.7494233781608055"
      ]
     },
     "execution_count": 29,
     "metadata": {},
     "output_type": "execute_result"
    }
   ],
   "source": [
    "roc_auc=roc_auc_score(y_test,y_pred)\n",
    "roc_auc"
   ]
  },
  {
   "cell_type": "code",
   "execution_count": 30,
   "id": "259c0a0f",
   "metadata": {},
   "outputs": [
    {
     "name": "stdout",
     "output_type": "stream",
     "text": [
      "Le modèle a donc une score ROC-AUC de 0.7494233781608055 ce qui est très proche de 1, donc le modèle a une excellente capacité à différencier entres les Fake et les vrais news.\n"
     ]
    }
   ],
   "source": [
    "print(f\"Le modèle a donc une score ROC-AUC de {roc_auc} ce qui est très proche de 1, donc le modèle a une excellente capacité à différencier entres les Fake et les vrais news.\")"
   ]
  },
  {
   "cell_type": "markdown",
   "id": "c535e511",
   "metadata": {},
   "source": [
    "Avec une valeur aussi élevée, nous pouvons être confiants dans le fait que notre modèle est extrêmement précis et fiable pour notre tâche de classification, avec très peu de faux positifs et de faux négatifs. Cela indique que notre modèle fait des erreurs de prédiction minimales. Nous allons maintenant procéder à la représentation graphique de la courbe ROC-AUC."
   ]
  },
  {
   "cell_type": "code",
   "execution_count": 31,
   "id": "1dbef3f1",
   "metadata": {},
   "outputs": [
    {
     "data": {
      "image/png": "[encoded data removed]",
      "text/plain": [
       "<Figure size 432x288 with 1 Axes>"
      ]
     },
     "metadata": {
      "needs_background": "light"
     },
     "output_type": "display_data"
    }
   ],
   "source": [
    "fpr, tpr, _ = roc_curve(y_test, y_pred)\n",
    "plt.figure()\n",
    "plt.plot(fpr, tpr, color='darkorange', lw=2, label=f'ROC curve (AUC = {roc_auc:.2f})')\n",
    "plt.plot([0, 1], [0, 1], color='navy', lw=2, linestyle='--')\n",
    "plt.xlabel('Taux de Faux Positives (%)')\n",
    "plt.ylabel('Taux de Vrai Positives (%)')\n",
    "plt.title('Receiver Operating Characteristic (ROC)')\n",
    "plt.legend(loc=\"lower right\")\n",
    "plt.show()"
   ]
  },
  {
   "cell_type": "markdown",
   "id": "7ee03734",
   "metadata": {},
   "source": [
    "L'axe des abscisses (axe x) représente le taux de faux positifs, c'est-à-dire le pourcentage de vraies nouvelles que notre modèle a incorrectement classifiées comme fausses (Fake News).\n",
    "\n",
    "L'axe des ordonnées (axe y) indique le taux de vrais positifs, qui correspond au pourcentage de fausses nouvelles que notre modèle a correctement identifiées comme telles.\n",
    "\n",
    "La courbe montante vers le coin supérieur gauche du graphique suggère que le modèle parvient à maintenir un taux élevé de vrais positifs tout en minimisant le taux de faux positifs, ce qui est le comportement idéal pour un classificateur. \n",
    "Cette représentation représente la robustesse du mdoèle."
   ]
  },
  {
   "cell_type": "markdown",
   "id": "d1df9f5c",
   "metadata": {},
   "source": [
    "# Test de performances sur des données générées par Téléchargé ailleurs"
   ]
  },
  {
   "cell_type": "code",
   "execution_count": 32,
   "id": "4a18ebbc",
   "metadata": {},
   "outputs": [
    {
     "data": {
      "text/html": [
       "<div>\n",
       "<style scoped>\n",
       "    .dataframe tbody tr th:only-of-type {\n",
       "        vertical-align: middle;\n",
       "    }\n",
       "\n",
       "    .dataframe tbody tr th {\n",
       "        vertical-align: top;\n",
       "    }\n",
       "\n",
       "    .dataframe thead th {\n",
       "        text-align: right;\n",
       "    }\n",
       "</style>\n",
       "<table border=\"1\" class=\"dataframe\">\n",
       "  <thead>\n",
       "    <tr style=\"text-align: right;\">\n",
       "      <th></th>\n",
       "      <th>Unnamed: 0</th>\n",
       "      <th>text</th>\n",
       "      <th>isFake</th>\n",
       "    </tr>\n",
       "  </thead>\n",
       "  <tbody>\n",
       "    <tr>\n",
       "      <th>0</th>\n",
       "      <td>0</td>\n",
       "      <td>Daniel Greenfield, a Shillman Journalism Fello...</td>\n",
       "      <td>False</td>\n",
       "    </tr>\n",
       "    <tr>\n",
       "      <th>1</th>\n",
       "      <td>1</td>\n",
       "      <td>Google Pinterest Digg Linkedin Reddit Stumbleu...</td>\n",
       "      <td>False</td>\n",
       "    </tr>\n",
       "    <tr>\n",
       "      <th>2</th>\n",
       "      <td>2</td>\n",
       "      <td>U.S. Secretary of State John F. Kerry said Mon...</td>\n",
       "      <td>True</td>\n",
       "    </tr>\n",
       "    <tr>\n",
       "      <th>3</th>\n",
       "      <td>3</td>\n",
       "      <td>— Kaydee King (@KaydeeKing) November 9, 2016 T...</td>\n",
       "      <td>False</td>\n",
       "    </tr>\n",
       "    <tr>\n",
       "      <th>4</th>\n",
       "      <td>4</td>\n",
       "      <td>It's primary day in New York and front-runners...</td>\n",
       "      <td>True</td>\n",
       "    </tr>\n",
       "  </tbody>\n",
       "</table>\n",
       "</div>"
      ],
      "text/plain": [
       "   Unnamed: 0                                               text  isFake\n",
       "0           0  Daniel Greenfield, a Shillman Journalism Fello...   False\n",
       "1           1  Google Pinterest Digg Linkedin Reddit Stumbleu...   False\n",
       "2           2  U.S. Secretary of State John F. Kerry said Mon...    True\n",
       "3           3  — Kaydee King (@KaydeeKing) November 9, 2016 T...   False\n",
       "4           4  It's primary day in New York and front-runners...    True"
      ]
     },
     "execution_count": 32,
     "metadata": {},
     "output_type": "execute_result"
    }
   ],
   "source": [
    "validation_data=pd.read_csv(\"data/validation_data.csv\",nrows=nrows)\n",
    "validation_data.head()"
   ]
  },
  {
   "cell_type": "code",
   "execution_count": 33,
   "id": "8df89c5f",
   "metadata": {},
   "outputs": [],
   "source": [
    "validation_data=validation_data[['text','isFake']]"
   ]
  },
  {
   "cell_type": "code",
   "execution_count": 34,
   "id": "30ad5a2e",
   "metadata": {},
   "outputs": [],
   "source": [
    "# Prepare the data\n",
    "validation_data_X = validation_data['text'].apply(lambda x: x.lower())  # the text data\n",
    "validation_data_y = validation_data['isFake']\n",
    "\n",
    "# Tokenize the data using the BERT tokenizer\n",
    "encoded_inputs = tokenizer(validation_data_X.tolist(), padding=True, truncation=True, max_length=max_seq_length, return_tensors='np')\n",
    "\n",
    "# Get the input IDs and attention masks\n",
    "input_ids = encoded_inputs['input_ids']\n",
    "attention_masks = encoded_inputs['attention_mask']\n",
    "\n",
    "# Use the trained model to make predictions on the dataset\n",
    "predictions = best_model.predict(input_ids)\n"
   ]
  },
  {
   "cell_type": "code",
   "execution_count": 35,
   "id": "478533f2",
   "metadata": {},
   "outputs": [
    {
     "name": "stdout",
     "output_type": "stream",
     "text": [
      "Accuracy different Dataset: 50.370955011838994%\n"
     ]
    }
   ],
   "source": [
    "#we print the accuracy of the model\n",
    "accuracy = accuracy_score(validation_data_y, predictions)\n",
    "print(f\"Accuracy different Dataset: {accuracy*100}%\")"
   ]
  },
  {
   "cell_type": "code",
   "execution_count": 36,
   "id": "7c6550b8",
   "metadata": {},
   "outputs": [
    {
     "data": {
      "image/png": "[encoded data removed]",
      "text/plain": [
       "<Figure size 432x288 with 2 Axes>"
      ]
     },
     "metadata": {
      "needs_background": "light"
     },
     "output_type": "display_data"
    }
   ],
   "source": [
    "cm = confusion_matrix(validation_data_y,predictions)\n",
    "#représentation graphique du résultat du meilleure model\n",
    "sns.heatmap(cm, annot=True)\n",
    "plt.xlabel('Les labels prédits')\n",
    "plt.ylabel('Les vrais labels')\n",
    "plt.title('Matrice de confusion')\n",
    "plt.show()"
   ]
  },
  {
   "cell_type": "code",
   "execution_count": 37,
   "id": "ab64d952",
   "metadata": {},
   "outputs": [
    {
     "name": "stdout",
     "output_type": "stream",
     "text": [
      "True Negative: 12.296764009471191%\n",
      "False Positive: 37.64798737174428%\n",
      "False Negative: 11.981057616416733%\n",
      "True Positive: 38.0741910023678%\n"
     ]
    }
   ],
   "source": [
    "#we print the percentage of True Positive, True Negative, False Positive and False Negative\n",
    "tn, fp, fn, tp = cm.ravel()\n",
    "total_samples = tn + fp + fn + tp\n",
    "true_negative_percentage = (tn / total_samples) * 100\n",
    "false_positive_percentage = (fp / total_samples) * 100\n",
    "false_negative_percentage = (fn / total_samples) * 100\n",
    "true_positive_percentage = (tp / total_samples) * 100\n",
    "\n",
    "print(f\"True Negative: {true_negative_percentage}%\")\n",
    "print(f\"False Positive: {false_positive_percentage}%\")\n",
    "print(f\"False Negative: {false_negative_percentage}%\")\n",
    "print(f\"True Positive: {true_positive_percentage}%\")"
   ]
  },
  {
   "cell_type": "markdown",
   "id": "9ed98ec1",
   "metadata": {},
   "source": [
    "# Conclusion"
   ]
  },
  {
   "cell_type": "markdown",
   "id": "034d2e33",
   "metadata": {},
   "source": [
    "les évaluations et analyses approfondies de notre modèle confirment qu'il est extrêmement efficace et fiable pour l'identification des fake news. Ses performances élevées sur plusieurs métriques clés (accuracy,precision,recall,F1-score et ROC-AUC) démontrent sa capacité à fournir des prédictions précises et équilibrées, confortant notre choix d'utiliser ce modèle pour cette tache."
   ]
  }
 ],
 "metadata": {
  "kernelspec": {
   "display_name": "Python 3 (ipykernel)",
   "language": "python",
   "name": "python3"
  },
  "language_info": {
   "codemirror_mode": {
    "name": "ipython",
    "version": 3
   },
   "file_extension": ".py",
   "mimetype": "text/x-python",
   "name": "python",
   "nbconvert_exporter": "python",
   "pygments_lexer": "ipython3",
   "version": "3.8.3"
  }
 },
 "nbformat": 4,
 "nbformat_minor": 5
}
